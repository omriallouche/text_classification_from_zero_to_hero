{
 "cells": [
  {
   "cell_type": "markdown",
   "metadata": {},
   "source": [
    "# Bag of Words and Tf-Idf\n",
    "## Part 2 of the Workshop \"Text Classification - From Zero to Hero\", by Dr. Omri Allouche, Gong.io, Bar Ilan University\n",
    "In this notebook, we perform a very basic EDA (Exploratory Data Analysis) of the dataset, and build a basic classifier using Tf-Idf encoding."
   ]
  },
  {
   "cell_type": "code",
   "execution_count": 104,
   "metadata": {},
   "outputs": [],
   "source": [
    "import pandas as pd\n",
    "import numpy as np\n",
    "import matplotlib.pyplot as plt\n",
    "import seaborn as sns\n",
    "plt.rcParams['figure.figsize'] = (12, 8)\n",
    "plt.rcParams[\"axes.labelsize\"] = 15"
   ]
  },
  {
   "cell_type": "code",
   "execution_count": 105,
   "metadata": {},
   "outputs": [
    {
     "data": {
      "text/html": [
       "<div>\n",
       "<style scoped>\n",
       "    .dataframe tbody tr th:only-of-type {\n",
       "        vertical-align: middle;\n",
       "    }\n",
       "\n",
       "    .dataframe tbody tr th {\n",
       "        vertical-align: top;\n",
       "    }\n",
       "\n",
       "    .dataframe thead th {\n",
       "        text-align: right;\n",
       "    }\n",
       "</style>\n",
       "<table border=\"1\" class=\"dataframe\">\n",
       "  <thead>\n",
       "    <tr style=\"text-align: right;\">\n",
       "      <th></th>\n",
       "      <th>label</th>\n",
       "      <th>text</th>\n",
       "      <th>num_chars</th>\n",
       "    </tr>\n",
       "  </thead>\n",
       "  <tbody>\n",
       "    <tr>\n",
       "      <th>0</th>\n",
       "      <td>talk.politics.mideast</td>\n",
       "      <td>^^^^^^^^^^^^^^^^^^^^^^^^^^^^^^^^^^^^ ^^^^^^^^^...</td>\n",
       "      <td>380</td>\n",
       "    </tr>\n",
       "    <tr>\n",
       "      <th>1</th>\n",
       "      <td>rec.sport.baseball</td>\n",
       "      <td>probably because everyone (that is, everyone w...</td>\n",
       "      <td>352</td>\n",
       "    </tr>\n",
       "    <tr>\n",
       "      <th>2</th>\n",
       "      <td>talk.politics.mideast</td>\n",
       "      <td>[deleted] it's noteworthy that the posts about...</td>\n",
       "      <td>303</td>\n",
       "    </tr>\n",
       "    <tr>\n",
       "      <th>3</th>\n",
       "      <td>rec.sport.hockey</td>\n",
       "      <td>wood played most of his junior career in seatt...</td>\n",
       "      <td>337</td>\n",
       "    </tr>\n",
       "    <tr>\n",
       "      <th>4</th>\n",
       "      <td>talk.politics.mideast</td>\n",
       "      <td>the litani river flows in a west-southwestern ...</td>\n",
       "      <td>314</td>\n",
       "    </tr>\n",
       "  </tbody>\n",
       "</table>\n",
       "</div>"
      ],
      "text/plain": [
       "                   label                                               text  \\\n",
       "0  talk.politics.mideast  ^^^^^^^^^^^^^^^^^^^^^^^^^^^^^^^^^^^^ ^^^^^^^^^...   \n",
       "1     rec.sport.baseball  probably because everyone (that is, everyone w...   \n",
       "2  talk.politics.mideast  [deleted] it's noteworthy that the posts about...   \n",
       "3       rec.sport.hockey  wood played most of his junior career in seatt...   \n",
       "4  talk.politics.mideast  the litani river flows in a west-southwestern ...   \n",
       "\n",
       "   num_chars  \n",
       "0        380  \n",
       "1        352  \n",
       "2        303  \n",
       "3        337  \n",
       "4        314  "
      ]
     },
     "execution_count": 105,
     "metadata": {},
     "output_type": "execute_result"
    }
   ],
   "source": [
    "df = pd.read_csv('data/train.csv')\n",
    "df.head()"
   ]
  },
  {
   "cell_type": "code",
   "execution_count": 106,
   "metadata": {},
   "outputs": [
    {
     "data": {
      "text/plain": [
       "rec.sport.hockey         101\n",
       "rec.sport.baseball        91\n",
       "talk.politics.guns        90\n",
       "talk.politics.mideast     85\n",
       "Name: label, dtype: int64"
      ]
     },
     "execution_count": 106,
     "metadata": {},
     "output_type": "execute_result"
    }
   ],
   "source": [
    "df['label'].value_counts()"
   ]
  },
  {
   "cell_type": "markdown",
   "metadata": {},
   "source": [
    "Now let's fit a Tf-Idf vectorizer to these documents. We'll remove English stopwords, and check the words that have the highest Tfidf score for each class:"
   ]
  },
  {
   "cell_type": "code",
   "execution_count": 107,
   "metadata": {},
   "outputs": [
    {
     "data": {
      "text/plain": [
       "(367, 4021)"
      ]
     },
     "execution_count": 107,
     "metadata": {},
     "output_type": "execute_result"
    }
   ],
   "source": [
    "from sklearn.feature_extraction.text import TfidfVectorizer\n",
    "vectorizer = TfidfVectorizer(stop_words='english')\n",
    "\n",
    "df_train = pd.read_csv('data/train.csv')\n",
    "vectors = vectorizer.fit_transform(df_train['text'])\n",
    "vectors.shape"
   ]
  },
  {
   "cell_type": "code",
   "execution_count": 108,
   "metadata": {},
   "outputs": [],
   "source": [
    "df_train['tfidf'] = list(vectors.toarray())"
   ]
  },
  {
   "cell_type": "code",
   "execution_count": 109,
   "metadata": {},
   "outputs": [
    {
     "name": "stdout",
     "output_type": "stream",
     "text": [
      "rec.sport.baseball\n",
      "['don', 'team', 'think', 'good', 'baseball', 'day', 'mail', 'game', 'know', 'year', 'hit', 'ball', 'win', 'list', 'time', 'pretty', 'did', 'players', 'braves', 'games']\n",
      "\n",
      "rec.sport.hockey\n",
      "['game', 'espn', 'games', 'team', 'don', 'hockey', 'year', 'good', 'caps', 'time', 'like', 'season', 'know', 'just', 'blues', 'hawks', 'playoffs', 'sure', 'buffalo', 'wings']\n",
      "\n",
      "talk.politics.guns\n",
      "['fbi', 'gun', 'compound', 'just', 'people', 'com', 'batf', 'children', 'government', 'bd', 'like', 'know', 'did', 'weapons', 'feustel', 'gas', 'waco', 'control', 'law', 'tell']\n",
      "\n",
      "talk.politics.mideast\n",
      "['israel', 'jews', 'people', 'think', 'just', 'israeli', 'arabs', 'arab', 'does', 'don', 'peace', 'like', 'need', 'kill', 'west', 'palestinian', 'calling', 'article', 'say', 'anti']\n",
      "\n"
     ]
    }
   ],
   "source": [
    "inverse_vocab = {v: k for k,v in vectorizer.vocabulary_.items()}\n",
    "top_terms = df_train.groupby('label')['tfidf'].apply(lambda x: x.sum(axis=0))\n",
    "for i,r in top_terms.iteritems():\n",
    "    print(i)\n",
    "    print([inverse_vocab[x] for x in np.argsort(r)[-20:][::-1]])\n",
    "    print()"
   ]
  },
  {
   "cell_type": "markdown",
   "metadata": {},
   "source": [
    "### Basic Classifier\n",
    "Next, let's build a basic classifier. Let's use the Multinomial Naive Bayes.\n",
    "\n",
    "We'll first fit the model on the train set:"
   ]
  },
  {
   "cell_type": "code",
   "execution_count": 149,
   "metadata": {},
   "outputs": [
    {
     "data": {
      "text/plain": [
       "MultinomialNB(alpha=1.0, class_prior=None, fit_prior=True)"
      ]
     },
     "execution_count": 149,
     "metadata": {},
     "output_type": "execute_result"
    }
   ],
   "source": [
    "from sklearn.naive_bayes import BernoulliNB, MultinomialNB, GaussianNB\n",
    "from sklearn import metrics\n",
    "\n",
    "# We use the vectorizer we fitted earlier to transform the textual string into \n",
    "vectors = vectorizer.transform(df_train['text'])\n",
    "vectors = vectors.toarray()\n",
    "clf = MultinomialNB()\n",
    "clf.fit(vectors, df_train['label'])"
   ]
  },
  {
   "cell_type": "markdown",
   "metadata": {},
   "source": [
    "And then predict and evaluate performance on the validation set:"
   ]
  },
  {
   "cell_type": "code",
   "execution_count": 150,
   "metadata": {},
   "outputs": [
    {
     "data": {
      "text/plain": [
       "rec.sport.hockey         101\n",
       "rec.sport.baseball        91\n",
       "talk.politics.guns        90\n",
       "talk.politics.mideast     85\n",
       "Name: label, dtype: int64"
      ]
     },
     "execution_count": 150,
     "metadata": {},
     "output_type": "execute_result"
    }
   ],
   "source": [
    "df['label'].value_counts()"
   ]
  },
  {
   "cell_type": "code",
   "execution_count": 151,
   "metadata": {},
   "outputs": [],
   "source": [
    "df_val = pd.read_csv('data/val.csv')\n",
    "y_truth = df_val['label']\n",
    "vectors_val = vectorizer.transform(df_val['text'])\n",
    "vectors_val = vectors_val.toarray()\n",
    "y_predict_proba = clf.predict_proba(vectors_val)\n",
    "y_predict = clf.predict(vectors_val)"
   ]
  },
  {
   "cell_type": "code",
   "execution_count": 152,
   "metadata": {},
   "outputs": [
    {
     "data": {
      "text/plain": [
       "0.7546265328874024"
      ]
     },
     "execution_count": 152,
     "metadata": {},
     "output_type": "execute_result"
    }
   ],
   "source": [
    "metrics.f1_score(y_truth, y_predict, average='macro')"
   ]
  },
  {
   "cell_type": "markdown",
   "metadata": {},
   "source": [
    "We see that even a simple model performs pretty well. Let's examine the most important features for each class:"
   ]
  },
  {
   "cell_type": "code",
   "execution_count": 153,
   "metadata": {},
   "outputs": [
    {
     "name": "stdout",
     "output_type": "stream",
     "text": [
      "rec.sport.baseball\n",
      "games, braves, players, did, pretty, time, list, win, ball, hit, year, know, game, mail, day, baseball, good, think, team, don\n",
      "\n",
      "rec.sport.hockey\n",
      "wings, buffalo, sure, playoffs, hawks, blues, just, know, season, like, time, caps, good, year, hockey, don, team, games, espn, game\n",
      "\n",
      "talk.politics.guns\n",
      "tell, law, control, waco, gas, feustel, weapons, did, know, like, bd, government, children, batf, com, people, just, compound, gun, fbi\n",
      "\n",
      "talk.politics.mideast\n",
      "anti, say, article, calling, palestinian, west, kill, need, like, peace, don, does, arab, arabs, israeli, just, think, people, jews, israel\n",
      "\n"
     ]
    }
   ],
   "source": [
    "def show_top_terms(classifier, vectorizer):\n",
    "    feature_names = np.asarray(vectorizer.get_feature_names())\n",
    "    for i in range(len(classifier.classes_)):\n",
    "        top_terms = np.argsort(classifier.coef_[i])[-20:]\n",
    "        print(classifier.classes_[i])\n",
    "        print(\", \".join(feature_names[top_terms]))\n",
    "        print()\n",
    "\n",
    "show_top_terms(clf, vectorizer)"
   ]
  },
  {
   "cell_type": "markdown",
   "metadata": {},
   "source": [
    "Let's further examine the classification report and the confusion matrix:"
   ]
  },
  {
   "cell_type": "code",
   "execution_count": 154,
   "metadata": {},
   "outputs": [],
   "source": [
    "from model_evaluation_utils import *"
   ]
  },
  {
   "cell_type": "code",
   "execution_count": 155,
   "metadata": {},
   "outputs": [
    {
     "name": "stdout",
     "output_type": "stream",
     "text": [
      "                       precision    recall  f1-score   support\n",
      "\n",
      "   rec.sport.baseball       0.73      0.53      0.62        15\n",
      "     rec.sport.hockey       0.64      1.00      0.78        18\n",
      "   talk.politics.guns       0.78      0.82      0.80        22\n",
      "talk.politics.mideast       1.00      0.70      0.82        23\n",
      "\n",
      "            micro avg       0.77      0.77      0.77        78\n",
      "            macro avg       0.79      0.76      0.75        78\n",
      "         weighted avg       0.80      0.77      0.77        78\n",
      "\n"
     ]
    }
   ],
   "source": [
    "from sklearn import metrics\n",
    "print(metrics.classification_report(y_truth, y_predict))"
   ]
  },
  {
   "cell_type": "code",
   "execution_count": 156,
   "metadata": {},
   "outputs": [
    {
     "name": "stdout",
     "output_type": "stream",
     "text": [
      "Normalized confusion matrix\n",
      "[[0.53333333 0.33333333 0.13333333 0.        ]\n",
      " [0.         1.         0.         0.        ]\n",
      " [0.04545455 0.13636364 0.81818182 0.        ]\n",
      " [0.08695652 0.08695652 0.13043478 0.69565217]]\n"
     ]
    },
    {
     "data": {
      "image/png": "[encoded data removed]",
      "text/plain": [
       "<Figure size 864x576 with 2 Axes>"
      ]
     },
     "metadata": {
      "needs_background": "light"
     },
     "output_type": "display_data"
    }
   ],
   "source": [
    "plot_confusion_matrix(y_truth, y_predict, normalize=True, title='Normalized confusion matrix - test');"
   ]
  },
  {
   "cell_type": "code",
   "execution_count": 157,
   "metadata": {},
   "outputs": [
    {
     "data": {
      "image/png": "[encoded data removed]",
      "text/plain": [
       "<Figure size 864x576 with 1 Axes>"
      ]
     },
     "metadata": {
      "needs_background": "light"
     },
     "output_type": "display_data"
    }
   ],
   "source": [
    "plot_precision_recall_curve(y_predict_proba, y_truth);"
   ]
  },
  {
   "cell_type": "code",
   "execution_count": 158,
   "metadata": {},
   "outputs": [
    {
     "data": {
      "image/png": "[encoded data removed]",
      "text/plain": [
       "<Figure size 864x576 with 1 Axes>"
      ]
     },
     "metadata": {
      "needs_background": "light"
     },
     "output_type": "display_data"
    }
   ],
   "source": [
    "plot_confidence_performance(y_predict, y_predict_proba, y_truth, num_bins=10);"
   ]
  },
  {
   "cell_type": "markdown",
   "metadata": {},
   "source": [
    "Next, let's perform an error analysis and manually review documents that are wrongly classified. We will focus on documents that have a high model confidence:"
   ]
  },
  {
   "cell_type": "code",
   "execution_count": 159,
   "metadata": {},
   "outputs": [],
   "source": [
    "df_test = pd.read_csv('data/val.csv')\n",
    "y_truth = df_test['label']\n",
    "vectors_val = vectorizer.transform(df_val['text'])\n",
    "y_predict_proba = clf.predict_proba(vectors_val)\n",
    "y_predict = clf.predict(vectors_val)"
   ]
  },
  {
   "cell_type": "code",
   "execution_count": 160,
   "metadata": {},
   "outputs": [],
   "source": [
    "df_test['y_predict'] = clf.predict(vectors_val)\n",
    "df_test['y_predict_proba'] = np.max(clf.predict_proba(vectors_val), axis=1)\n",
    "df_test['is_error'] = (y_predict != y_truth).astype(int)"
   ]
  },
  {
   "cell_type": "code",
   "execution_count": 161,
   "metadata": {},
   "outputs": [
    {
     "data": {
      "text/html": [
       "<div>\n",
       "<style scoped>\n",
       "    .dataframe tbody tr th:only-of-type {\n",
       "        vertical-align: middle;\n",
       "    }\n",
       "\n",
       "    .dataframe tbody tr th {\n",
       "        vertical-align: top;\n",
       "    }\n",
       "\n",
       "    .dataframe thead th {\n",
       "        text-align: right;\n",
       "    }\n",
       "</style>\n",
       "<table border=\"1\" class=\"dataframe\">\n",
       "  <thead>\n",
       "    <tr style=\"text-align: right;\">\n",
       "      <th></th>\n",
       "      <th>label</th>\n",
       "      <th>text</th>\n",
       "      <th>num_chars</th>\n",
       "      <th>y_predict</th>\n",
       "      <th>y_predict_proba</th>\n",
       "      <th>is_error</th>\n",
       "    </tr>\n",
       "  </thead>\n",
       "  <tbody>\n",
       "    <tr>\n",
       "      <th>0</th>\n",
       "      <td>rec.sport.baseball</td>\n",
       "      <td>oh. i forgot. art shamsky, former red and mets...</td>\n",
       "      <td>203</td>\n",
       "      <td>rec.sport.hockey</td>\n",
       "      <td>0.337270</td>\n",
       "      <td>1</td>\n",
       "    </tr>\n",
       "    <tr>\n",
       "      <th>66</th>\n",
       "      <td>talk.politics.mideast</td>\n",
       "      <td>why do you title this \"news you will miss\" ? t...</td>\n",
       "      <td>267</td>\n",
       "      <td>talk.politics.guns</td>\n",
       "      <td>0.313678</td>\n",
       "      <td>1</td>\n",
       "    </tr>\n",
       "    <tr>\n",
       "      <th>49</th>\n",
       "      <td>rec.sport.baseball</td>\n",
       "      <td>well, there were 27 outs in a row with no hits...</td>\n",
       "      <td>308</td>\n",
       "      <td>rec.sport.hockey</td>\n",
       "      <td>0.370528</td>\n",
       "      <td>1</td>\n",
       "    </tr>\n",
       "    <tr>\n",
       "      <th>36</th>\n",
       "      <td>talk.politics.guns</td>\n",
       "      <td>did anyone notice any helicopters equipped wit...</td>\n",
       "      <td>200</td>\n",
       "      <td>rec.sport.baseball</td>\n",
       "      <td>0.296303</td>\n",
       "      <td>1</td>\n",
       "    </tr>\n",
       "    <tr>\n",
       "      <th>35</th>\n",
       "      <td>rec.sport.baseball</td>\n",
       "      <td>: it's i before e except after c, and in peopl...</td>\n",
       "      <td>237</td>\n",
       "      <td>rec.sport.hockey</td>\n",
       "      <td>0.292334</td>\n",
       "      <td>1</td>\n",
       "    </tr>\n",
       "  </tbody>\n",
       "</table>\n",
       "</div>"
      ],
      "text/plain": [
       "                    label                                               text  \\\n",
       "0      rec.sport.baseball  oh. i forgot. art shamsky, former red and mets...   \n",
       "66  talk.politics.mideast  why do you title this \"news you will miss\" ? t...   \n",
       "49     rec.sport.baseball  well, there were 27 outs in a row with no hits...   \n",
       "36     talk.politics.guns  did anyone notice any helicopters equipped wit...   \n",
       "35     rec.sport.baseball  : it's i before e except after c, and in peopl...   \n",
       "\n",
       "    num_chars           y_predict  y_predict_proba  is_error  \n",
       "0         203    rec.sport.hockey         0.337270         1  \n",
       "66        267  talk.politics.guns         0.313678         1  \n",
       "49        308    rec.sport.hockey         0.370528         1  \n",
       "36        200  rec.sport.baseball         0.296303         1  \n",
       "35        237    rec.sport.hockey         0.292334         1  "
      ]
     },
     "execution_count": 161,
     "metadata": {},
     "output_type": "execute_result"
    }
   ],
   "source": [
    "df_test.sort_values('is_error', ascending=False).head()"
   ]
  },
  {
   "cell_type": "code",
   "execution_count": 162,
   "metadata": {},
   "outputs": [],
   "source": [
    "def print_document(r):    \n",
    "    print('Document #{}. \\nTrue label: {}. \\nPredicted: {} (confidence: {:.1%})'.format(\n",
    "        r.name,\n",
    "        r['label'], \n",
    "        r['y_predict'],\n",
    "        r['y_predict_proba']\n",
    "    ))\n",
    "    print()\n",
    "    print(r['text'])"
   ]
  },
  {
   "cell_type": "code",
   "execution_count": 163,
   "metadata": {},
   "outputs": [
    {
     "data": {
      "application/vnd.jupyter.widget-view+json": {
       "model_id": "4d3fb78b81864a06bb279b3d5bab0acc",
       "version_major": 2,
       "version_minor": 0
      },
      "text/plain": [
       "interactive(children=(IntSlider(value=39, description='i', max=78), Output()), _dom_classes=('widget-interact'…"
      ]
     },
     "metadata": {},
     "output_type": "display_data"
    }
   ],
   "source": [
    "from ipywidgets import interact\n",
    "\n",
    "@interact(i=(0,len(df_test)))\n",
    "def explore_doc(i):\n",
    "    print_document(df_test.iloc[i])"
   ]
  },
  {
   "cell_type": "code",
   "execution_count": 164,
   "metadata": {},
   "outputs": [
    {
     "data": {
      "text/plain": [
       "(0, 600)"
      ]
     },
     "execution_count": 164,
     "metadata": {},
     "output_type": "execute_result"
    },
    {
     "data": {
      "image/png": "[encoded data removed]",
      "text/plain": [
       "<Figure size 864x576 with 1 Axes>"
      ]
     },
     "metadata": {
      "needs_background": "light"
     },
     "output_type": "display_data"
    }
   ],
   "source": [
    "sns.boxplot(data=df_test, x='is_error', y='num_chars')\n",
    "plt.ylim(0,600)"
   ]
  },
  {
   "cell_type": "code",
   "execution_count": 165,
   "metadata": {},
   "outputs": [
    {
     "data": {
      "image/png": "[encoded data removed]",
      "text/plain": [
       "<Figure size 864x576 with 1 Axes>"
      ]
     },
     "metadata": {
      "needs_background": "light"
     },
     "output_type": "display_data"
    }
   ],
   "source": [
    "ax = sns.regplot(data=df_test, x='num_chars', y=df_test['is_error'], x_bins=10)\n",
    "plt.xlabel('Document length (chars)');\n",
    "plt.ylabel('% Errors');"
   ]
  },
  {
   "cell_type": "code",
   "execution_count": null,
   "metadata": {},
   "outputs": [],
   "source": []
  }
 ],
 "metadata": {
  "kernelspec": {
   "display_name": "Python 3",
   "language": "python",
   "name": "python3"
  },
  "language_info": {
   "codemirror_mode": {
    "name": "ipython",
    "version": 3
   },
   "file_extension": ".py",
   "mimetype": "text/x-python",
   "name": "python",
   "nbconvert_exporter": "python",
   "pygments_lexer": "ipython3",
   "version": "3.7.3"
  }
 },
 "nbformat": 4,
 "nbformat_minor": 2
}
