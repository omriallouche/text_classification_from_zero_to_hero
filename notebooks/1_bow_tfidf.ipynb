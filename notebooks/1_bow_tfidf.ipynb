{
 "cells": [
  {
   "cell_type": "code",
   "execution_count": null,
   "metadata": {},
   "outputs": [],
   "source": [
    "!git clone https://github.com/omriallouche/text_classification_from_zero_to_hero.git\n",
    "import os\n",
    "os.chdir('text_classification_from_zero_to_hero')"
   ]
  },
  {
   "cell_type": "markdown",
   "metadata": {},
   "source": [
    "# Bag of Words and Tf-Idf\n",
    "## Part 2 of the Workshop \"Text Classification - From Zero to Hero\", by Dr. Omri Allouche, Gong.io, Bar Ilan University\n",
    "In this notebook, we perform a very basic EDA (Exploratory Data Analysis) of the dataset, and build a basic classifier using Tf-Idf encoding."
   ]
  },
  {
   "cell_type": "code",
   "execution_count": 1,
   "metadata": {},
   "outputs": [],
   "source": [
    "import pandas as pd\n",
    "import numpy as np\n",
    "import matplotlib.pyplot as plt\n",
    "import seaborn as sns\n",
    "plt.rcParams['figure.figsize'] = (12, 8)\n",
    "plt.rcParams[\"axes.labelsize\"] = 15"
   ]
  },
  {
   "cell_type": "code",
   "execution_count": 2,
   "metadata": {},
   "outputs": [
    {
     "data": {
      "text/html": [
       "<div>\n",
       "<style scoped>\n",
       "    .dataframe tbody tr th:only-of-type {\n",
       "        vertical-align: middle;\n",
       "    }\n",
       "\n",
       "    .dataframe tbody tr th {\n",
       "        vertical-align: top;\n",
       "    }\n",
       "\n",
       "    .dataframe thead th {\n",
       "        text-align: right;\n",
       "    }\n",
       "</style>\n",
       "<table border=\"1\" class=\"dataframe\">\n",
       "  <thead>\n",
       "    <tr style=\"text-align: right;\">\n",
       "      <th></th>\n",
       "      <th>label</th>\n",
       "      <th>text</th>\n",
       "      <th>num_chars</th>\n",
       "    </tr>\n",
       "  </thead>\n",
       "  <tbody>\n",
       "    <tr>\n",
       "      <th>0</th>\n",
       "      <td>talk.politics.mideast</td>\n",
       "      <td>i understand how israel captured the teritory ...</td>\n",
       "      <td>366</td>\n",
       "    </tr>\n",
       "    <tr>\n",
       "      <th>1</th>\n",
       "      <td>talk.politics.guns</td>\n",
       "      <td>and im sure that is a great comfort to the wid...</td>\n",
       "      <td>298</td>\n",
       "    </tr>\n",
       "    <tr>\n",
       "      <th>2</th>\n",
       "      <td>rec.sport.hockey</td>\n",
       "      <td>have a look at ed belfour. belfour kicked gerr...</td>\n",
       "      <td>288</td>\n",
       "    </tr>\n",
       "    <tr>\n",
       "      <th>3</th>\n",
       "      <td>talk.politics.mideast</td>\n",
       "      <td>deleted its noteworthy that the posts about th...</td>\n",
       "      <td>300</td>\n",
       "    </tr>\n",
       "    <tr>\n",
       "      <th>4</th>\n",
       "      <td>rec.sport.baseball</td>\n",
       "      <td>recently, i heard the red sox on wrol a spanis...</td>\n",
       "      <td>365</td>\n",
       "    </tr>\n",
       "  </tbody>\n",
       "</table>\n",
       "</div>"
      ],
      "text/plain": [
       "                   label                                               text  \\\n",
       "0  talk.politics.mideast  i understand how israel captured the teritory ...   \n",
       "1     talk.politics.guns  and im sure that is a great comfort to the wid...   \n",
       "2       rec.sport.hockey  have a look at ed belfour. belfour kicked gerr...   \n",
       "3  talk.politics.mideast  deleted its noteworthy that the posts about th...   \n",
       "4     rec.sport.baseball  recently, i heard the red sox on wrol a spanis...   \n",
       "\n",
       "   num_chars  \n",
       "0        366  \n",
       "1        298  \n",
       "2        288  \n",
       "3        300  \n",
       "4        365  "
      ]
     },
     "execution_count": 2,
     "metadata": {},
     "output_type": "execute_result"
    }
   ],
   "source": [
    "df = pd.read_csv('../data/train.csv')\n",
    "df.head()"
   ]
  },
  {
   "cell_type": "code",
   "execution_count": 3,
   "metadata": {},
   "outputs": [
    {
     "data": {
      "text/plain": [
       "rec.sport.hockey         92\n",
       "talk.politics.guns       91\n",
       "rec.sport.baseball       88\n",
       "talk.politics.mideast    85\n",
       "Name: label, dtype: int64"
      ]
     },
     "execution_count": 3,
     "metadata": {},
     "output_type": "execute_result"
    }
   ],
   "source": [
    "df['label'].value_counts()"
   ]
  },
  {
   "cell_type": "markdown",
   "metadata": {},
   "source": [
    "Now let's fit a Tf-Idf vectorizer to these documents. We'll remove English stopwords, and check the words that have the highest Tfidf score for each class:"
   ]
  },
  {
   "cell_type": "code",
   "execution_count": 9,
   "metadata": {},
   "outputs": [
    {
     "data": {
      "text/plain": [
       "(356, 3973)"
      ]
     },
     "execution_count": 9,
     "metadata": {},
     "output_type": "execute_result"
    }
   ],
   "source": [
    "from sklearn.feature_extraction.text import TfidfVectorizer\n",
    "vectorizer = TfidfVectorizer(stop_words='english')\n",
    "\n",
    "df_train = pd.read_csv('../data/train.csv')\n",
    "vectors = vectorizer.fit_transform(df_train['text'])\n",
    "vectors.shape"
   ]
  },
  {
   "cell_type": "code",
   "execution_count": 20,
   "metadata": {},
   "outputs": [],
   "source": [
    "df_train['tfidf'] = list(vectors.toarray())"
   ]
  },
  {
   "cell_type": "code",
   "execution_count": 22,
   "metadata": {},
   "outputs": [
    {
     "name": "stdout",
     "output_type": "stream",
     "text": [
      "rec.sport.baseball\n",
      "['list', 'think', 'runs', 'team', 'did', 'dont', 'just', 'games', 'year', 'im', 'know', 'players', 'hit', 'good', 'nl', 'league', 'baseball', 'game', 'braves', 'sure']\n",
      "\n",
      "rec.sport.hockey\n",
      "['game', 'games', 'hockey', 'hawks', 'espn', 'team', 'think', 'players', 'know', 'season', 'wings', 'play', 'just', 'ice', 'blues', 'beat', 'leafs', 'like', 'im', 'way']\n",
      "\n",
      "talk.politics.guns\n",
      "['just', 'gun', 'people', 'dont', 'guns', 'children', 'government', 'weapons', 'control', 'com', 'believe', 'did', 'like', 'time', 'dave', 'warrant', 'know', 'note', 'cs', 'evidence']\n",
      "\n",
      "talk.politics.mideast\n",
      "['jews', 'israel', 'arabs', 'just', 'people', 'jewish', 'think', 'know', 'israeli', 'article', 'say', 'form', 'does', 'arab', 'zionism', 'freedom', 'dont', 'steve', 'holocaust', 'adam']\n",
      "\n"
     ]
    }
   ],
   "source": [
    "inverse_vocab = {v: k for k,v in vectorizer.vocabulary_.items()}\n",
    "top_terms = df_train.groupby('label')['tfidf'].apply(lambda x: x.sum(axis=0))\n",
    "for i,r in top_terms.iteritems():\n",
    "    print(i)\n",
    "    print([inverse_vocab[x] for x in np.argsort(r)[-20:][::-1]])\n",
    "    print()"
   ]
  },
  {
   "cell_type": "markdown",
   "metadata": {},
   "source": [
    "### Basic Classifier\n",
    "Next, let's build a basic classifier. Let's use the Multinomial Naive Bayes.\n",
    "\n",
    "We'll first fit the model on the train set:"
   ]
  },
  {
   "cell_type": "code",
   "execution_count": 23,
   "metadata": {},
   "outputs": [
    {
     "data": {
      "text/plain": [
       "MultinomialNB(alpha=1.0, class_prior=None, fit_prior=True)"
      ]
     },
     "execution_count": 23,
     "metadata": {},
     "output_type": "execute_result"
    }
   ],
   "source": [
    "from sklearn.naive_bayes import BernoulliNB, MultinomialNB, GaussianNB\n",
    "from sklearn import metrics\n",
    "\n",
    "# We use the vectorizer we fitted earlier to transform the textual string into \n",
    "vectors = vectorizer.transform(df_train['text'])\n",
    "vectors = vectors.toarray()\n",
    "clf = MultinomialNB()\n",
    "clf.fit(vectors, df_train['label'])"
   ]
  },
  {
   "cell_type": "markdown",
   "metadata": {},
   "source": [
    "And then predict and evaluate performance on the validation set:"
   ]
  },
  {
   "cell_type": "code",
   "execution_count": 24,
   "metadata": {},
   "outputs": [
    {
     "data": {
      "text/plain": [
       "rec.sport.hockey         92\n",
       "talk.politics.guns       91\n",
       "rec.sport.baseball       88\n",
       "talk.politics.mideast    85\n",
       "Name: label, dtype: int64"
      ]
     },
     "execution_count": 24,
     "metadata": {},
     "output_type": "execute_result"
    }
   ],
   "source": [
    "df['label'].value_counts()"
   ]
  },
  {
   "cell_type": "code",
   "execution_count": 26,
   "metadata": {},
   "outputs": [],
   "source": [
    "df_val = pd.read_csv('../data/val.csv')\n",
    "y_truth = df_val['label']\n",
    "vectors_val = vectorizer.transform(df_val['text'])\n",
    "vectors_val = vectors_val.toarray()\n",
    "y_predict_proba = clf.predict_proba(vectors_val)\n",
    "y_predict = clf.predict(vectors_val)"
   ]
  },
  {
   "cell_type": "code",
   "execution_count": 27,
   "metadata": {},
   "outputs": [
    {
     "data": {
      "text/plain": [
       "0.7525962058313386"
      ]
     },
     "execution_count": 27,
     "metadata": {},
     "output_type": "execute_result"
    }
   ],
   "source": [
    "metrics.f1_score(y_truth, y_predict, average='macro')"
   ]
  },
  {
   "cell_type": "code",
   "execution_count": 29,
   "metadata": {},
   "outputs": [
    {
     "data": {
      "text/plain": [
       "0.7631578947368421"
      ]
     },
     "execution_count": 29,
     "metadata": {},
     "output_type": "execute_result"
    }
   ],
   "source": [
    "metrics.accuracy_score(y_truth, y_predict)"
   ]
  },
  {
   "cell_type": "markdown",
   "metadata": {},
   "source": [
    "We see that even a simple model performs pretty well. Let's examine the most important features for each class:"
   ]
  },
  {
   "cell_type": "code",
   "execution_count": 30,
   "metadata": {},
   "outputs": [
    {
     "name": "stdout",
     "output_type": "stream",
     "text": [
      "rec.sport.baseball\n",
      "sure, braves, game, baseball, league, nl, good, hit, players, know, im, year, games, just, dont, did, team, runs, think, list\n",
      "\n",
      "rec.sport.hockey\n",
      "way, im, like, leafs, beat, blues, ice, just, play, wings, season, know, players, think, team, espn, hawks, hockey, games, game\n",
      "\n",
      "talk.politics.guns\n",
      "evidence, cs, note, know, warrant, dave, time, like, did, believe, com, control, weapons, government, children, guns, dont, people, gun, just\n",
      "\n",
      "talk.politics.mideast\n",
      "adam, holocaust, steve, dont, freedom, zionism, arab, does, form, say, article, israeli, know, think, jewish, people, just, arabs, israel, jews\n",
      "\n"
     ]
    }
   ],
   "source": [
    "def show_top_terms(classifier, vectorizer):\n",
    "    feature_names = np.asarray(vectorizer.get_feature_names())\n",
    "    for i in range(len(classifier.classes_)):\n",
    "        top_terms = np.argsort(classifier.coef_[i])[-20:]\n",
    "        print(classifier.classes_[i])\n",
    "        print(\", \".join(feature_names[top_terms]))\n",
    "        print()\n",
    "\n",
    "show_top_terms(clf, vectorizer)"
   ]
  },
  {
   "cell_type": "markdown",
   "metadata": {},
   "source": [
    "Let's further examine the classification report and the confusion matrix:"
   ]
  },
  {
   "cell_type": "code",
   "execution_count": 36,
   "metadata": {},
   "outputs": [],
   "source": [
    "from model_evaluation_utils import plot_confusion_matrix, plot_precision_recall_curve, plot_confidence_performance"
   ]
  },
  {
   "cell_type": "code",
   "execution_count": 37,
   "metadata": {},
   "outputs": [
    {
     "name": "stdout",
     "output_type": "stream",
     "text": [
      "                       precision    recall  f1-score   support\n",
      "\n",
      "   rec.sport.baseball       0.68      0.94      0.79        16\n",
      "     rec.sport.hockey       0.77      0.85      0.81        20\n",
      "   talk.politics.guns       0.81      0.77      0.79        22\n",
      "talk.politics.mideast       0.82      0.50      0.62        18\n",
      "\n",
      "            micro avg       0.76      0.76      0.76        76\n",
      "            macro avg       0.77      0.77      0.75        76\n",
      "         weighted avg       0.78      0.76      0.76        76\n",
      "\n"
     ]
    }
   ],
   "source": [
    "from sklearn import metrics\n",
    "print(metrics.classification_report(y_truth, y_predict))"
   ]
  },
  {
   "cell_type": "code",
   "execution_count": 38,
   "metadata": {},
   "outputs": [
    {
     "name": "stdout",
     "output_type": "stream",
     "text": [
      "Normalized confusion matrix\n",
      "[[0.9375     0.0625     0.         0.        ]\n",
      " [0.1        0.85       0.05       0.        ]\n",
      " [0.04545455 0.09090909 0.77272727 0.09090909]\n",
      " [0.22222222 0.11111111 0.16666667 0.5       ]]\n"
     ]
    },
    {
     "data": {
      "image/png": "[encoded data removed]",
      "text/plain": [
       "<Figure size 432x288 with 2 Axes>"
      ]
     },
     "metadata": {
      "needs_background": "light"
     },
     "output_type": "display_data"
    }
   ],
   "source": [
    "plot_confusion_matrix(y_truth, y_predict, normalize=True, title='Normalized confusion matrix - test');"
   ]
  },
  {
   "cell_type": "code",
   "execution_count": 39,
   "metadata": {},
   "outputs": [
    {
     "data": {
      "image/png": "[encoded data removed]",
      "text/plain": [
       "<Figure size 432x288 with 1 Axes>"
      ]
     },
     "metadata": {
      "needs_background": "light"
     },
     "output_type": "display_data"
    }
   ],
   "source": [
    "plot_precision_recall_curve(y_predict_proba, y_truth);"
   ]
  },
  {
   "cell_type": "code",
   "execution_count": 40,
   "metadata": {},
   "outputs": [
    {
     "data": {
      "image/png": "[encoded data removed]",
      "text/plain": [
       "<Figure size 432x288 with 1 Axes>"
      ]
     },
     "metadata": {
      "needs_background": "light"
     },
     "output_type": "display_data"
    }
   ],
   "source": [
    "plot_confidence_performance(y_predict, y_predict_proba, y_truth, num_bins=10);"
   ]
  },
  {
   "cell_type": "markdown",
   "metadata": {},
   "source": [
    "Next, let's perform an error analysis and manually review documents that are wrongly classified. We will focus on documents that have a high model confidence:"
   ]
  },
  {
   "cell_type": "code",
   "execution_count": 42,
   "metadata": {},
   "outputs": [],
   "source": [
    "df_test = pd.read_csv('../data/val.csv')\n",
    "y_truth = df_test['label']\n",
    "vectors_val = vectorizer.transform(df_val['text'])\n",
    "y_predict_proba = clf.predict_proba(vectors_val)\n",
    "y_predict = clf.predict(vectors_val)"
   ]
  },
  {
   "cell_type": "code",
   "execution_count": 43,
   "metadata": {},
   "outputs": [],
   "source": [
    "df_test['y_predict'] = clf.predict(vectors_val)\n",
    "df_test['y_predict_proba'] = np.max(clf.predict_proba(vectors_val), axis=1)\n",
    "df_test['is_error'] = (y_predict != y_truth).astype(int)"
   ]
  },
  {
   "cell_type": "code",
   "execution_count": 44,
   "metadata": {},
   "outputs": [
    {
     "data": {
      "text/html": [
       "<div>\n",
       "<style scoped>\n",
       "    .dataframe tbody tr th:only-of-type {\n",
       "        vertical-align: middle;\n",
       "    }\n",
       "\n",
       "    .dataframe tbody tr th {\n",
       "        vertical-align: top;\n",
       "    }\n",
       "\n",
       "    .dataframe thead th {\n",
       "        text-align: right;\n",
       "    }\n",
       "</style>\n",
       "<table border=\"1\" class=\"dataframe\">\n",
       "  <thead>\n",
       "    <tr style=\"text-align: right;\">\n",
       "      <th></th>\n",
       "      <th>label</th>\n",
       "      <th>text</th>\n",
       "      <th>num_chars</th>\n",
       "      <th>y_predict</th>\n",
       "      <th>y_predict_proba</th>\n",
       "      <th>is_error</th>\n",
       "    </tr>\n",
       "  </thead>\n",
       "  <tbody>\n",
       "    <tr>\n",
       "      <th>75</th>\n",
       "      <td>rec.sport.hockey</td>\n",
       "      <td>could someone post the flyers record with and ...</td>\n",
       "      <td>292</td>\n",
       "      <td>rec.sport.baseball</td>\n",
       "      <td>0.357701</td>\n",
       "      <td>1</td>\n",
       "    </tr>\n",
       "    <tr>\n",
       "      <th>67</th>\n",
       "      <td>talk.politics.guns</td>\n",
       "      <td>i agree very much. i have read almost every ar...</td>\n",
       "      <td>339</td>\n",
       "      <td>rec.sport.baseball</td>\n",
       "      <td>0.299778</td>\n",
       "      <td>1</td>\n",
       "    </tr>\n",
       "    <tr>\n",
       "      <th>24</th>\n",
       "      <td>talk.politics.mideast</td>\n",
       "      <td>our white knight for islam rides in again! our...</td>\n",
       "      <td>245</td>\n",
       "      <td>rec.sport.hockey</td>\n",
       "      <td>0.272949</td>\n",
       "      <td>1</td>\n",
       "    </tr>\n",
       "    <tr>\n",
       "      <th>58</th>\n",
       "      <td>talk.politics.mideast</td>\n",
       "      <td>is this group for real? i honestly cant believ...</td>\n",
       "      <td>315</td>\n",
       "      <td>rec.sport.hockey</td>\n",
       "      <td>0.299511</td>\n",
       "      <td>1</td>\n",
       "    </tr>\n",
       "    <tr>\n",
       "      <th>22</th>\n",
       "      <td>talk.politics.mideast</td>\n",
       "      <td>peter, i think you are ridiculous here. stupid...</td>\n",
       "      <td>234</td>\n",
       "      <td>talk.politics.guns</td>\n",
       "      <td>0.318344</td>\n",
       "      <td>1</td>\n",
       "    </tr>\n",
       "  </tbody>\n",
       "</table>\n",
       "</div>"
      ],
      "text/plain": [
       "                    label                                               text  \\\n",
       "75       rec.sport.hockey  could someone post the flyers record with and ...   \n",
       "67     talk.politics.guns  i agree very much. i have read almost every ar...   \n",
       "24  talk.politics.mideast  our white knight for islam rides in again! our...   \n",
       "58  talk.politics.mideast  is this group for real? i honestly cant believ...   \n",
       "22  talk.politics.mideast  peter, i think you are ridiculous here. stupid...   \n",
       "\n",
       "    num_chars           y_predict  y_predict_proba  is_error  \n",
       "75        292  rec.sport.baseball         0.357701         1  \n",
       "67        339  rec.sport.baseball         0.299778         1  \n",
       "24        245    rec.sport.hockey         0.272949         1  \n",
       "58        315    rec.sport.hockey         0.299511         1  \n",
       "22        234  talk.politics.guns         0.318344         1  "
      ]
     },
     "execution_count": 44,
     "metadata": {},
     "output_type": "execute_result"
    }
   ],
   "source": [
    "df_test.sort_values('is_error', ascending=False).head()"
   ]
  },
  {
   "cell_type": "code",
   "execution_count": 45,
   "metadata": {},
   "outputs": [],
   "source": [
    "def print_document(r):    \n",
    "    print('Document #{}. \\nTrue label: {}. \\nPredicted: {} (confidence: {:.1%})'.format(\n",
    "        r.name,\n",
    "        r['label'], \n",
    "        r['y_predict'],\n",
    "        r['y_predict_proba']\n",
    "    ))\n",
    "    print()\n",
    "    print(r['text'])"
   ]
  },
  {
   "cell_type": "code",
   "execution_count": 46,
   "metadata": {},
   "outputs": [
    {
     "data": {
      "application/vnd.jupyter.widget-view+json": {
       "model_id": "cea9da8a411740a894879ac3e57af88a",
       "version_major": 2,
       "version_minor": 0
      },
      "text/plain": [
       "interactive(children=(IntSlider(value=38, description='i', max=76), Output()), _dom_classes=('widget-interact'…"
      ]
     },
     "metadata": {},
     "output_type": "display_data"
    }
   ],
   "source": [
    "from ipywidgets import interact\n",
    "\n",
    "@interact(i=(0,len(df_test)))\n",
    "def explore_doc(i):\n",
    "    print_document(df_test.iloc[i])"
   ]
  },
  {
   "cell_type": "code",
   "execution_count": 47,
   "metadata": {},
   "outputs": [
    {
     "data": {
      "text/plain": [
       "(0, 600)"
      ]
     },
     "execution_count": 47,
     "metadata": {},
     "output_type": "execute_result"
    },
    {
     "data": {
      "image/png": "[encoded data removed]",
      "text/plain": [
       "<Figure size 432x288 with 1 Axes>"
      ]
     },
     "metadata": {
      "needs_background": "light"
     },
     "output_type": "display_data"
    }
   ],
   "source": [
    "sns.boxplot(data=df_test, x='is_error', y='num_chars')\n",
    "plt.ylim(0,600)"
   ]
  },
  {
   "cell_type": "code",
   "execution_count": 48,
   "metadata": {},
   "outputs": [
    {
     "data": {
      "image/png": "[encoded data removed]",
      "text/plain": [
       "<Figure size 432x288 with 1 Axes>"
      ]
     },
     "metadata": {
      "needs_background": "light"
     },
     "output_type": "display_data"
    }
   ],
   "source": [
    "ax = sns.regplot(data=df_test, x='num_chars', y=df_test['is_error'], x_bins=10)\n",
    "plt.xlabel('Document length (chars)');\n",
    "plt.ylabel('% Errors');"
   ]
  },
  {
   "cell_type": "code",
   "execution_count": null,
   "metadata": {},
   "outputs": [],
   "source": []
  }
 ],
 "metadata": {
  "kernelspec": {
   "display_name": "Python 3",
   "language": "python",
   "name": "python3"
  },
  "language_info": {
   "codemirror_mode": {
    "name": "ipython",
    "version": 3
   },
   "file_extension": ".py",
   "mimetype": "text/x-python",
   "name": "python",
   "nbconvert_exporter": "python",
   "pygments_lexer": "ipython3",
   "version": "3.7.3"
  }
 },
 "nbformat": 4,
 "nbformat_minor": 2
}
