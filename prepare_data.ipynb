{
 "cells": [
  {
   "cell_type": "markdown",
   "metadata": {},
   "source": [
    "# Data Preparation\n",
    "## Part 1 of the Workshop \"Text Classification - From Zero to Hero\", by Dr. Omri Allouche, Gong.io, Bar Ilan University\n",
    "In this notebook, we prepare the data for analysis, and save it as CSV files.  \n",
    "We will create different files for train, validation and test named `train.csv`, `val.csv` and `test.csv`.  \n",
    "The Fast-BERT package gets as an input a folder containing these 3 files, and a file with the possible labels."
   ]
  },
  {
   "cell_type": "markdown",
   "metadata": {},
   "source": [
    "In the notebook [Bag of Words and Tf-Idf](bow_tfidf.ipynb) we perform basic Exploratory Data Analysis on the dataset."
   ]
  },
  {
   "cell_type": "markdown",
   "metadata": {},
   "source": [
    "For this exercise, we will use only some of the groups - `rec.sport.baseball`, `rec.sport.hockey`, `talk.politics.guns`, `talk.politics.mideast`.  \n",
    "We will also get only the post text, and remove its header information."
   ]
  },
  {
   "cell_type": "code",
   "execution_count": 48,
   "metadata": {},
   "outputs": [],
   "source": [
    "from sklearn.datasets import fetch_20newsgroups\n",
    "\n",
    "types_to_remove = ('headers', 'footers', 'quotes')\n",
    "newsgroups_categories = ['rec.sport.baseball', 'rec.sport.hockey', 'talk.politics.guns', 'talk.politics.mideast']\n",
    "\n",
    "newsgroups_data = fetch_20newsgroups(subset='all',\n",
    "                                      categories=newsgroups_categories,\n",
    "                                      remove=types_to_remove)"
   ]
  },
  {
   "cell_type": "code",
   "execution_count": 49,
   "metadata": {},
   "outputs": [],
   "source": [
    "import pandas as pd\n",
    "df = pd.DataFrame({'data': newsgroups_data.data, \n",
    "                   'target': newsgroups_data.target,\n",
    "                  'target_name': [newsgroups_data.target_names[x] for x in newsgroups_data.target]})"
   ]
  },
  {
   "cell_type": "code",
   "execution_count": 50,
   "metadata": {},
   "outputs": [
    {
     "data": {
      "text/plain": [
       "(3843, 3)"
      ]
     },
     "execution_count": 50,
     "metadata": {},
     "output_type": "execute_result"
    }
   ],
   "source": [
    "df.shape"
   ]
  },
  {
   "cell_type": "markdown",
   "metadata": {},
   "source": [
    "Next we'll perform basis preprocessing of the text.  "
   ]
  },
  {
   "cell_type": "code",
   "execution_count": 51,
   "metadata": {},
   "outputs": [],
   "source": [
    "def preprocess_text(txt):\n",
    "    txt = txt.replace('\\n', ' ').replace('\\r', ' ').replace('\\t', ' ').replace('?', ' ?').replace('.', ' .').replace(',', ' ,')\n",
    "    txt = txt.lower().strip()\n",
    "    txt = txt.split(' ')\n",
    "    txt = \" \".join([w for w in txt if w!=''])\n",
    "    return txt"
   ]
  },
  {
   "cell_type": "code",
   "execution_count": 52,
   "metadata": {},
   "outputs": [],
   "source": [
    "df['data_processed'] = df['data'].apply(preprocess_text)"
   ]
  },
  {
   "cell_type": "code",
   "execution_count": 53,
   "metadata": {},
   "outputs": [],
   "source": [
    "# Let's filter out documents that are empty after our preprocessing\n",
    "df['num_chars'] = df['data_processed'].apply(len)\n",
    "df = df[ df['num_chars']>0 ]"
   ]
  },
  {
   "cell_type": "code",
   "execution_count": 54,
   "metadata": {},
   "outputs": [
    {
     "name": "stdout",
     "output_type": "stream",
     "text": [
      "...\n",
      "\n",
      "If we are indeed talking about CS, then this is not quite accurate. CS is\n",
      "\"just\" tear gas--albeit the worst kind. It isn't a nausea gas, and doesn't\n",
      "have direct CNS effects. However, it's quite bad--much worse than CN gas. I\n",
      "was briefly exposed to it once (during an engagement in Berkeley circa 1968\n",
      "8^) and it's not the kind of thing you forget. It seems to be\n",
      "moisture-activated--it not only made my eyes sting and water, but attacked\n",
      "my breathing passages and lungs. Breathing was painful, and my entire face\n",
      "felt as if it was on fire. These effects persisted for hours after\n",
      "exposure, and I was coughing for days afterwards.  If I was exposed to a\n",
      "dense concentration of this stuff in a closed space for several hours, I\n",
      "doubt whether I could find the exit. Indeed, I can't imagine living through\n",
      "it.\n",
      "\n",
      "\n",
      ". . . if we are indeed talking about cs , then this is not quite accurate . cs is \"just\" tear gas--albeit the worst kind . it isn't a nausea gas , and doesn't have direct cns effects . however , it's quite bad--much worse than cn gas . i was briefly exposed to it once (during an engagement in berkeley circa 1968 8^) and it's not the kind of thing you forget . it seems to be moisture-activated--it not only made my eyes sting and water , but attacked my breathing passages and lungs . breathing was painful , and my entire face felt as if it was on fire . these effects persisted for hours after exposure , and i was coughing for days afterwards . if i was exposed to a dense concentration of this stuff in a closed space for several hours , i doubt whether i could find the exit . indeed , i can't imagine living through it .\n"
     ]
    }
   ],
   "source": [
    "print(df.iloc[1]['data'])\n",
    "print(df.iloc[1]['data_processed'])"
   ]
  },
  {
   "cell_type": "code",
   "execution_count": 55,
   "metadata": {},
   "outputs": [],
   "source": [
    "import os\n",
    "os.makedirs('./data', exist_ok=True)"
   ]
  },
  {
   "cell_type": "code",
   "execution_count": 56,
   "metadata": {},
   "outputs": [],
   "source": [
    "# Save the entire dataset to a single file\n",
    "df.to_csv('data/20newsgroups.csv', index=False)"
   ]
  },
  {
   "cell_type": "code",
   "execution_count": 57,
   "metadata": {},
   "outputs": [],
   "source": [
    "# Save files for train, test and validation\n",
    "df = df.reset_index().rename({'data_processed': 'text', 'target_name': 'label'}, axis=1)\n",
    "df_train = df.sample(frac=0.7, random_state=0)\n",
    "df_test = df.drop(df_train.index)\n",
    "df_val = df_test.sample(frac=0.5, random_state=0)\n",
    "df_test = df_test.drop(df_val.index)"
   ]
  },
  {
   "cell_type": "code",
   "execution_count": 58,
   "metadata": {},
   "outputs": [
    {
     "data": {
      "text/html": [
       "<div>\n",
       "<style scoped>\n",
       "    .dataframe tbody tr th:only-of-type {\n",
       "        vertical-align: middle;\n",
       "    }\n",
       "\n",
       "    .dataframe tbody tr th {\n",
       "        vertical-align: top;\n",
       "    }\n",
       "\n",
       "    .dataframe thead th {\n",
       "        text-align: right;\n",
       "    }\n",
       "</style>\n",
       "<table border=\"1\" class=\"dataframe\">\n",
       "  <thead>\n",
       "    <tr style=\"text-align: right;\">\n",
       "      <th></th>\n",
       "      <th>index</th>\n",
       "      <th>data</th>\n",
       "      <th>target</th>\n",
       "      <th>label</th>\n",
       "      <th>text</th>\n",
       "      <th>num_chars</th>\n",
       "    </tr>\n",
       "  </thead>\n",
       "  <tbody>\n",
       "    <tr>\n",
       "      <th>0</th>\n",
       "      <td>0</td>\n",
       "      <td>Oops!  I came across this file from last year....</td>\n",
       "      <td>0</td>\n",
       "      <td>rec.sport.baseball</td>\n",
       "      <td>oops! i came across this file from last year ....</td>\n",
       "      <td>5944</td>\n",
       "    </tr>\n",
       "    <tr>\n",
       "      <th>12</th>\n",
       "      <td>12</td>\n",
       "      <td>I basically agree, the Tigers are my favorite ...</td>\n",
       "      <td>0</td>\n",
       "      <td>rec.sport.baseball</td>\n",
       "      <td>i basically agree , the tigers are my favorite...</td>\n",
       "      <td>250</td>\n",
       "    </tr>\n",
       "    <tr>\n",
       "      <th>21</th>\n",
       "      <td>21</td>\n",
       "      <td>\\nlittle.\\n\\nI know what you mean!  I glow eve...</td>\n",
       "      <td>1</td>\n",
       "      <td>rec.sport.hockey</td>\n",
       "      <td>little . i know what you mean! i glow everytim...</td>\n",
       "      <td>1275</td>\n",
       "    </tr>\n",
       "    <tr>\n",
       "      <th>26</th>\n",
       "      <td>26</td>\n",
       "      <td>\\nDo you really have *that* much information o...</td>\n",
       "      <td>0</td>\n",
       "      <td>rec.sport.baseball</td>\n",
       "      <td>do you really have *that* much information on ...</td>\n",
       "      <td>1607</td>\n",
       "    </tr>\n",
       "    <tr>\n",
       "      <th>62</th>\n",
       "      <td>62</td>\n",
       "      <td>(good point about registration schemes being ...</td>\n",
       "      <td>2</td>\n",
       "      <td>talk.politics.guns</td>\n",
       "      <td>(good point about registration schemes being u...</td>\n",
       "      <td>214</td>\n",
       "    </tr>\n",
       "  </tbody>\n",
       "</table>\n",
       "</div>"
      ],
      "text/plain": [
       "    index                                               data  target  \\\n",
       "0       0  Oops!  I came across this file from last year....       0   \n",
       "12     12  I basically agree, the Tigers are my favorite ...       0   \n",
       "21     21  \\nlittle.\\n\\nI know what you mean!  I glow eve...       1   \n",
       "26     26  \\nDo you really have *that* much information o...       0   \n",
       "62     62   (good point about registration schemes being ...       2   \n",
       "\n",
       "                 label                                               text  \\\n",
       "0   rec.sport.baseball  oops! i came across this file from last year ....   \n",
       "12  rec.sport.baseball  i basically agree , the tigers are my favorite...   \n",
       "21    rec.sport.hockey  little . i know what you mean! i glow everytim...   \n",
       "26  rec.sport.baseball  do you really have *that* much information on ...   \n",
       "62  talk.politics.guns  (good point about registration schemes being u...   \n",
       "\n",
       "    num_chars  \n",
       "0        5944  \n",
       "12        250  \n",
       "21       1275  \n",
       "26       1607  \n",
       "62        214  "
      ]
     },
     "execution_count": 58,
     "metadata": {},
     "output_type": "execute_result"
    }
   ],
   "source": [
    "df_test.head()"
   ]
  },
  {
   "cell_type": "code",
   "execution_count": 59,
   "metadata": {},
   "outputs": [],
   "source": [
    "df_train.to_csv('data/train.csv', index=False)\n",
    "df_val.to_csv('data/val.csv', index=False)\n",
    "df_test.to_csv('data/test.csv', index=False)"
   ]
  },
  {
   "cell_type": "code",
   "execution_count": 60,
   "metadata": {},
   "outputs": [
    {
     "name": "stderr",
     "output_type": "stream",
     "text": [
      "C:\\ProgramData\\Anaconda3\\lib\\site-packages\\ipykernel_launcher.py:2: FutureWarning: The signature of `Series.to_csv` was aligned to that of `DataFrame.to_csv`, and argument 'header' will change its default value from False to True: please pass an explicit value to suppress this warning.\n",
      "  \n"
     ]
    }
   ],
   "source": [
    "# Save a labels.csv file, needed for fast-bert\n",
    "pd.Series(df['label'].unique()).to_csv('data/labels.csv', index=False)"
   ]
  },
  {
   "cell_type": "code",
   "execution_count": null,
   "metadata": {},
   "outputs": [],
   "source": []
  }
 ],
 "metadata": {
  "kernelspec": {
   "display_name": "Python 3",
   "language": "python",
   "name": "python3"
  },
  "language_info": {
   "codemirror_mode": {
    "name": "ipython",
    "version": 3
   },
   "file_extension": ".py",
   "mimetype": "text/x-python",
   "name": "python",
   "nbconvert_exporter": "python",
   "pygments_lexer": "ipython3",
   "version": "3.7.3"
  }
 },
 "nbformat": 4,
 "nbformat_minor": 2
}
