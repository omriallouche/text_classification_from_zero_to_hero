{
 "cells": [
  {
   "cell_type": "markdown",
   "metadata": {},
   "source": [
    "# Bag of Words and Tf-Idf\n",
    "## Part 2 of the Workshop \"Text Classification - From Zero to Hero\", by Dr. Omri Allouche, Gong.io, Bar Ilan University\n",
    "In this notebook, we perform a very basic EDA (Exploratory Data Analysis) of the dataset, and build a basic classifier using Tf-Idf encoding."
   ]
  },
  {
   "cell_type": "code",
   "execution_count": 1,
   "metadata": {},
   "outputs": [],
   "source": [
    "import pandas as pd\n",
    "import numpy as np\n",
    "import matplotlib.pyplot as plt\n",
    "import seaborn as sns\n",
    "plt.rcParams['figure.figsize'] = (12, 8)\n",
    "plt.rcParams[\"axes.labelsize\"] = 15"
   ]
  },
  {
   "cell_type": "code",
   "execution_count": 2,
   "metadata": {},
   "outputs": [
    {
     "data": {
      "text/html": [
       "<div>\n",
       "<style scoped>\n",
       "    .dataframe tbody tr th:only-of-type {\n",
       "        vertical-align: middle;\n",
       "    }\n",
       "\n",
       "    .dataframe tbody tr th {\n",
       "        vertical-align: top;\n",
       "    }\n",
       "\n",
       "    .dataframe thead th {\n",
       "        text-align: right;\n",
       "    }\n",
       "</style>\n",
       "<table border=\"1\" class=\"dataframe\">\n",
       "  <thead>\n",
       "    <tr style=\"text-align: right;\">\n",
       "      <th></th>\n",
       "      <th>original_text</th>\n",
       "      <th>target</th>\n",
       "      <th>label</th>\n",
       "      <th>text</th>\n",
       "      <th>num_chars</th>\n",
       "    </tr>\n",
       "  </thead>\n",
       "  <tbody>\n",
       "    <tr>\n",
       "      <th>0</th>\n",
       "      <td>\\n\\nAs far as I know, Toronto, Pittsburgh, and...</td>\n",
       "      <td>0</td>\n",
       "      <td>rec.sport.baseball</td>\n",
       "      <td>as far as i know , toronto , pittsburgh , and ...</td>\n",
       "      <td>538</td>\n",
       "    </tr>\n",
       "    <tr>\n",
       "      <th>1</th>\n",
       "      <td>Dunno about Miller.\\n\\nIf you mean Scott Erick...</td>\n",
       "      <td>0</td>\n",
       "      <td>rec.sport.baseball</td>\n",
       "      <td>dunno about miller . if you mean scott erickso...</td>\n",
       "      <td>274</td>\n",
       "    </tr>\n",
       "    <tr>\n",
       "      <th>2</th>\n",
       "      <td>I am planning a weekend in Chicago next month ...</td>\n",
       "      <td>0</td>\n",
       "      <td>rec.sport.baseball</td>\n",
       "      <td>i am planning a weekend in chicago next month ...</td>\n",
       "      <td>267</td>\n",
       "    </tr>\n",
       "    <tr>\n",
       "      <th>3</th>\n",
       "      <td>i think lamont is tryin sax out in left becaus...</td>\n",
       "      <td>0</td>\n",
       "      <td>rec.sport.baseball</td>\n",
       "      <td>i think lamont is tryin sax out in left becaus...</td>\n",
       "      <td>291</td>\n",
       "    </tr>\n",
       "    <tr>\n",
       "      <th>4</th>\n",
       "      <td>I'm looking for software (hopefully free and r...</td>\n",
       "      <td>0</td>\n",
       "      <td>rec.sport.baseball</td>\n",
       "      <td>i'm looking for software (hopefully free and r...</td>\n",
       "      <td>225</td>\n",
       "    </tr>\n",
       "  </tbody>\n",
       "</table>\n",
       "</div>"
      ],
      "text/plain": [
       "                                       original_text  target  \\\n",
       "0  \\n\\nAs far as I know, Toronto, Pittsburgh, and...       0   \n",
       "1  Dunno about Miller.\\n\\nIf you mean Scott Erick...       0   \n",
       "2  I am planning a weekend in Chicago next month ...       0   \n",
       "3  i think lamont is tryin sax out in left becaus...       0   \n",
       "4  I'm looking for software (hopefully free and r...       0   \n",
       "\n",
       "                label                                               text  \\\n",
       "0  rec.sport.baseball  as far as i know , toronto , pittsburgh , and ...   \n",
       "1  rec.sport.baseball  dunno about miller . if you mean scott erickso...   \n",
       "2  rec.sport.baseball  i am planning a weekend in chicago next month ...   \n",
       "3  rec.sport.baseball  i think lamont is tryin sax out in left becaus...   \n",
       "4  rec.sport.baseball  i'm looking for software (hopefully free and r...   \n",
       "\n",
       "   num_chars  \n",
       "0        538  \n",
       "1        274  \n",
       "2        267  \n",
       "3        291  \n",
       "4        225  "
      ]
     },
     "execution_count": 2,
     "metadata": {},
     "output_type": "execute_result"
    }
   ],
   "source": [
    "df = pd.read_csv('data/20newsgroups.csv')\n",
    "df.head()"
   ]
  },
  {
   "cell_type": "code",
   "execution_count": 3,
   "metadata": {},
   "outputs": [
    {
     "data": {
      "text/plain": [
       "rec.sport.hockey         229\n",
       "rec.sport.baseball       229\n",
       "talk.politics.guns       229\n",
       "talk.politics.mideast    229\n",
       "Name: label, dtype: int64"
      ]
     },
     "execution_count": 3,
     "metadata": {},
     "output_type": "execute_result"
    }
   ],
   "source": [
    "df['label'].value_counts()"
   ]
  },
  {
   "cell_type": "code",
   "execution_count": 4,
   "metadata": {},
   "outputs": [
    {
     "data": {
      "text/plain": [
       "(0, 500)"
      ]
     },
     "execution_count": 4,
     "metadata": {},
     "output_type": "execute_result"
    },
    {
     "data": {
      "image/png": "[encoded data removed]",
      "text/plain": [
       "<Figure size 432x288 with 1 Axes>"
      ]
     },
     "metadata": {
      "needs_background": "light"
     },
     "output_type": "display_data"
    }
   ],
   "source": [
    "sns.boxplot(data=df, y='label', x='num_chars')\n",
    "plt.xlim(0,500)"
   ]
  },
  {
   "cell_type": "markdown",
   "metadata": {},
   "source": [
    "Now let's fit a Tf-Idf vectorizer to these documents. We'll remove English stopwords, and check the words that have the highest Tfidf score for each class:"
   ]
  },
  {
   "cell_type": "code",
   "execution_count": 5,
   "metadata": {},
   "outputs": [
    {
     "data": {
      "text/plain": [
       "(641, 6579)"
      ]
     },
     "execution_count": 5,
     "metadata": {},
     "output_type": "execute_result"
    }
   ],
   "source": [
    "from sklearn.feature_extraction.text import TfidfVectorizer\n",
    "vectorizer = TfidfVectorizer(stop_words='english')\n",
    "\n",
    "df_train = pd.read_csv('data/train.csv')\n",
    "vectors = vectorizer.fit_transform(df_train['text'])\n",
    "vectors.shape"
   ]
  },
  {
   "cell_type": "code",
   "execution_count": 6,
   "metadata": {},
   "outputs": [],
   "source": [
    "df_train['tfidf'] = list(vectors.toarray())"
   ]
  },
  {
   "cell_type": "code",
   "execution_count": 7,
   "metadata": {},
   "outputs": [
    {
     "name": "stdout",
     "output_type": "stream",
     "text": [
      "rec.sport.baseball\n",
      "['year', 'baseball', 'think', 'team', 'games', 'runs', 'list', 'know', 'hit', 'just', 'don', 'does', 'batting', 'player', 'good', 'game', 'league', 'like', 'win', 'did']\n",
      "\n",
      "rec.sport.hockey\n",
      "['game', 'hockey', 'team', 'play', 'espn', 'games', 'don', 'know', 'leafs', 'players', 'win', 'detroit', 'hawks', 'rangers', 'good', 'wings', 'player', 'toronto', 'roger', 'cup']\n",
      "\n",
      "talk.politics.guns\n",
      "['fbi', 'people', 'gun', 'just', 'don', 'government', 'like', 'weapons', 'know', 'com', 'guns', 'children', 'texas', 'gas', 'time', 'waco', 'law', 'did', 'use', 'make']\n",
      "\n",
      "talk.politics.mideast\n",
      "['israel', 'jews', 'adam', 'people', 'just', 'don', 'israeli', 'like', 'say', 'arab', 'arabs', 'does', 'muslims', 'jewish', 'zionism', 'way', 'edu', '000', 'think', 'war']\n",
      "\n"
     ]
    }
   ],
   "source": [
    "inverse_vocab = {v: k for k,v in vectorizer.vocabulary_.items()}\n",
    "top_terms = df_train.groupby('label')['tfidf'].apply(lambda x: x.sum(axis=0))\n",
    "for i,r in top_terms.iteritems():\n",
    "    print(i)\n",
    "    print([inverse_vocab[x] for x in np.argsort(r)[-20:][::-1]])\n",
    "    print()"
   ]
  },
  {
   "cell_type": "markdown",
   "metadata": {},
   "source": [
    "### Basic Classifier\n",
    "Next, let's build a basic classifier. Let's use the Multinomial Naive Bayes.\n",
    "\n",
    "We'll first fit the model on the train set:"
   ]
  },
  {
   "cell_type": "code",
   "execution_count": 8,
   "metadata": {},
   "outputs": [
    {
     "data": {
      "text/plain": [
       "MultinomialNB(alpha=1.0, class_prior=None, fit_prior=True)"
      ]
     },
     "execution_count": 8,
     "metadata": {},
     "output_type": "execute_result"
    }
   ],
   "source": [
    "from sklearn.naive_bayes import MultinomialNB\n",
    "from sklearn import metrics\n",
    "\n",
    "# We use the vectorizer we fitted earlier to transform the textual string into \n",
    "vectors = vectorizer.transform(df_train['text'])\n",
    "clf = MultinomialNB()\n",
    "clf.fit(vectors, df_train['label'])"
   ]
  },
  {
   "cell_type": "markdown",
   "metadata": {},
   "source": [
    "And then predict and evaluate performance on the validation set:"
   ]
  },
  {
   "cell_type": "code",
   "execution_count": 9,
   "metadata": {},
   "outputs": [
    {
     "data": {
      "text/plain": [
       "rec.sport.hockey         229\n",
       "rec.sport.baseball       229\n",
       "talk.politics.guns       229\n",
       "talk.politics.mideast    229\n",
       "Name: label, dtype: int64"
      ]
     },
     "execution_count": 9,
     "metadata": {},
     "output_type": "execute_result"
    }
   ],
   "source": [
    "df.label.value_counts()"
   ]
  },
  {
   "cell_type": "code",
   "execution_count": 10,
   "metadata": {},
   "outputs": [],
   "source": [
    "df_val = pd.read_csv('data/val.csv')\n",
    "y_truth = df_val['label']\n",
    "vectors_val = vectorizer.transform(df_val['text'])\n",
    "y_predict_proba = clf.predict_proba(vectors_val)\n",
    "y_predict = clf.predict(vectors_val)"
   ]
  },
  {
   "cell_type": "code",
   "execution_count": 11,
   "metadata": {},
   "outputs": [
    {
     "data": {
      "text/plain": [
       "0.8273736214034721"
      ]
     },
     "execution_count": 11,
     "metadata": {},
     "output_type": "execute_result"
    }
   ],
   "source": [
    "metrics.f1_score(y_truth, y_predict, average='macro')"
   ]
  },
  {
   "cell_type": "markdown",
   "metadata": {},
   "source": [
    "We see that even a simple model performs pretty well. Let's examine the most important features for each class:"
   ]
  },
  {
   "cell_type": "code",
   "execution_count": null,
   "metadata": {},
   "outputs": [],
   "source": []
  },
  {
   "cell_type": "code",
   "execution_count": 12,
   "metadata": {},
   "outputs": [
    {
     "name": "stdout",
     "output_type": "stream",
     "text": [
      "rec.sport.baseball\n",
      "did, win, like, league, game, good, player, batting, does, don, just, hit, know, list, runs, games, team, think, baseball, year\n",
      "\n",
      "rec.sport.hockey\n",
      "cup, roger, toronto, player, wings, good, rangers, hawks, detroit, win, players, leafs, know, don, games, espn, play, team, hockey, game\n",
      "\n",
      "talk.politics.guns\n",
      "make, use, did, law, waco, time, gas, texas, children, guns, com, know, weapons, like, government, don, just, gun, people, fbi\n",
      "\n",
      "talk.politics.mideast\n",
      "war, think, 000, edu, way, zionism, jewish, muslims, does, arabs, arab, say, like, israeli, don, just, people, adam, jews, israel\n",
      "\n"
     ]
    }
   ],
   "source": [
    "def show_top_terms(classifier, vectorizer):\n",
    "    feature_names = np.asarray(vectorizer.get_feature_names())\n",
    "    for i in range(len(classifier.classes_)):\n",
    "        top_terms = np.argsort(classifier.coef_[i])[-20:]\n",
    "        print(classifier.classes_[i])\n",
    "        print(\", \".join(feature_names[top_terms]))\n",
    "        print()\n",
    "\n",
    "show_top_terms(clf, vectorizer)"
   ]
  },
  {
   "cell_type": "markdown",
   "metadata": {},
   "source": [
    "Let's further examine the classification report and the confusion matrix:"
   ]
  },
  {
   "cell_type": "code",
   "execution_count": 13,
   "metadata": {},
   "outputs": [],
   "source": [
    "from model_evaluation_utils import *"
   ]
  },
  {
   "cell_type": "code",
   "execution_count": 14,
   "metadata": {},
   "outputs": [
    {
     "name": "stdout",
     "output_type": "stream",
     "text": [
      "                       precision    recall  f1-score   support\n",
      "\n",
      "   rec.sport.baseball       0.91      0.70      0.79        44\n",
      "     rec.sport.hockey       0.81      0.94      0.87        31\n",
      "   talk.politics.guns       0.71      0.96      0.82        28\n",
      "talk.politics.mideast       0.90      0.77      0.83        35\n",
      "\n",
      "            micro avg       0.83      0.83      0.83       138\n",
      "            macro avg       0.83      0.84      0.83       138\n",
      "         weighted avg       0.84      0.83      0.82       138\n",
      "\n"
     ]
    }
   ],
   "source": [
    "from sklearn import metrics\n",
    "print(metrics.classification_report(y_truth, y_predict))"
   ]
  },
  {
   "cell_type": "code",
   "execution_count": 15,
   "metadata": {},
   "outputs": [
    {
     "name": "stdout",
     "output_type": "stream",
     "text": [
      "Normalized confusion matrix\n",
      "[[0.70454545 0.15909091 0.09090909 0.04545455]\n",
      " [0.03225806 0.93548387 0.         0.03225806]\n",
      " [0.03571429 0.         0.96428571 0.        ]\n",
      " [0.02857143 0.         0.2        0.77142857]]\n"
     ]
    },
    {
     "data": {
      "image/png": "[encoded data removed]",
      "text/plain": [
       "<Figure size 432x288 with 2 Axes>"
      ]
     },
     "metadata": {
      "needs_background": "light"
     },
     "output_type": "display_data"
    }
   ],
   "source": [
    "plot_confusion_matrix(y_truth, y_predict, normalize=True, title='Normalized confusion matrix - test');"
   ]
  },
  {
   "cell_type": "code",
   "execution_count": 16,
   "metadata": {},
   "outputs": [
    {
     "data": {
      "image/png": "[encoded data removed]",
      "text/plain": [
       "<Figure size 432x288 with 1 Axes>"
      ]
     },
     "metadata": {
      "needs_background": "light"
     },
     "output_type": "display_data"
    }
   ],
   "source": [
    "plot_precision_recall_curve(y_predict_proba, y_truth);"
   ]
  },
  {
   "cell_type": "code",
   "execution_count": 17,
   "metadata": {},
   "outputs": [
    {
     "data": {
      "image/png": "[encoded data removed]",
      "text/plain": [
       "<Figure size 432x288 with 1 Axes>"
      ]
     },
     "metadata": {
      "needs_background": "light"
     },
     "output_type": "display_data"
    }
   ],
   "source": [
    "plot_confidence_performance(y_predict, y_predict_proba, y_truth, num_bins=20);"
   ]
  },
  {
   "cell_type": "markdown",
   "metadata": {},
   "source": [
    "Next, let's perform an error analysis and manually review documents that are wrongly classified. We will focus on documents that have a high model confidence:"
   ]
  },
  {
   "cell_type": "code",
   "execution_count": 19,
   "metadata": {},
   "outputs": [],
   "source": [
    "df_test = pd.read_csv('data/val.csv')\n",
    "y_truth = df_test['label']\n",
    "vectors_val = vectorizer.transform(df_val['text'])\n",
    "y_predict_proba = clf.predict_proba(vectors_val)\n",
    "y_predict = clf.predict(vectors_val)"
   ]
  },
  {
   "cell_type": "code",
   "execution_count": 20,
   "metadata": {},
   "outputs": [],
   "source": [
    "df_test['y_predict'] = clf.predict(vectors_val)\n",
    "df_test['y_predict_proba'] = np.max(clf.predict_proba(vectors_val))\n",
    "df_test['is_error'] = (y_predict != y_truth).astype(int)"
   ]
  },
  {
   "cell_type": "code",
   "execution_count": 21,
   "metadata": {},
   "outputs": [],
   "source": [
    "# df_test['doc_len'] = df_test['text'].str.len()"
   ]
  },
  {
   "cell_type": "code",
   "execution_count": 22,
   "metadata": {},
   "outputs": [
    {
     "data": {
      "text/html": [
       "<div>\n",
       "<style scoped>\n",
       "    .dataframe tbody tr th:only-of-type {\n",
       "        vertical-align: middle;\n",
       "    }\n",
       "\n",
       "    .dataframe tbody tr th {\n",
       "        vertical-align: top;\n",
       "    }\n",
       "\n",
       "    .dataframe thead th {\n",
       "        text-align: right;\n",
       "    }\n",
       "</style>\n",
       "<table border=\"1\" class=\"dataframe\">\n",
       "  <thead>\n",
       "    <tr style=\"text-align: right;\">\n",
       "      <th></th>\n",
       "      <th>original_text</th>\n",
       "      <th>target</th>\n",
       "      <th>label</th>\n",
       "      <th>text</th>\n",
       "      <th>num_chars</th>\n",
       "      <th>y_predict</th>\n",
       "      <th>y_predict_proba</th>\n",
       "      <th>is_error</th>\n",
       "    </tr>\n",
       "  </thead>\n",
       "  <tbody>\n",
       "    <tr>\n",
       "      <th>137</th>\n",
       "      <td>Giant's have a five man rotation of  John Burk...</td>\n",
       "      <td>0</td>\n",
       "      <td>rec.sport.baseball</td>\n",
       "      <td>giant's have a five man rotation of john burke...</td>\n",
       "      <td>202</td>\n",
       "      <td>talk.politics.guns</td>\n",
       "      <td>0.678657</td>\n",
       "      <td>1</td>\n",
       "    </tr>\n",
       "    <tr>\n",
       "      <th>13</th>\n",
       "      <td>The Royals are darkness.  They are the void of...</td>\n",
       "      <td>0</td>\n",
       "      <td>rec.sport.baseball</td>\n",
       "      <td>the royals are darkness . they are the void of...</td>\n",
       "      <td>293</td>\n",
       "      <td>rec.sport.hockey</td>\n",
       "      <td>0.678657</td>\n",
       "      <td>1</td>\n",
       "    </tr>\n",
       "    <tr>\n",
       "      <th>27</th>\n",
       "      <td>\\n\\nThe tribe will be in town from April 16 to...</td>\n",
       "      <td>0</td>\n",
       "      <td>rec.sport.baseball</td>\n",
       "      <td>the tribe will be in town from april 16 to the...</td>\n",
       "      <td>316</td>\n",
       "      <td>rec.sport.hockey</td>\n",
       "      <td>0.678657</td>\n",
       "      <td>1</td>\n",
       "    </tr>\n",
       "    <tr>\n",
       "      <th>26</th>\n",
       "      <td>\\n\\tRecently, I heard the Red Sox on WROL a Sp...</td>\n",
       "      <td>0</td>\n",
       "      <td>rec.sport.baseball</td>\n",
       "      <td>recently , i heard the red sox on wrol a spani...</td>\n",
       "      <td>378</td>\n",
       "      <td>rec.sport.hockey</td>\n",
       "      <td>0.678657</td>\n",
       "      <td>1</td>\n",
       "    </tr>\n",
       "    <tr>\n",
       "      <th>24</th>\n",
       "      <td>Which works fine until you end up in the hospi...</td>\n",
       "      <td>2</td>\n",
       "      <td>talk.politics.guns</td>\n",
       "      <td>which works fine until you end up in the hospi...</td>\n",
       "      <td>373</td>\n",
       "      <td>rec.sport.baseball</td>\n",
       "      <td>0.678657</td>\n",
       "      <td>1</td>\n",
       "    </tr>\n",
       "  </tbody>\n",
       "</table>\n",
       "</div>"
      ],
      "text/plain": [
       "                                         original_text  target  \\\n",
       "137  Giant's have a five man rotation of  John Burk...       0   \n",
       "13   The Royals are darkness.  They are the void of...       0   \n",
       "27   \\n\\nThe tribe will be in town from April 16 to...       0   \n",
       "26   \\n\\tRecently, I heard the Red Sox on WROL a Sp...       0   \n",
       "24   Which works fine until you end up in the hospi...       2   \n",
       "\n",
       "                  label                                               text  \\\n",
       "137  rec.sport.baseball  giant's have a five man rotation of john burke...   \n",
       "13   rec.sport.baseball  the royals are darkness . they are the void of...   \n",
       "27   rec.sport.baseball  the tribe will be in town from april 16 to the...   \n",
       "26   rec.sport.baseball  recently , i heard the red sox on wrol a spani...   \n",
       "24   talk.politics.guns  which works fine until you end up in the hospi...   \n",
       "\n",
       "     num_chars           y_predict  y_predict_proba  is_error  \n",
       "137        202  talk.politics.guns         0.678657         1  \n",
       "13         293    rec.sport.hockey         0.678657         1  \n",
       "27         316    rec.sport.hockey         0.678657         1  \n",
       "26         378    rec.sport.hockey         0.678657         1  \n",
       "24         373  rec.sport.baseball         0.678657         1  "
      ]
     },
     "execution_count": 22,
     "metadata": {},
     "output_type": "execute_result"
    }
   ],
   "source": [
    "df_test.sort_values('is_error', ascending=False).head()"
   ]
  },
  {
   "cell_type": "code",
   "execution_count": 23,
   "metadata": {},
   "outputs": [],
   "source": [
    "def print_document(r):    \n",
    "    print('Document #{}. True label: {}. Predicted: {} (confidence: {:.1%})'.format(\n",
    "        r.name,\n",
    "        r['label'], \n",
    "        r['y_predict'],\n",
    "        r['y_predict_proba']\n",
    "    ))\n",
    "    print()\n",
    "    print(r['text'])"
   ]
  },
  {
   "cell_type": "code",
   "execution_count": 25,
   "metadata": {},
   "outputs": [
    {
     "name": "stdout",
     "output_type": "stream",
     "text": [
      "Document #0. True label: rec.sport.hockey. Predicted: rec.sport.hockey (confidence: 67.9%)\n",
      "\n",
      "in the game *i* have seen yesterday in the olympiahalle of munich canada won 4-1 against sweden! the last goal for canada was at 19:59 in the 3rd period . maybe you shouldn't go and get you another beer before the game is over and then post imaginary results . . . holger\n"
     ]
    }
   ],
   "source": [
    "print_document(df_test.iloc[0])"
   ]
  },
  {
   "cell_type": "code",
   "execution_count": 26,
   "metadata": {},
   "outputs": [
    {
     "data": {
      "text/plain": [
       "(0, 3000)"
      ]
     },
     "execution_count": 26,
     "metadata": {},
     "output_type": "execute_result"
    },
    {
     "data": {
      "image/png": "[encoded data removed]",
      "text/plain": [
       "<Figure size 432x288 with 1 Axes>"
      ]
     },
     "metadata": {
      "needs_background": "light"
     },
     "output_type": "display_data"
    }
   ],
   "source": [
    "sns.boxplot(data=df_test, x='is_error', y='num_chars')\n",
    "plt.ylim(0,3000)"
   ]
  },
  {
   "cell_type": "code",
   "execution_count": 27,
   "metadata": {},
   "outputs": [
    {
     "data": {
      "image/png": "[encoded data removed]",
      "text/plain": [
       "<Figure size 432x288 with 1 Axes>"
      ]
     },
     "metadata": {
      "needs_background": "light"
     },
     "output_type": "display_data"
    }
   ],
   "source": [
    "ax = sns.regplot(data=df_test, x='num_chars', y=df_test['is_error'], x_bins=10)\n",
    "plt.xlabel('Document length (chars)');\n",
    "plt.ylabel('% Errors');"
   ]
  },
  {
   "cell_type": "code",
   "execution_count": null,
   "metadata": {},
   "outputs": [],
   "source": []
  }
 ],
 "metadata": {
  "kernelspec": {
   "display_name": "Python 3",
   "language": "python",
   "name": "python3"
  },
  "language_info": {
   "codemirror_mode": {
    "name": "ipython",
    "version": 3
   },
   "file_extension": ".py",
   "mimetype": "text/x-python",
   "name": "python",
   "nbconvert_exporter": "python",
   "pygments_lexer": "ipython3",
   "version": "3.7.3"
  }
 },
 "nbformat": 4,
 "nbformat_minor": 2
}
