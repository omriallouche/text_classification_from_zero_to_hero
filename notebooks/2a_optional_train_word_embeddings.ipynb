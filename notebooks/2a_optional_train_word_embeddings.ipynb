{
 "cells": [
  {
   "cell_type": "code",
   "execution_count": null,
   "metadata": {},
   "outputs": [],
   "source": [
    "!git clone https://github.com/omriallouche/text_classification_from_zero_to_hero.git --depth 1\n",
    "import os\n",
    "os.chdir('text_classification_from_zero_to_hero/notebooks')"
   ]
  },
  {
   "cell_type": "code",
   "execution_count": null,
   "metadata": {},
   "outputs": [],
   "source": [
    "import sys, os\n",
    "from pathlib import Path\n",
    "def locate(fname):\n",
    "  \"\"\"Search file in google drive\"\"\"\n",
    "  if os.path.exists(fname):\n",
    "    return fname\n",
    "  try:\n",
    "    return next(filter(lambda p: str(p).endswith(fname),\n",
    "                       Path(\"/content/drive/My Drive/nlpday_content\").glob('**/*.*')))\n",
    "  except StopIteration:\n",
    "    raise FileNotFoundError(fname)\n",
    "    \n",
    "if 'google.colab' in sys.modules:\n",
    "    from google.colab import drive\n",
    "    drive.mount('/content/drive/')\n",
    "    __dir__ = \"/content/drive/My Drive/nlpday_content/zero2hero/\"\n",
    "    sys.path.append(__dir__ + 'src')"
   ]
  },
  {
   "cell_type": "markdown",
   "metadata": {},
   "source": [
    "# Training our own Word Vectors\n",
    "It's very easy to train our own word vectors based on our custom task. This can lead to an increase in performance if our domain is different from that used for training common word vectors (usually Wikipedia).  \n",
    "\n",
    "We will train word vectors using the Gensim package:"
   ]
  },
  {
   "cell_type": "code",
   "execution_count": null,
   "metadata": {},
   "outputs": [],
   "source": [
    "# !pip install gensim"
   ]
  },
  {
   "cell_type": "code",
   "execution_count": 2,
   "metadata": {},
   "outputs": [],
   "source": [
    "import pandas as pd\n",
    "df = pd.read_csv('../data/train.csv')"
   ]
  },
  {
   "cell_type": "code",
   "execution_count": 11,
   "metadata": {},
   "outputs": [],
   "source": [
    "import gensim\n",
    "w2v = gensim.models.Word2Vec([s.split() for s in df['text'].values], \n",
    "                              iter=500,\n",
    "                              sg=1, \n",
    "                              min_count=1, \n",
    "                              size=50, \n",
    "                              window=3, \n",
    "                              workers=7)\n",
    "w2v.init_sims(replace=True) # frees memory of word vectors but prevents further training"
   ]
  },
  {
   "cell_type": "code",
   "execution_count": 12,
   "metadata": {},
   "outputs": [],
   "source": [
    "def evaluate_words(words_to_check = ['love', 'hate']):\n",
    "    for word in words_to_check:\n",
    "        print(word, ' -> ')\n",
    "        try:\n",
    "            print('\\n'.join(['\\t{} ({:.2f}), '.format(tup[0], tup[1]) for tup in w2v.wv.similar_by_word(word, topn=5)]))\n",
    "        except:\n",
    "            pass\n",
    "        print()"
   ]
  },
  {
   "cell_type": "code",
   "execution_count": 14,
   "metadata": {},
   "outputs": [
    {
     "name": "stdout",
     "output_type": "stream",
     "text": [
      "gun  -> \n",
      "\tmurders (0.67), \n",
      "\tweight (0.66), \n",
      "\tcarrying (0.66), \n",
      "\trestricted. (0.65), \n",
      "\tapologists (0.64), \n",
      "\n",
      "inning  -> \n",
      "\t7th (0.96), \n",
      "\t\"blue (0.90), \n",
      "\tstretch (0.87), \n",
      "\tjays\" (0.86), \n",
      "\tunderdog (0.74), \n",
      "\n",
      "win  -> \n",
      "\tnorris. (0.70), \n",
      "\tseries.toronto (0.67), \n",
      "\t2,000 (0.66), \n",
      "\tproceeded (0.65), \n",
      "\thim! (0.64), \n",
      "\n",
      "arab  -> \n",
      "\tleaders (0.67), \n",
      "\temirates.\" (0.66), \n",
      "\tblock; (0.66), \n",
      "\t\"belong[] (0.65), \n",
      "\topinion; (0.65), \n",
      "\n",
      "problem  -> \n",
      "\tsmuggling (0.75), \n",
      "\tlanguage? (0.72), \n",
      "\tzombo (0.71), \n",
      "\tyards (0.68), \n",
      "\tignores (0.67), \n",
      "\n"
     ]
    }
   ],
   "source": [
    "evaluate_words(words_to_check=['gun', 'inning', 'win', 'arab', 'problem'])"
   ]
  }
 ],
 "metadata": {
  "kernelspec": {
   "display_name": "Python 3",
   "language": "python",
   "name": "python3"
  },
  "language_info": {
   "codemirror_mode": {
    "name": "ipython",
    "version": 3
   },
   "file_extension": ".py",
   "mimetype": "text/x-python",
   "name": "python",
   "nbconvert_exporter": "python",
   "pygments_lexer": "ipython3",
   "version": "3.7.3"
  }
 },
 "nbformat": 4,
 "nbformat_minor": 2
}
