{
 "cells": [
  {
   "cell_type": "markdown",
   "metadata": {},
   "source": [
    "# Data Preparation\n",
    "## Part 1 of the Workshop \"Text Classification - From Zero to Hero\", by Dr. Omri Allouche, Gong.io, Bar Ilan University\n",
    "In this notebook, we prepare the data for analysis, and save it as CSV files.  \n",
    "We will create different files for train, validation and test named `train.csv`, `val.csv` and `test.csv`.  \n",
    "The Fast-BERT package gets as an input a folder containing these 3 files, and a file with the possible labels."
   ]
  },
  {
   "cell_type": "markdown",
   "metadata": {},
   "source": [
    "In the notebook [Bag of Words and Tf-Idf](bow_tfidf.ipynb) we perform basic Exploratory Data Analysis on the dataset."
   ]
  },
  {
   "cell_type": "markdown",
   "metadata": {},
   "source": [
    "For this exercise, we will use only some of the groups - `rec.sport.baseball`, `rec.sport.hockey`, `talk.politics.guns`, `talk.politics.mideast`.  \n",
    "We will also get only the post text, and remove its header information."
   ]
  },
  {
   "cell_type": "code",
   "execution_count": 1,
   "metadata": {},
   "outputs": [],
   "source": [
    "from sklearn.datasets import fetch_20newsgroups\n",
    "\n",
    "types_to_remove = ('headers', 'footers', 'quotes')\n",
    "newsgroups_categories = ['rec.sport.baseball', 'rec.sport.hockey', 'talk.politics.guns', 'talk.politics.mideast']\n",
    "\n",
    "newsgroups_data = fetch_20newsgroups(subset='all',\n",
    "                                      categories=newsgroups_categories,\n",
    "                                      remove=types_to_remove)"
   ]
  },
  {
   "cell_type": "code",
   "execution_count": 2,
   "metadata": {},
   "outputs": [],
   "source": [
    "import pandas as pd\n",
    "df = pd.DataFrame({'data': newsgroups_data.data, \n",
    "                   'target': newsgroups_data.target,\n",
    "                  'target_name': [newsgroups_data.target_names[x] for x in newsgroups_data.target]})"
   ]
  },
  {
   "cell_type": "code",
   "execution_count": 3,
   "metadata": {},
   "outputs": [
    {
     "data": {
      "text/plain": [
       "(3843, 3)"
      ]
     },
     "execution_count": 3,
     "metadata": {},
     "output_type": "execute_result"
    }
   ],
   "source": [
    "df.shape"
   ]
  },
  {
   "cell_type": "markdown",
   "metadata": {},
   "source": [
    "Next we'll perform basis preprocessing of the text.  "
   ]
  },
  {
   "cell_type": "code",
   "execution_count": 4,
   "metadata": {},
   "outputs": [],
   "source": [
    "def preprocess_text(txt):\n",
    "    txt = txt.replace('\\n', ' ').replace('\\r', ' ').replace('\\t', ' ').replace('?', ' ?').replace('.', ' .').replace(',', ' ,')\n",
    "    txt = txt.lower().strip()\n",
    "    txt = txt.split(' ')\n",
    "    txt = \" \".join([w for w in txt if w!=''])\n",
    "    return txt"
   ]
  },
  {
   "cell_type": "code",
   "execution_count": 5,
   "metadata": {},
   "outputs": [],
   "source": [
    "df['data_processed'] = df['data'].apply(preprocess_text)"
   ]
  },
  {
   "cell_type": "code",
   "execution_count": 6,
   "metadata": {},
   "outputs": [],
   "source": [
    "# Let's filter out documents that are empty after our preprocessing\n",
    "df['num_chars'] = df['data_processed'].apply(len)\n",
    "df = df[ df['num_chars']>0 ]"
   ]
  },
  {
   "cell_type": "code",
   "execution_count": 7,
   "metadata": {},
   "outputs": [
    {
     "name": "stdout",
     "output_type": "stream",
     "text": [
      "...\n",
      "\n",
      "If we are indeed talking about CS, then this is not quite accurate. CS is\n",
      "\"just\" tear gas--albeit the worst kind. It isn't a nausea gas, and doesn't\n",
      "have direct CNS effects. However, it's quite bad--much worse than CN gas. I\n",
      "was briefly exposed to it once (during an engagement in Berkeley circa 1968\n",
      "8^) and it's not the kind of thing you forget. It seems to be\n",
      "moisture-activated--it not only made my eyes sting and water, but attacked\n",
      "my breathing passages and lungs. Breathing was painful, and my entire face\n",
      "felt as if it was on fire. These effects persisted for hours after\n",
      "exposure, and I was coughing for days afterwards.  If I was exposed to a\n",
      "dense concentration of this stuff in a closed space for several hours, I\n",
      "doubt whether I could find the exit. Indeed, I can't imagine living through\n",
      "it.\n",
      "\n",
      "\n",
      ". . . if we are indeed talking about cs , then this is not quite accurate . cs is \"just\" tear gas--albeit the worst kind . it isn't a nausea gas , and doesn't have direct cns effects . however , it's quite bad--much worse than cn gas . i was briefly exposed to it once (during an engagement in berkeley circa 1968 8^) and it's not the kind of thing you forget . it seems to be moisture-activated--it not only made my eyes sting and water , but attacked my breathing passages and lungs . breathing was painful , and my entire face felt as if it was on fire . these effects persisted for hours after exposure , and i was coughing for days afterwards . if i was exposed to a dense concentration of this stuff in a closed space for several hours , i doubt whether i could find the exit . indeed , i can't imagine living through it .\n"
     ]
    }
   ],
   "source": [
    "print(df.iloc[1]['data'])\n",
    "print(df.iloc[1]['data_processed'])"
   ]
  },
  {
   "cell_type": "code",
   "execution_count": 19,
   "metadata": {},
   "outputs": [
    {
     "data": {
      "text/plain": [
       "(1092, 6)"
      ]
     },
     "execution_count": 19,
     "metadata": {},
     "output_type": "execute_result"
    }
   ],
   "source": [
    "df = df[ df['num_chars']<=300 ]\n",
    "df.shape"
   ]
  },
  {
   "cell_type": "code",
   "execution_count": 20,
   "metadata": {},
   "outputs": [],
   "source": [
    "import os\n",
    "os.makedirs('./data', exist_ok=True)"
   ]
  },
  {
   "cell_type": "code",
   "execution_count": 21,
   "metadata": {},
   "outputs": [],
   "source": [
    "# Save the entire dataset to a single file\n",
    "df.to_csv('data/20newsgroups.csv', index=False)"
   ]
  },
  {
   "cell_type": "code",
   "execution_count": 22,
   "metadata": {},
   "outputs": [],
   "source": [
    "# Save files for train, test and validation\n",
    "df = df.reset_index().rename({'data_processed': 'text', 'target_name': 'label'}, axis=1)\n",
    "df_train = df.sample(frac=0.7, random_state=0)\n",
    "df_test = df.drop(df_train.index)\n",
    "df_val = df_test.sample(frac=0.5, random_state=0)\n",
    "df_test = df_test.drop(df_val.index)"
   ]
  },
  {
   "cell_type": "code",
   "execution_count": 23,
   "metadata": {},
   "outputs": [
    {
     "data": {
      "text/html": [
       "<div>\n",
       "<style scoped>\n",
       "    .dataframe tbody tr th:only-of-type {\n",
       "        vertical-align: middle;\n",
       "    }\n",
       "\n",
       "    .dataframe tbody tr th {\n",
       "        vertical-align: top;\n",
       "    }\n",
       "\n",
       "    .dataframe thead th {\n",
       "        text-align: right;\n",
       "    }\n",
       "</style>\n",
       "<table border=\"1\" class=\"dataframe\">\n",
       "  <thead>\n",
       "    <tr style=\"text-align: right;\">\n",
       "      <th></th>\n",
       "      <th>level_0</th>\n",
       "      <th>index</th>\n",
       "      <th>data</th>\n",
       "      <th>target</th>\n",
       "      <th>label</th>\n",
       "      <th>text</th>\n",
       "      <th>num_chars</th>\n",
       "    </tr>\n",
       "  </thead>\n",
       "  <tbody>\n",
       "    <tr>\n",
       "      <th>11</th>\n",
       "      <td>17</td>\n",
       "      <td>35</td>\n",
       "      <td>\\n\\nYeah Valentine, how many rings does Clemen...</td>\n",
       "      <td>0</td>\n",
       "      <td>rec.sport.baseball</td>\n",
       "      <td>yeah valentine , how many rings does clemens h...</td>\n",
       "      <td>248</td>\n",
       "    </tr>\n",
       "    <tr>\n",
       "      <th>23</th>\n",
       "      <td>39</td>\n",
       "      <td>95</td>\n",
       "      <td>I have read that there will be some concrete p...</td>\n",
       "      <td>3</td>\n",
       "      <td>talk.politics.mideast</td>\n",
       "      <td>i have read that there will be some concrete p...</td>\n",
       "      <td>249</td>\n",
       "    </tr>\n",
       "    <tr>\n",
       "      <th>24</th>\n",
       "      <td>41</td>\n",
       "      <td>98</td>\n",
       "      <td>DON MATTINGLY IS THE BEST FIRST BASEMAN IN THE...</td>\n",
       "      <td>0</td>\n",
       "      <td>rec.sport.baseball</td>\n",
       "      <td>don mattingly is the best first baseman in the...</td>\n",
       "      <td>148</td>\n",
       "    </tr>\n",
       "    <tr>\n",
       "      <th>36</th>\n",
       "      <td>62</td>\n",
       "      <td>137</td>\n",
       "      <td>KC(?) news was doing a report on that.  They s...</td>\n",
       "      <td>0</td>\n",
       "      <td>rec.sport.baseball</td>\n",
       "      <td>kc( ?) news was doing a report on that . they ...</td>\n",
       "      <td>229</td>\n",
       "    </tr>\n",
       "    <tr>\n",
       "      <th>41</th>\n",
       "      <td>71</td>\n",
       "      <td>156</td>\n",
       "      <td>I saw a previous request for the Rules and Ins...</td>\n",
       "      <td>1</td>\n",
       "      <td>rec.sport.hockey</td>\n",
       "      <td>i saw a previous request for the rules and ins...</td>\n",
       "      <td>212</td>\n",
       "    </tr>\n",
       "  </tbody>\n",
       "</table>\n",
       "</div>"
      ],
      "text/plain": [
       "    level_0  index                                               data  target  \\\n",
       "11       17     35  \\n\\nYeah Valentine, how many rings does Clemen...       0   \n",
       "23       39     95  I have read that there will be some concrete p...       3   \n",
       "24       41     98  DON MATTINGLY IS THE BEST FIRST BASEMAN IN THE...       0   \n",
       "36       62    137  KC(?) news was doing a report on that.  They s...       0   \n",
       "41       71    156  I saw a previous request for the Rules and Ins...       1   \n",
       "\n",
       "                    label                                               text  \\\n",
       "11     rec.sport.baseball  yeah valentine , how many rings does clemens h...   \n",
       "23  talk.politics.mideast  i have read that there will be some concrete p...   \n",
       "24     rec.sport.baseball  don mattingly is the best first baseman in the...   \n",
       "36     rec.sport.baseball  kc( ?) news was doing a report on that . they ...   \n",
       "41       rec.sport.hockey  i saw a previous request for the rules and ins...   \n",
       "\n",
       "    num_chars  \n",
       "11        248  \n",
       "23        249  \n",
       "24        148  \n",
       "36        229  \n",
       "41        212  "
      ]
     },
     "execution_count": 23,
     "metadata": {},
     "output_type": "execute_result"
    }
   ],
   "source": [
    "df_test.head()"
   ]
  },
  {
   "cell_type": "code",
   "execution_count": 24,
   "metadata": {},
   "outputs": [],
   "source": [
    "df_train.to_csv('data/train.csv', index=False)\n",
    "df_val.to_csv('data/val.csv', index=False)\n",
    "df_test.to_csv('data/test.csv', index=False)"
   ]
  },
  {
   "cell_type": "code",
   "execution_count": 25,
   "metadata": {},
   "outputs": [
    {
     "name": "stderr",
     "output_type": "stream",
     "text": [
      "C:\\ProgramData\\Anaconda3\\lib\\site-packages\\ipykernel_launcher.py:2: FutureWarning: The signature of `Series.to_csv` was aligned to that of `DataFrame.to_csv`, and argument 'header' will change its default value from False to True: please pass an explicit value to suppress this warning.\n",
      "  \n"
     ]
    }
   ],
   "source": [
    "# Save a labels.csv file, needed for fast-bert\n",
    "pd.Series(df['label'].unique()).to_csv('data/labels.csv', index=False)"
   ]
  },
  {
   "cell_type": "code",
   "execution_count": null,
   "metadata": {},
   "outputs": [],
   "source": []
  }
 ],
 "metadata": {
  "kernelspec": {
   "display_name": "Python 3",
   "language": "python",
   "name": "python3"
  },
  "language_info": {
   "codemirror_mode": {
    "name": "ipython",
    "version": 3
   },
   "file_extension": ".py",
   "mimetype": "text/x-python",
   "name": "python",
   "nbconvert_exporter": "python",
   "pygments_lexer": "ipython3",
   "version": "3.7.3"
  }
 },
 "nbformat": 4,
 "nbformat_minor": 2
}
