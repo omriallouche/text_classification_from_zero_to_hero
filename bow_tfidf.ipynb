{
 "cells": [
  {
   "cell_type": "markdown",
   "metadata": {},
   "source": [
    "# 20 Newsgroups Dataset\n",
    "## Dr. Omri Allouche, Gong.io, Bar Ilan University"
   ]
  },
  {
   "cell_type": "markdown",
   "metadata": {},
   "source": [
    "The dataset is included in scikit learn. Downloading it might require some time.  \n",
    "Scikit learn provides helper methods to fetch the data."
   ]
  },
  {
   "cell_type": "code",
   "execution_count": 21,
   "metadata": {},
   "outputs": [],
   "source": [
    "import pandas as pd\n",
    "import numpy as np\n",
    "import matplotlib.pyplot as plt\n",
    "import seaborn as sns\n",
    "from sklearn.datasets import fetch_20newsgroups"
   ]
  },
  {
   "cell_type": "code",
   "execution_count": 3,
   "metadata": {},
   "outputs": [
    {
     "name": "stdout",
     "output_type": "stream",
     "text": [
      "['alt.atheism',\n",
      " 'comp.graphics',\n",
      " 'comp.os.ms-windows.misc',\n",
      " 'comp.sys.ibm.pc.hardware',\n",
      " 'comp.sys.mac.hardware',\n",
      " 'comp.windows.x',\n",
      " 'misc.forsale',\n",
      " 'rec.autos',\n",
      " 'rec.motorcycles',\n",
      " 'rec.sport.baseball',\n",
      " 'rec.sport.hockey',\n",
      " 'sci.crypt',\n",
      " 'sci.electronics',\n",
      " 'sci.med',\n",
      " 'sci.space',\n",
      " 'soc.religion.christian',\n",
      " 'talk.politics.guns',\n",
      " 'talk.politics.mideast',\n",
      " 'talk.politics.misc',\n",
      " 'talk.religion.misc']\n"
     ]
    }
   ],
   "source": [
    "newsgroups_train = fetch_20newsgroups(subset='train')\n",
    "from pprint import pprint\n",
    "pprint(list(newsgroups_train.target_names))"
   ]
  },
  {
   "cell_type": "code",
   "execution_count": 4,
   "metadata": {},
   "outputs": [
    {
     "name": "stdout",
     "output_type": "stream",
     "text": [
      "(11314,)\n",
      "(11314,)\n",
      "[ 7  4  4  1 14 16 13  3  2  4]\n"
     ]
    }
   ],
   "source": [
    "print(newsgroups_train.filenames.shape)\n",
    "print(newsgroups_train.target.shape)\n",
    "print(newsgroups_train.target[:10])"
   ]
  },
  {
   "cell_type": "markdown",
   "metadata": {},
   "source": [
    "For this exercise, we will use only some of the groups - `rec.sport.baseball`, `rec.sport.hockey`, `talk.politics.guns`, `talk.politics.mideast`.  \n",
    "We will also get only the post text, and remove its header information."
   ]
  },
  {
   "cell_type": "code",
   "execution_count": 123,
   "metadata": {},
   "outputs": [],
   "source": [
    "newsgroups_categories = ['rec.sport.baseball', 'rec.sport.hockey', 'talk.politics.guns', 'talk.politics.mideast']\n",
    "newsgroups_train = fetch_20newsgroups(subset='train',\n",
    "                                      categories=newsgroups_categories,\n",
    "                                      remove=('headers', 'footers', 'quotes'))"
   ]
  },
  {
   "cell_type": "markdown",
   "metadata": {},
   "source": [
    "We can see below that we have roughly 580 documents in each class:"
   ]
  },
  {
   "cell_type": "code",
   "execution_count": 3,
   "metadata": {},
   "outputs": [
    {
     "data": {
      "text/plain": [
       "1    600\n",
       "0    597\n",
       "3    564\n",
       "2    546\n",
       "dtype: int64"
      ]
     },
     "execution_count": 3,
     "metadata": {},
     "output_type": "execute_result"
    }
   ],
   "source": [
    "pd.Series(newsgroups_train.target).value_counts()"
   ]
  },
  {
   "cell_type": "code",
   "execution_count": 17,
   "metadata": {},
   "outputs": [],
   "source": [
    "df['doc_len'] = df['data'].str.len()"
   ]
  },
  {
   "cell_type": "code",
   "execution_count": 18,
   "metadata": {},
   "outputs": [
    {
     "data": {
      "text/html": [
       "<div>\n",
       "<style scoped>\n",
       "    .dataframe tbody tr th:only-of-type {\n",
       "        vertical-align: middle;\n",
       "    }\n",
       "\n",
       "    .dataframe tbody tr th {\n",
       "        vertical-align: top;\n",
       "    }\n",
       "\n",
       "    .dataframe thead th {\n",
       "        text-align: right;\n",
       "    }\n",
       "</style>\n",
       "<table border=\"1\" class=\"dataframe\">\n",
       "  <thead>\n",
       "    <tr style=\"text-align: right;\">\n",
       "      <th></th>\n",
       "      <th>data</th>\n",
       "      <th>target</th>\n",
       "      <th>target_name</th>\n",
       "      <th>doc_len</th>\n",
       "    </tr>\n",
       "  </thead>\n",
       "  <tbody>\n",
       "    <tr>\n",
       "      <th>0</th>\n",
       "      <td>Does anyone have the scoop on Scot Erickson?  ...</td>\n",
       "      <td>0</td>\n",
       "      <td>rec.sport.baseball</td>\n",
       "      <td>83</td>\n",
       "    </tr>\n",
       "    <tr>\n",
       "      <th>1</th>\n",
       "      <td>\\nNot particularly *in* the World Series. Duri...</td>\n",
       "      <td>0</td>\n",
       "      <td>rec.sport.baseball</td>\n",
       "      <td>3094</td>\n",
       "    </tr>\n",
       "    <tr>\n",
       "      <th>2</th>\n",
       "      <td>\\nI think the three-headed GM's guiding princi...</td>\n",
       "      <td>1</td>\n",
       "      <td>rec.sport.hockey</td>\n",
       "      <td>944</td>\n",
       "    </tr>\n",
       "    <tr>\n",
       "      <th>3</th>\n",
       "      <td>\\n\\n\\nA suggestion: cameras panning over plant...</td>\n",
       "      <td>2</td>\n",
       "      <td>talk.politics.guns</td>\n",
       "      <td>153</td>\n",
       "    </tr>\n",
       "    <tr>\n",
       "      <th>4</th>\n",
       "      <td>\\nDon't you Americans study history...the Fren...</td>\n",
       "      <td>1</td>\n",
       "      <td>rec.sport.hockey</td>\n",
       "      <td>201</td>\n",
       "    </tr>\n",
       "  </tbody>\n",
       "</table>\n",
       "</div>"
      ],
      "text/plain": [
       "                                                data  target  \\\n",
       "0  Does anyone have the scoop on Scot Erickson?  ...       0   \n",
       "1  \\nNot particularly *in* the World Series. Duri...       0   \n",
       "2  \\nI think the three-headed GM's guiding princi...       1   \n",
       "3  \\n\\n\\nA suggestion: cameras panning over plant...       2   \n",
       "4  \\nDon't you Americans study history...the Fren...       1   \n",
       "\n",
       "          target_name  doc_len  \n",
       "0  rec.sport.baseball       83  \n",
       "1  rec.sport.baseball     3094  \n",
       "2    rec.sport.hockey      944  \n",
       "3  talk.politics.guns      153  \n",
       "4    rec.sport.hockey      201  "
      ]
     },
     "execution_count": 18,
     "metadata": {},
     "output_type": "execute_result"
    }
   ],
   "source": [
    "df.head()"
   ]
  },
  {
   "cell_type": "code",
   "execution_count": 24,
   "metadata": {},
   "outputs": [
    {
     "data": {
      "text/plain": [
       "(0, 5000)"
      ]
     },
     "execution_count": 24,
     "metadata": {},
     "output_type": "execute_result"
    },
    {
     "data": {
      "image/png": "[encoded data removed]",
      "text/plain": [
       "<Figure size 432x288 with 1 Axes>"
      ]
     },
     "metadata": {
      "needs_background": "light"
     },
     "output_type": "display_data"
    }
   ],
   "source": [
    "sns.boxplot(data=df, y='target_name', x='doc_len')\n",
    "plt.xlim(0,5000)"
   ]
  },
  {
   "cell_type": "markdown",
   "metadata": {},
   "source": [
    "Now let's fit a Tf-Idf vectorizer to these documents. We'll remove English stopwords, and check the words that have the highest Tfidf score for each class:"
   ]
  },
  {
   "cell_type": "code",
   "execution_count": 104,
   "metadata": {},
   "outputs": [
    {
     "data": {
      "text/plain": [
       "(2307, 30248)"
      ]
     },
     "execution_count": 104,
     "metadata": {},
     "output_type": "execute_result"
    }
   ],
   "source": [
    "from sklearn.feature_extraction.text import TfidfVectorizer\n",
    "vectorizer = TfidfVectorizer(stop_words='english')\n",
    "vectors = vectorizer.fit_transform(newsgroups_train.data)\n",
    "vectors.shape"
   ]
  },
  {
   "cell_type": "code",
   "execution_count": 105,
   "metadata": {},
   "outputs": [],
   "source": [
    "df['tfidf'] = list(vectors.toarray())"
   ]
  },
  {
   "cell_type": "code",
   "execution_count": 119,
   "metadata": {},
   "outputs": [
    {
     "name": "stdout",
     "output_type": "stream",
     "text": [
      "rec.sport.baseball\n",
      "['year', 'baseball', 'team', 'game', 'runs', 'games', 'think', 'hit', 'good', 'pitching', 'braves', 'don', 'just', 'players', 'like', 'win', 'know', 'time', 'season', 'ball']\n",
      "\n",
      "rec.sport.hockey\n",
      "['game', 'team', 'hockey', 'play', 'games', 'players', 'season', 'nhl', 'year', 'think', 'don', 'like', 'just', 'detroit', 'good', 'leafs', 'league', 'teams', 'playoffs', 'pittsburgh']\n",
      "\n",
      "talk.politics.guns\n",
      "['gun', 'people', 'guns', 'don', 'fbi', 'weapons', 'just', 'law', 'government', 'right', 'think', 'like', 'know', 'firearms', 'com', 'use', 'batf', 'police', 'make', 'crime']\n",
      "\n",
      "talk.politics.mideast\n",
      "['israel', 'israeli', 'jews', 'people', 'armenian', 'armenians', 'turkish', 'arab', 'just', 'said', 'jewish', 'arabs', 'turkey', 'like', 'peace', 'don', 'know', 'did', 'war', 'say']\n",
      "\n"
     ]
    }
   ],
   "source": [
    "inverse_vocab = {v: k for k,v in vectorizer.vocabulary_.items()}\n",
    "top_terms = df.groupby('target_name')['tfidf'].apply(lambda x: x.sum(axis=0))\n",
    "for i,r in top_terms.iteritems():\n",
    "    print(i)\n",
    "    print([inverse_vocab[x] for x in np.argsort(r)[-20:][::-1]])\n",
    "    print()"
   ]
  },
  {
   "cell_type": "markdown",
   "metadata": {},
   "source": [
    "### Basic Classifier\n",
    "Next, let's build a basic classifier. Let's use the Multinomial Naive Bayes:"
   ]
  },
  {
   "cell_type": "code",
   "execution_count": 185,
   "metadata": {},
   "outputs": [],
   "source": [
    "from sklearn.naive_bayes import MultinomialNB\n",
    "from sklearn import metrics\n",
    "newsgroups_test = fetch_20newsgroups(subset='test', \n",
    "                                     remove=('headers', 'footers', 'quotes'),\n",
    "                                     categories=newsgroups_categories)\n",
    "vectors_test = vectorizer.transform(newsgroups_test.data)\n",
    "clf = MultinomialNB()\n",
    "clf.fit(vectors, newsgroups_train.target)\n",
    "\n",
    "y_truth = newsgroups_test.target\n",
    "y_predict_proba = clf.predict_proba(vectors_test)\n",
    "y_predict = clf.predict(vectors_test)"
   ]
  },
  {
   "cell_type": "code",
   "execution_count": 186,
   "metadata": {},
   "outputs": [
    {
     "data": {
      "text/plain": [
       "0.893119327249776"
      ]
     },
     "execution_count": 186,
     "metadata": {},
     "output_type": "execute_result"
    }
   ],
   "source": [
    "metrics.f1_score(y_truth, y_predict, average='macro')"
   ]
  },
  {
   "cell_type": "markdown",
   "metadata": {},
   "source": [
    "We see that even a simple model performs pretty well. Let's examine the most important features for each class:"
   ]
  },
  {
   "cell_type": "code",
   "execution_count": 187,
   "metadata": {},
   "outputs": [
    {
     "name": "stdout",
     "output_type": "stream",
     "text": [
      "rec.sport.baseball\n",
      "ball, season, time, know, win, like, players, just, don, braves, pitching, good, hit, think, games, runs, game, team, baseball, year\n",
      "\n",
      "rec.sport.hockey\n",
      "pittsburgh, playoffs, teams, league, leafs, good, detroit, just, like, don, think, year, nhl, season, players, games, play, hockey, team, game\n",
      "\n",
      "talk.politics.guns\n",
      "crime, make, police, batf, use, com, firearms, know, like, think, right, government, law, just, weapons, fbi, don, guns, people, gun\n",
      "\n",
      "talk.politics.mideast\n",
      "say, war, did, know, don, peace, like, turkey, arabs, jewish, said, just, arab, turkish, armenians, armenian, people, jews, israeli, israel\n",
      "\n"
     ]
    }
   ],
   "source": [
    "def show_top_terms(classifier, vectorizer, categories):\n",
    "    feature_names = np.asarray(vectorizer.get_feature_names())\n",
    "    for i, category in enumerate(categories):\n",
    "        top_terms = np.argsort(classifier.coef_[i])[-20:]\n",
    "        print(category)\n",
    "        print(\", \".join(feature_names[top_terms]))\n",
    "        print()\n",
    "\n",
    "show_top_terms(clf, vectorizer, newsgroups_train.target_names)"
   ]
  },
  {
   "cell_type": "markdown",
   "metadata": {},
   "source": [
    "Let's further examine the classification report and the confusion matrix:"
   ]
  },
  {
   "cell_type": "code",
   "execution_count": 188,
   "metadata": {},
   "outputs": [],
   "source": [
    "import numpy as np\n",
    "import pandas as pd\n",
    "import seaborn as sns\n",
    "# import copy\n",
    "# from sklearn.model_selection import train_test_split\n",
    "# from sklearn.metrics import accuracy_score, f1_score, confusion_matrix, classification_report\n",
    "from sklearn.metrics import roc_curve, auc, precision_recall_curve\n",
    "import matplotlib.pyplot as plt\n",
    "\n",
    "\n",
    "def plot_roc_curve( y_predict_proba, y_truth):\n",
    "    y_score = np.array(y_predict_proba)\n",
    "    if len(y_truth.shape) == 1:\n",
    "        dummies = pd.get_dummies(y_truth)\n",
    "        y_dummies = dummies.values\n",
    "    else:\n",
    "        y_dummies = y_truth\n",
    "\n",
    "    y_classes = dummies.columns\n",
    "\n",
    "    # Compute ROC curve and ROC area for each class\n",
    "    fpr = dict()\n",
    "    tpr = dict()\n",
    "    thresholds = dict()\n",
    "    roc_auc = dict()\n",
    "    for i, class_name in enumerate(y_classes):\n",
    "        fpr[i], tpr[i], thresholds[i] = roc_curve(y_dummies[:, i], y_score[:, i])\n",
    "        roc_auc[i] = auc(fpr[i], tpr[i])\n",
    "\n",
    "    # Compute micro-average ROC curve and ROC area\n",
    "    fpr[\"micro\"], tpr[\"micro\"], _ = roc_curve(y_dummies.ravel(), y_score.ravel())\n",
    "    roc_auc[\"micro\"] = auc(fpr[\"micro\"], tpr[\"micro\"])\n",
    "\n",
    "    plt.figure()\n",
    "    lw = 2\n",
    "    for i, class_name in enumerate(y_classes):\n",
    "        plt.plot(fpr[i], tpr[i],\n",
    "                 lw=lw, label='%s (area = %0.2f)' % (class_name, roc_auc[i]))\n",
    "\n",
    "    plt.plot([0, 1], [0, 1], color='navy', lw=lw, linestyle='--')\n",
    "    plt.xlim([0.0, 1.0])\n",
    "    plt.ylim([0.0, 1.05])\n",
    "    plt.xlabel('False Positive Rate')\n",
    "    plt.ylabel('True Positive Rate')\n",
    "    plt.title('Receiver operating characteristic')\n",
    "    plt.legend(loc=\"lower right\")\n",
    "\n",
    "    # threshold for positive class\n",
    "    ax2 = plt.gca().twinx()\n",
    "    ax2.plot(fpr[1], thresholds[1], markeredgecolor='r', linestyle='dashed', color='r')\n",
    "    ax2.set_ylabel('Threshold')\n",
    "    ax2.set_ylim([thresholds[1][-1], thresholds[1][0]])\n",
    "    ax2.set_xlim([fpr[1][0], fpr[1][-1]])\n",
    "\n",
    "    # plt.show()\n",
    "    return plt.gcf()\n",
    "\n",
    "\n",
    "def plot_precision_recall_curve(  y_predict_proba, y_truth):\n",
    "    y_score = np.array(y_predict_proba)\n",
    "    if len(y_truth.shape) == 1:\n",
    "        dummies = pd.get_dummies(y_truth)\n",
    "        y_dummies = dummies.values\n",
    "    else:\n",
    "        y_dummies = y_truth\n",
    "\n",
    "    y_classes = dummies.columns\n",
    "    for i, class_name in enumerate(y_classes):\n",
    "        precision, recall, thresholds = precision_recall_curve(y_dummies[:, i], y_score[:, i])\n",
    "\n",
    "        plt.step(recall, precision,\n",
    "                 label=class_name,\n",
    "                 lw=2,\n",
    "                 where='post')\n",
    "\n",
    "    plt.xlabel('Recall')\n",
    "    plt.ylabel('Precision')\n",
    "    plt.ylim([0.0, 1.05])\n",
    "    plt.xlim([0.0, 1.0])\n",
    "    plt.legend(loc=\"lower left\")\n",
    "\n",
    "    # ax2 = plt.gca().twinx()\n",
    "    # ax2.plot(recall[1:], thresholds, markeredgecolor='r',linestyle='dashed', color='r')\n",
    "    # ax2.set_ylabel('Threshold')\n",
    "\n",
    "    # plt.show()\n",
    "    return plt.gcf()\n",
    "\n",
    "\n",
    "def plot_confidence_performance(y_predict, y_predict_proba, y_truth, num_bins=20):\n",
    "    predicted_probabilities = np.max(y_predict_proba, axis=1)\n",
    "    is_correct = (y_truth == y_predict)\n",
    "    ax = sns.regplot(x=predicted_probabilities, y=is_correct, x_bins=num_bins)\n",
    "    plt.xlabel('Model Confidence')\n",
    "    plt.ylabel('Average accuracy')\n",
    "    # plt.show()\n",
    "    return plt.gcf()\n"
   ]
  },
  {
   "cell_type": "code",
   "execution_count": 189,
   "metadata": {},
   "outputs": [],
   "source": [
    "import numpy as np\n",
    "import matplotlib.pyplot as plt\n",
    "\n",
    "from sklearn.metrics import confusion_matrix\n",
    "from sklearn.utils.multiclass import unique_labels\n",
    "\n",
    "\n",
    "def plot_confusion_matrix(y_true, y_pred, classes=None,\n",
    "                          normalize=False,\n",
    "                          title=None,\n",
    "                          cmap=plt.cm.Blues):\n",
    "    \"\"\"\n",
    "    This function prints and plots the confusion matrix.\n",
    "    Normalization can be applied by setting `normalize=True`.\n",
    "    \"\"\"\n",
    "    if not title:\n",
    "        if normalize:\n",
    "            title = 'Normalized confusion matrix'\n",
    "        else:\n",
    "            title = 'Confusion matrix, without normalization'\n",
    "\n",
    "    # Compute confusion matrix\n",
    "    cm = confusion_matrix(y_true, y_pred)\n",
    "    if classes is not None:\n",
    "        # Only use the labels that appear in the data\n",
    "        classes = [classes[x] for x in unique_labels(y_true, y_pred)]\n",
    "    else:\n",
    "        classes = unique_labels(y_true, y_pred)\n",
    "\n",
    "    if normalize:\n",
    "        cm = cm.astype('float') / cm.sum(axis=1)[:, np.newaxis]\n",
    "        print(\"Normalized confusion matrix\")\n",
    "    else:\n",
    "        print('Confusion matrix, without normalization')\n",
    "\n",
    "    print(cm)\n",
    "\n",
    "    fig, ax = plt.subplots()\n",
    "    im = ax.imshow(cm, interpolation='nearest', cmap=cmap)\n",
    "    ax.figure.colorbar(im, ax=ax)\n",
    "    # We want to show all ticks...\n",
    "    ax.set(xticks=np.arange(cm.shape[1]),\n",
    "           yticks=np.arange(cm.shape[0]),\n",
    "           # ... and label them with the respective list entries\n",
    "           xticklabels=classes, yticklabels=classes,\n",
    "           title=title,\n",
    "           ylabel='True label',\n",
    "           xlabel='Predicted label')\n",
    "\n",
    "    # Rotate the tick labels and set their alignment.\n",
    "    plt.setp(ax.get_xticklabels(), rotation=45, ha=\"right\",\n",
    "             rotation_mode=\"anchor\")\n",
    "\n",
    "    # Loop over data dimensions and create text annotations.\n",
    "    fmt = '.2f' if normalize else 'd'\n",
    "    thresh = cm.max() / 2.\n",
    "    for i in range(cm.shape[0]):\n",
    "        for j in range(cm.shape[1]):\n",
    "            ax.text(j, i, format(cm[i, j], fmt),\n",
    "                    ha=\"center\", va=\"center\",\n",
    "                    color=\"white\" if cm[i, j] > thresh else \"black\")\n",
    "    fig.tight_layout()\n",
    "    return fig\n",
    "\n",
    "\n",
    "def print_cm(cm, labels, hide_zeroes=False, hide_diagonal=False, hide_threshold=None):\n",
    "    \"\"\"pretty print for confusion matrixes\"\"\"\n",
    "    columnwidth = max([len(x) for x in labels] + [5])  # 5 is value length\n",
    "    empty_cell = \" \" * columnwidth\n",
    "\n",
    "    # Begin CHANGES\n",
    "    fst_empty_cell = (columnwidth - 3) // 2 * \" \" + \"t/p\" + (columnwidth - 3) // 2 * \" \"\n",
    "\n",
    "    if len(fst_empty_cell) < len(empty_cell):\n",
    "        fst_empty_cell = \" \" * (len(empty_cell) - len(fst_empty_cell)) + fst_empty_cell\n",
    "    # Print header\n",
    "    print(\"    \" + fst_empty_cell, end=\" \")\n",
    "    # End CHANGES\n",
    "\n",
    "    for label in labels:\n",
    "        print(\"%{0}s\".format(columnwidth) % label, end=\" \")\n",
    "\n",
    "    print()\n",
    "    # Print rows\n",
    "    for i, label1 in enumerate(labels):\n",
    "        print(\"    %{0}s\".format(columnwidth) % label1, end=\" \")\n",
    "        for j in range(len(labels)):\n",
    "            cell = \"%{0}.1f\".format(columnwidth) % cm[i, j]\n",
    "            if hide_zeroes:\n",
    "                cell = cell if float(cm[i, j]) != 0 else empty_cell\n",
    "            if hide_diagonal:\n",
    "                cell = cell if i != j else empty_cell\n",
    "            if hide_threshold:\n",
    "                cell = cell if cm[i, j] > hide_threshold else empty_cell\n",
    "            print(cell, end=\" \")\n",
    "        print()\n"
   ]
  },
  {
   "cell_type": "code",
   "execution_count": 190,
   "metadata": {},
   "outputs": [
    {
     "data": {
      "text/plain": [
       "['rec.sport.baseball',\n",
       " 'rec.sport.hockey',\n",
       " 'talk.politics.guns',\n",
       " 'talk.politics.mideast']"
      ]
     },
     "execution_count": 190,
     "metadata": {},
     "output_type": "execute_result"
    }
   ],
   "source": [
    "newsgroups_test.target_names"
   ]
  },
  {
   "cell_type": "code",
   "execution_count": 191,
   "metadata": {},
   "outputs": [
    {
     "name": "stdout",
     "output_type": "stream",
     "text": [
      "                       precision    recall  f1-score   support\n",
      "\n",
      "   rec.sport.baseball       0.95      0.86      0.90       397\n",
      "     rec.sport.hockey       0.84      0.95      0.89       399\n",
      "   talk.politics.guns       0.89      0.87      0.88       364\n",
      "talk.politics.mideast       0.90      0.90      0.90       376\n",
      "\n",
      "            micro avg       0.89      0.89      0.89      1536\n",
      "            macro avg       0.90      0.89      0.89      1536\n",
      "         weighted avg       0.90      0.89      0.89      1536\n",
      "\n"
     ]
    }
   ],
   "source": [
    "from sklearn import metrics\n",
    "print(metrics.classification_report(y_truth, y_predict, target_names=newsgroups_test.target_names))"
   ]
  },
  {
   "cell_type": "code",
   "execution_count": 192,
   "metadata": {},
   "outputs": [
    {
     "name": "stdout",
     "output_type": "stream",
     "text": [
      "Normalized confusion matrix\n",
      "[[0.85642317 0.11083123 0.01511335 0.01763224]\n",
      " [0.01754386 0.94736842 0.02255639 0.01253133]\n",
      " [0.01923077 0.0467033  0.86813187 0.06593407]\n",
      " [0.00797872 0.02659574 0.06648936 0.89893617]]\n"
     ]
    },
    {
     "data": {
      "image/png": "[encoded data removed]",
      "text/plain": [
       "<Figure size 432x288 with 2 Axes>"
      ]
     },
     "metadata": {
      "needs_background": "light"
     },
     "output_type": "display_data"
    }
   ],
   "source": [
    "plot_confusion_matrix(y_truth, y_predict, classes=newsgroups_test.target_names, normalize=True, title='Normalized confusion matrix - test');"
   ]
  },
  {
   "cell_type": "code",
   "execution_count": 193,
   "metadata": {},
   "outputs": [
    {
     "data": {
      "image/png": "[encoded data removed]",
      "text/plain": [
       "<Figure size 432x288 with 1 Axes>"
      ]
     },
     "metadata": {
      "needs_background": "light"
     },
     "output_type": "display_data"
    }
   ],
   "source": [
    "plot_precision_recall_curve(y_predict_proba, y_truth);"
   ]
  },
  {
   "cell_type": "code",
   "execution_count": 194,
   "metadata": {},
   "outputs": [
    {
     "data": {
      "image/png": "[encoded data removed]",
      "text/plain": [
       "<Figure size 432x288 with 1 Axes>"
      ]
     },
     "metadata": {
      "needs_background": "light"
     },
     "output_type": "display_data"
    }
   ],
   "source": [
    "plot_confidence_performance(y_predict, y_predict_proba, y_truth, num_bins=20);"
   ]
  },
  {
   "cell_type": "markdown",
   "metadata": {},
   "source": [
    "Next, let's perform an error analysis and manually review documents that are wrongly classified. We will focus on documents that have a high model confidence:"
   ]
  },
  {
   "cell_type": "code",
   "execution_count": 200,
   "metadata": {},
   "outputs": [],
   "source": [
    "df_test = pd.DataFrame({\n",
    "    'data': newsgroups_test.data,\n",
    "    'target': newsgroups_test.target,\n",
    "    'target_name': [newsgroups_test.target_names[x] for x in newsgroups_test.target],\n",
    "    'y_truth': y_truth,\n",
    "    'y_predict': y_predict\n",
    "})"
   ]
  },
  {
   "cell_type": "code",
   "execution_count": 201,
   "metadata": {},
   "outputs": [],
   "source": [
    "df_test['is_error'] = y_predict != y_truth"
   ]
  },
  {
   "cell_type": "code",
   "execution_count": 202,
   "metadata": {},
   "outputs": [],
   "source": [
    "def print_document(i,r):\n",
    "    \n",
    "    print('Document #{}. True label: {}. Predicted: {} (confidence: {:.1}%)'.format(\n",
    "        i,\n",
    "        r['target_name'], \n",
    "        newsgroups_test.target_names[ r['y_predict'] ],\n",
    "        0.5\n",
    "    ))\n",
    "    print()\n",
    "    print(r['data'])"
   ]
  },
  {
   "cell_type": "code",
   "execution_count": 205,
   "metadata": {},
   "outputs": [],
   "source": [
    "df_test['doc_len'] = df_test['data'].str.len()"
   ]
  },
  {
   "cell_type": "code",
   "execution_count": 203,
   "metadata": {},
   "outputs": [
    {
     "data": {
      "text/html": [
       "<div>\n",
       "<style scoped>\n",
       "    .dataframe tbody tr th:only-of-type {\n",
       "        vertical-align: middle;\n",
       "    }\n",
       "\n",
       "    .dataframe tbody tr th {\n",
       "        vertical-align: top;\n",
       "    }\n",
       "\n",
       "    .dataframe thead th {\n",
       "        text-align: right;\n",
       "    }\n",
       "</style>\n",
       "<table border=\"1\" class=\"dataframe\">\n",
       "  <thead>\n",
       "    <tr style=\"text-align: right;\">\n",
       "      <th></th>\n",
       "      <th>data</th>\n",
       "      <th>target</th>\n",
       "      <th>target_name</th>\n",
       "      <th>y_truth</th>\n",
       "      <th>y_predict</th>\n",
       "      <th>is_error</th>\n",
       "    </tr>\n",
       "  </thead>\n",
       "  <tbody>\n",
       "    <tr>\n",
       "      <th>1535</th>\n",
       "      <td>\\n  I'd have to agree with you there Joe.</td>\n",
       "      <td>2</td>\n",
       "      <td>talk.politics.guns</td>\n",
       "      <td>2</td>\n",
       "      <td>1</td>\n",
       "      <td>True</td>\n",
       "    </tr>\n",
       "    <tr>\n",
       "      <th>1219</th>\n",
       "      <td>\\nWell, it seems we don't learn the lessons of...</td>\n",
       "      <td>2</td>\n",
       "      <td>talk.politics.guns</td>\n",
       "      <td>2</td>\n",
       "      <td>3</td>\n",
       "      <td>True</td>\n",
       "    </tr>\n",
       "    <tr>\n",
       "      <th>380</th>\n",
       "      <td></td>\n",
       "      <td>0</td>\n",
       "      <td>rec.sport.baseball</td>\n",
       "      <td>0</td>\n",
       "      <td>1</td>\n",
       "      <td>True</td>\n",
       "    </tr>\n",
       "    <tr>\n",
       "      <th>379</th>\n",
       "      <td>\\n\\n\\nGood question.  It's my impression, not ...</td>\n",
       "      <td>0</td>\n",
       "      <td>rec.sport.baseball</td>\n",
       "      <td>0</td>\n",
       "      <td>2</td>\n",
       "      <td>True</td>\n",
       "    </tr>\n",
       "    <tr>\n",
       "      <th>376</th>\n",
       "      <td>Again I assume this is not just flame bait by ...</td>\n",
       "      <td>1</td>\n",
       "      <td>rec.sport.hockey</td>\n",
       "      <td>1</td>\n",
       "      <td>2</td>\n",
       "      <td>True</td>\n",
       "    </tr>\n",
       "  </tbody>\n",
       "</table>\n",
       "</div>"
      ],
      "text/plain": [
       "                                                   data  target  \\\n",
       "1535          \\n  I'd have to agree with you there Joe.       2   \n",
       "1219  \\nWell, it seems we don't learn the lessons of...       2   \n",
       "380                                                           0   \n",
       "379   \\n\\n\\nGood question.  It's my impression, not ...       0   \n",
       "376   Again I assume this is not just flame bait by ...       1   \n",
       "\n",
       "             target_name  y_truth  y_predict  is_error  \n",
       "1535  talk.politics.guns        2          1      True  \n",
       "1219  talk.politics.guns        2          3      True  \n",
       "380   rec.sport.baseball        0          1      True  \n",
       "379   rec.sport.baseball        0          2      True  \n",
       "376     rec.sport.hockey        1          2      True  "
      ]
     },
     "execution_count": 203,
     "metadata": {},
     "output_type": "execute_result"
    }
   ],
   "source": [
    "df_test.sort_values('is_error', ascending=False).head()"
   ]
  },
  {
   "cell_type": "code",
   "execution_count": 204,
   "metadata": {},
   "outputs": [
    {
     "name": "stdout",
     "output_type": "stream",
     "text": [
      "Document #578. True label: talk.politics.guns. Predicted: rec.sport.hockey (confidence: 0.5%)\n",
      "\n",
      " \n",
      "  I'd have to agree with you there Joe.\n"
     ]
    }
   ],
   "source": [
    "print_document('578', df_test.loc[1535])"
   ]
  },
  {
   "cell_type": "code",
   "execution_count": 176,
   "metadata": {},
   "outputs": [
    {
     "data": {
      "text/plain": [
       "'rec.sport.hockey'"
      ]
     },
     "execution_count": 176,
     "metadata": {},
     "output_type": "execute_result"
    }
   ],
   "source": [
    "newsgroups_test.target_names[ df_test.loc[578]['y_predict'] ]"
   ]
  },
  {
   "cell_type": "code",
   "execution_count": 209,
   "metadata": {},
   "outputs": [
    {
     "data": {
      "text/html": [
       "<div>\n",
       "<style scoped>\n",
       "    .dataframe tbody tr th:only-of-type {\n",
       "        vertical-align: middle;\n",
       "    }\n",
       "\n",
       "    .dataframe tbody tr th {\n",
       "        vertical-align: top;\n",
       "    }\n",
       "\n",
       "    .dataframe thead th {\n",
       "        text-align: right;\n",
       "    }\n",
       "</style>\n",
       "<table border=\"1\" class=\"dataframe\">\n",
       "  <thead>\n",
       "    <tr style=\"text-align: right;\">\n",
       "      <th></th>\n",
       "      <th>data</th>\n",
       "      <th>target</th>\n",
       "      <th>target_name</th>\n",
       "      <th>y_truth</th>\n",
       "      <th>y_predict</th>\n",
       "      <th>is_error</th>\n",
       "      <th>doc_len</th>\n",
       "    </tr>\n",
       "  </thead>\n",
       "  <tbody>\n",
       "    <tr>\n",
       "      <th>0</th>\n",
       "      <td>[snip]....\\n\\n\\n\\n\\n\\n\\n\\n\\n\\tExcellent point,...</td>\n",
       "      <td>2</td>\n",
       "      <td>talk.politics.guns</td>\n",
       "      <td>2</td>\n",
       "      <td>2</td>\n",
       "      <td>False</td>\n",
       "      <td>677</td>\n",
       "    </tr>\n",
       "    <tr>\n",
       "      <th>1</th>\n",
       "      <td>Ugliest swing..I am not sure. I think the ugli...</td>\n",
       "      <td>0</td>\n",
       "      <td>rec.sport.baseball</td>\n",
       "      <td>0</td>\n",
       "      <td>0</td>\n",
       "      <td>False</td>\n",
       "      <td>190</td>\n",
       "    </tr>\n",
       "    <tr>\n",
       "      <th>2</th>\n",
       "      <td>Do the Isles have another defenseman to insert...</td>\n",
       "      <td>1</td>\n",
       "      <td>rec.sport.hockey</td>\n",
       "      <td>1</td>\n",
       "      <td>1</td>\n",
       "      <td>False</td>\n",
       "      <td>817</td>\n",
       "    </tr>\n",
       "    <tr>\n",
       "      <th>3</th>\n",
       "      <td>This comes indirectly from Al Morgani who work...</td>\n",
       "      <td>1</td>\n",
       "      <td>rec.sport.hockey</td>\n",
       "      <td>1</td>\n",
       "      <td>1</td>\n",
       "      <td>False</td>\n",
       "      <td>704</td>\n",
       "    </tr>\n",
       "    <tr>\n",
       "      <th>4</th>\n",
       "      <td>Team Canada defeated Russia 3-1 to finish the ...</td>\n",
       "      <td>1</td>\n",
       "      <td>rec.sport.hockey</td>\n",
       "      <td>1</td>\n",
       "      <td>1</td>\n",
       "      <td>False</td>\n",
       "      <td>491</td>\n",
       "    </tr>\n",
       "  </tbody>\n",
       "</table>\n",
       "</div>"
      ],
      "text/plain": [
       "                                                data  target  \\\n",
       "0  [snip]....\\n\\n\\n\\n\\n\\n\\n\\n\\n\\tExcellent point,...       2   \n",
       "1  Ugliest swing..I am not sure. I think the ugli...       0   \n",
       "2  Do the Isles have another defenseman to insert...       1   \n",
       "3  This comes indirectly from Al Morgani who work...       1   \n",
       "4  Team Canada defeated Russia 3-1 to finish the ...       1   \n",
       "\n",
       "          target_name  y_truth  y_predict  is_error  doc_len  \n",
       "0  talk.politics.guns        2          2     False      677  \n",
       "1  rec.sport.baseball        0          0     False      190  \n",
       "2    rec.sport.hockey        1          1     False      817  \n",
       "3    rec.sport.hockey        1          1     False      704  \n",
       "4    rec.sport.hockey        1          1     False      491  "
      ]
     },
     "execution_count": 209,
     "metadata": {},
     "output_type": "execute_result"
    }
   ],
   "source": [
    "df_test.head()"
   ]
  },
  {
   "cell_type": "code",
   "execution_count": 213,
   "metadata": {},
   "outputs": [
    {
     "data": {
      "text/plain": [
       "(0, 5000)"
      ]
     },
     "execution_count": 213,
     "metadata": {},
     "output_type": "execute_result"
    },
    {
     "data": {
      "image/png": "[encoded data removed]",
      "text/plain": [
       "<Figure size 432x288 with 1 Axes>"
      ]
     },
     "metadata": {
      "needs_background": "light"
     },
     "output_type": "display_data"
    }
   ],
   "source": [
    "sns.boxplot(data=df_test, x=df_test['is_error'].astype(int), y='doc_len')\n",
    "plt.ylim(0,5000)"
   ]
  },
  {
   "cell_type": "code",
   "execution_count": null,
   "metadata": {},
   "outputs": [],
   "source": []
  }
 ],
 "metadata": {
  "kernelspec": {
   "display_name": "Python 3",
   "language": "python",
   "name": "python3"
  },
  "language_info": {
   "codemirror_mode": {
    "name": "ipython",
    "version": 3
   },
   "file_extension": ".py",
   "mimetype": "text/x-python",
   "name": "python",
   "nbconvert_exporter": "python",
   "pygments_lexer": "ipython3",
   "version": "3.7.3"
  }
 },
 "nbformat": 4,
 "nbformat_minor": 2
}
