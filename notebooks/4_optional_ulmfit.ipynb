{
 "cells": [
  {
   "cell_type": "code",
   "execution_count": 1,
   "metadata": {
    "colab": {
     "base_uri": "https://localhost:8080/",
     "height": 101
    },
    "colab_type": "code",
    "id": "8U93_ToH1Y9z",
    "outputId": "87a1e0a6-f5ea-4e52-bcc8-189339df1159"
   },
   "outputs": [
    {
     "name": "stdout",
     "output_type": "stream",
     "text": [
      "Cloning into 'text_classification_from_zero_to_hero'...\n",
      "remote: Enumerating objects: 107, done.\u001b[K\n",
      "remote: Total 107 (delta 0), reused 0 (delta 0), pack-reused 107\n",
      "Receiving objects: 100% (107/107), 51.67 MiB | 26.10 MiB/s, done.\n",
      "Resolving deltas: 100% (48/48), done.\n"
     ]
    }
   ],
   "source": [
    "!git clone https://github.com/omriallouche/text_classification_from_zero_to_hero.git\n",
    "import os\n",
    "os.chdir('text_classification_from_zero_to_hero')"
   ]
  },
  {
   "cell_type": "markdown",
   "metadata": {
    "colab_type": "text",
    "id": "jCkLdUY-1Y9_"
   },
   "source": [
    "# ULMFiT\n",
    "For more information I recommend this [excellent post](https://github.com/prrao87/tweet-stance-prediction/blob/master/ulmfit.ipynb).\n",
    "\n",
    "UlmFit consists of 3 steps:\n",
    "1. Training the language model on a general-domain corpus that captures high-level natural language features\n",
    "1. Fine-tuning the pre-trained language model on target task data\n",
    "1. Fine-tuning the classifier on target task data\n",
    "\n",
    "![ulmfit 3 steps](https://miro.medium.com/max/1616/1*w_qNXVr7N2OPCK5iMnHAVQ.png)\n",
    "\n",
    "Step 1 requires a lot of resources and was already performed by the creators of the FastAI package. For this task we will perform steps 2 and 3."
   ]
  },
  {
   "cell_type": "markdown",
   "metadata": {
    "colab_type": "text",
    "id": "kVjQm0Z21Y-A"
   },
   "source": [
    "It puts together a few tricks for optimizing neural networks:\n",
    "1. Detection of initial Learning Rate. This is done by changing the learning rate in a wide range during the first steps of a neural network training, and keeping the rate that leads to the fastest decrease of the network loss. \n",
    "1. Cyclical learning rate changes, that aim to improve convergence speed while reducing the risk of getting stuck in a local minimum\n",
    "1. Transfer learning \n",
    "1. Integration of a large unlabeled dataset. This dataset is used to fine-tune the language model\n",
    "1. A rather simple but effective network architecture for the classifier. This NN architecture of 3 fully connected layers is supposed to provide solid performance on a large array of text classification tasks"
   ]
  },
  {
   "cell_type": "markdown",
   "metadata": {
    "colab_type": "text",
    "id": "tQwQfSu-1Y-C"
   },
   "source": [
    "Using Ulmfit is rather simple\n",
    "\n",
    "The Note that we provide the data to the language model \n",
    "`bs` is the batch size.  \n",
    "We use the function `learner.lr_find()` to find the learning rate.  \n",
    "\n",
    "The function `learner.fit_one_cycle(PARAMETERS)` \n"
   ]
  },
  {
   "cell_type": "code",
   "execution_count": 0,
   "metadata": {
    "colab": {},
    "colab_type": "code",
    "id": "B80dQb871Y-E"
   },
   "outputs": [],
   "source": [
    "from fastai import *\n",
    "from fastai.text import *"
   ]
  },
  {
   "cell_type": "code",
   "execution_count": 3,
   "metadata": {
    "colab": {
     "base_uri": "https://localhost:8080/",
     "height": 195
    },
    "colab_type": "code",
    "id": "ITOunl321Y-J",
    "outputId": "2bb858a1-7a2f-4f20-a473-58a961295b3b"
   },
   "outputs": [
    {
     "data": {
      "text/html": [
       "<div>\n",
       "<style scoped>\n",
       "    .dataframe tbody tr th:only-of-type {\n",
       "        vertical-align: middle;\n",
       "    }\n",
       "\n",
       "    .dataframe tbody tr th {\n",
       "        vertical-align: top;\n",
       "    }\n",
       "\n",
       "    .dataframe thead th {\n",
       "        text-align: right;\n",
       "    }\n",
       "</style>\n",
       "<table border=\"1\" class=\"dataframe\">\n",
       "  <thead>\n",
       "    <tr style=\"text-align: right;\">\n",
       "      <th></th>\n",
       "      <th>label</th>\n",
       "      <th>text</th>\n",
       "      <th>num_chars</th>\n",
       "    </tr>\n",
       "  </thead>\n",
       "  <tbody>\n",
       "    <tr>\n",
       "      <th>0</th>\n",
       "      <td>talk.politics.mideast</td>\n",
       "      <td>i understand how israel captured the teritory ...</td>\n",
       "      <td>366</td>\n",
       "    </tr>\n",
       "    <tr>\n",
       "      <th>1</th>\n",
       "      <td>talk.politics.guns</td>\n",
       "      <td>and im sure that is a great comfort to the wid...</td>\n",
       "      <td>298</td>\n",
       "    </tr>\n",
       "    <tr>\n",
       "      <th>2</th>\n",
       "      <td>rec.sport.hockey</td>\n",
       "      <td>have a look at ed belfour. belfour kicked gerr...</td>\n",
       "      <td>288</td>\n",
       "    </tr>\n",
       "    <tr>\n",
       "      <th>3</th>\n",
       "      <td>talk.politics.mideast</td>\n",
       "      <td>deleted its noteworthy that the posts about th...</td>\n",
       "      <td>300</td>\n",
       "    </tr>\n",
       "    <tr>\n",
       "      <th>4</th>\n",
       "      <td>rec.sport.baseball</td>\n",
       "      <td>recently, i heard the red sox on wrol a spanis...</td>\n",
       "      <td>365</td>\n",
       "    </tr>\n",
       "  </tbody>\n",
       "</table>\n",
       "</div>"
      ],
      "text/plain": [
       "                   label  ... num_chars\n",
       "0  talk.politics.mideast  ...       366\n",
       "1     talk.politics.guns  ...       298\n",
       "2       rec.sport.hockey  ...       288\n",
       "3  talk.politics.mideast  ...       300\n",
       "4     rec.sport.baseball  ...       365\n",
       "\n",
       "[5 rows x 3 columns]"
      ]
     },
     "execution_count": 3,
     "metadata": {
      "tags": []
     },
     "output_type": "execute_result"
    }
   ],
   "source": [
    "import pandas as pd\n",
    "import os\n",
    "df_train = pd.read_csv('../data/train.csv')\n",
    "df_val = pd.read_csv('../data/val.csv')\n",
    "df_trn.head()"
   ]
  },
  {
   "cell_type": "code",
   "execution_count": 0,
   "metadata": {
    "colab": {},
    "colab_type": "code",
    "id": "Fy6xJ1qt1Y-W"
   },
   "outputs": [],
   "source": [
    "df_train = df_train[['text', 'label']]\n",
    "df_val = df_val[['text', 'label']]"
   ]
  },
  {
   "cell_type": "code",
   "execution_count": 0,
   "metadata": {
    "colab": {},
    "colab_type": "code",
    "id": "4vkctHcG1Y-S"
   },
   "outputs": [],
   "source": [
    "batch_size = 16\n",
    "path = ''"
   ]
  },
  {
   "cell_type": "markdown",
   "metadata": {
    "colab_type": "text",
    "id": "iHurT1Yq1Y-m"
   },
   "source": [
    "## Fine-tuning a language model"
   ]
  },
  {
   "cell_type": "markdown",
   "metadata": {},
   "source": [
    "ULMFiT allows us to fine-tune its language model. This can lead to a significant improvement if our domain is very different than what the ULMFiT language model was trained on.  \n",
    "However, if our dataset is small, there's a risk of overfitting to our small dataset, with a \"catastrophic forgetting\" of the original language model (that generalizes better). Watch out for the difference between the train and validation loss, and make sure you don't over train the language model on your own data."
   ]
  },
  {
   "cell_type": "markdown",
   "metadata": {},
   "source": [
    "Since the 20newsgroups dataset contains posts from many other newsgroups, one idea is to train a language model on data from other categories as well. We will not take this step here, but for this you will probably want to use texts from the file `data/20newsgroups.csv`."
   ]
  },
  {
   "cell_type": "code",
   "execution_count": null,
   "metadata": {},
   "outputs": [],
   "source": [
    "df_lm_train = pd.read_csv('../data/20newsgroups.csv')\n",
    "df_lm_valid = df_lm_all.sample(frac=0.2, random_state=0)\n",
    "df_lm_train = df_lm_train.drop(df_lm_valid.index)"
   ]
  },
  {
   "cell_type": "markdown",
   "metadata": {},
   "source": [
    "Let's continue with our script:"
   ]
  },
  {
   "cell_type": "code",
   "execution_count": 23,
   "metadata": {
    "colab": {
     "base_uri": "https://localhost:8080/",
     "height": 70
    },
    "colab_type": "code",
    "id": "qgM9ffyR1Y-x",
    "outputId": "1c54c2ce-defd-46c6-d91b-58742745bba2"
   },
   "outputs": [
    {
     "name": "stderr",
     "output_type": "stream",
     "text": [
      "/usr/local/lib/python3.6/dist-packages/torch/serialization.py:292: UserWarning: Couldn't retrieve source code for container of type CrossEntropyLoss. It won't be checked for correctness upon loading.\n",
      "  \"type \" + obj.__name__ + \". It won't be checked \"\n"
     ]
    }
   ],
   "source": [
    "# Language model data\n",
    "print('Getting languge model data...')\n",
    "if not os.path.exists(path+'/data_lm_export.pkl'):\n",
    "    data_lm = TextLMDataBunch.from_df(\n",
    "        train_df=df_lm_train,\n",
    "        valid_df=df_lm_valid,\n",
    "        path=path, \n",
    "        label_cols='label', \n",
    "        text_cols='text')\n",
    "    data_lm.save('data_lm_export.pkl')\n",
    "else:\n",
    "    data_lm = load_data(path, 'data_lm_export.pkl')"
   ]
  },
  {
   "cell_type": "code",
   "execution_count": 24,
   "metadata": {
    "colab": {
     "base_uri": "https://localhost:8080/",
     "height": 279
    },
    "colab_type": "code",
    "id": "SQmjB7JC1Y_A",
    "outputId": "751e9fd6-686d-4a55-905e-6a3a726e9a8a"
   },
   "outputs": [
    {
     "data": {
      "text/html": [
       "<table border=\"1\" class=\"dataframe\">\n",
       "  <thead>\n",
       "    <tr style=\"text-align: right;\">\n",
       "      <th>idx</th>\n",
       "      <th>text</th>\n",
       "    </tr>\n",
       "  </thead>\n",
       "  <tbody>\n",
       "    <tr>\n",
       "      <td>0</td>\n",
       "      <td>xxunk xxunk . i also root for frank thomas . xxbos yeah valentine , how many rings does clemens have ? xxunk like good old xxunk canadian logic . btw the only good thing i can say about the jays rotation this year is that it could have been worse . xxunk might have xxunk healthy . xxbos wetteland comes off the dl on april rd , and will be</td>\n",
       "    </tr>\n",
       "    <tr>\n",
       "      <td>1</td>\n",
       "      <td>the league . this was kind of xxunk because they won the world series both the previous year and the following year . warren xxunk xxbos these people were very xxunk . any team that gets to the world series can win the world series , and anybody who ever xxunk a sweep is xxunk . if you put the best team in baseball in the series against the worst</td>\n",
       "    </tr>\n",
       "    <tr>\n",
       "      <td>2</td>\n",
       "      <td>happens to be , well hey , the xxunk th starter . as for xxunk , its still early . xxbos discussing the fact that there were only players who had ever hit homeruns and stolen bases in their career while xxunk was batting . anyone have a list ? not as xxunk as it sounds to come up with all of them . i could nt . mays ,</td>\n",
       "    </tr>\n",
       "    <tr>\n",
       "      <td>3</td>\n",
       "      <td>kind of xxunk all season ! how many home runs by xxunk ? just , right , you must be thinking of dean palmer or juan gonzalez both of texas who each had homers . i do nt know how many to follow , but he was for . xxbos mr . hernandez i apologize for the xxunk . i xxunk that i know that it is xxunk for some</td>\n",
       "    </tr>\n",
       "    <tr>\n",
       "      <td>4</td>\n",
       "      <td>. xxunk , xxunk xxunk stadium , was built years earlier . xxunk they do nt move the seats back for the few xxunk games but the xxunk lower xxunk used to move . it was all xxunk , which was pretty xxunk on bat day . its vastly better than it was before they xxunk it , though . back in the late s it was a xxunk .</td>\n",
       "    </tr>\n",
       "  </tbody>\n",
       "</table>"
      ],
      "text/plain": [
       "<IPython.core.display.HTML object>"
      ]
     },
     "metadata": {
      "tags": []
     },
     "output_type": "display_data"
    }
   ],
   "source": [
    "data_lm.show_batch()"
   ]
  },
  {
   "cell_type": "code",
   "execution_count": 0,
   "metadata": {
    "colab": {},
    "colab_type": "code",
    "id": "VRmWEASb1Y_Q"
   },
   "outputs": [],
   "source": [
    "lm_learn = language_model_learner(\n",
    "    data_lm, \n",
    "    drop_mult=0.7, \n",
    "    arch=AWD_LSTM)\n",
    "\n",
    "# On machines that support it, you can change to float16 precision. This leads to x2-x3 speedup on modern GPUs\n",
    "# lm_learn = lm_learn.to_fp16(clip=0.1)"
   ]
  },
  {
   "cell_type": "markdown",
   "metadata": {},
   "source": [
    "The `fast.ai` package includes a method to find an optimal learning rate:"
   ]
  },
  {
   "cell_type": "code",
   "execution_count": 26,
   "metadata": {
    "colab": {
     "base_uri": "https://localhost:8080/",
     "height": 296
    },
    "colab_type": "code",
    "id": "VdpGK0bu1Y_X",
    "outputId": "73a994ba-f14c-4d08-c167-a200905d0612"
   },
   "outputs": [
    {
     "data": {
      "text/html": [],
      "text/plain": [
       "<IPython.core.display.HTML object>"
      ]
     },
     "metadata": {
      "tags": []
     },
     "output_type": "display_data"
    },
    {
     "name": "stdout",
     "output_type": "stream",
     "text": [
      "LR Finder is complete, type {learner_name}.recorder.plot() to see the graph.\n"
     ]
    },
    {
     "data": {
      "image/png": "[encoded data removed]",
      "text/plain": [
       "<Figure size 432x288 with 1 Axes>"
      ]
     },
     "metadata": {
      "tags": []
     },
     "output_type": "display_data"
    }
   ],
   "source": [
    "# Find the optimal learning rate\n",
    "lm_learn.lr_find(start_lr=1e-07, end_lr=10)\n",
    "# Plot a graph for detecting the optimal learning rate\n",
    "lm_learn.recorder.plot()"
   ]
  },
  {
   "cell_type": "markdown",
   "metadata": {
    "colab_type": "text",
    "id": "axZ8mDja1Y_b"
   },
   "source": [
    "We now can choose the learning rate from the plot above. We want a value that is a bit lower than the lowest point. 2e-1 seems to be a good value."
   ]
  },
  {
   "cell_type": "code",
   "execution_count": 0,
   "metadata": {
    "colab": {},
    "colab_type": "code",
    "id": "N_pVizUE1Y_c"
   },
   "outputs": [],
   "source": [
    "lr = 1e-2"
   ]
  },
  {
   "cell_type": "markdown",
   "metadata": {
    "colab_type": "text",
    "id": "jZN4H3RJ1Y_n"
   },
   "source": [
    "We can test the language model by generating a few words following a seeding sentence:"
   ]
  },
  {
   "cell_type": "code",
   "execution_count": null,
   "metadata": {},
   "outputs": [],
   "source": [
    "lm_learn.predict(\"The problem with this is\", n_words=40)"
   ]
  },
  {
   "cell_type": "code",
   "execution_count": 39,
   "metadata": {
    "colab": {
     "base_uri": "https://localhost:8080/",
     "height": 77
    },
    "colab_type": "code",
    "id": "zOgW-Oo41Y_j",
    "outputId": "a9d27371-6e8a-4e18-ccc6-f8088b6a07e7"
   },
   "outputs": [
    {
     "data": {
      "text/html": [
       "<table border=\"1\" class=\"dataframe\">\n",
       "  <thead>\n",
       "    <tr style=\"text-align: left;\">\n",
       "      <th>epoch</th>\n",
       "      <th>train_loss</th>\n",
       "      <th>valid_loss</th>\n",
       "      <th>accuracy</th>\n",
       "      <th>time</th>\n",
       "    </tr>\n",
       "  </thead>\n",
       "  <tbody>\n",
       "    <tr>\n",
       "      <td>0</td>\n",
       "      <td>5.334176</td>\n",
       "      <td>4.628334</td>\n",
       "      <td>0.189286</td>\n",
       "      <td>00:02</td>\n",
       "    </tr>\n",
       "  </tbody>\n",
       "</table>"
      ],
      "text/plain": [
       "<IPython.core.display.HTML object>"
      ]
     },
     "metadata": {
      "tags": []
     },
     "output_type": "display_data"
    }
   ],
   "source": [
    "# train the learner object\n",
    "lm_learn.fit_one_cycle(cyc_len=1, max_lr=lr)"
   ]
  },
  {
   "cell_type": "markdown",
   "metadata": {},
   "source": [
    "Let's check how things change after one epoch of LM training:"
   ]
  },
  {
   "cell_type": "code",
   "execution_count": 46,
   "metadata": {
    "colab": {
     "base_uri": "https://localhost:8080/",
     "height": 54
    },
    "colab_type": "code",
    "id": "-3Xpa4P_1Y_p",
    "outputId": "d3ae932d-5b27-4b98-a2cd-b51e5be0359f"
   },
   "outputs": [
    {
     "data": {
      "text/plain": [
       "'The problem with this is that local hockey is so small on my grasp that it seems that everyone else in this lineup is treated to the real abc telecast while only the people on rogers tv in on their nowhere , so what you'"
      ]
     },
     "execution_count": 46,
     "metadata": {
      "tags": []
     },
     "output_type": "execute_result"
    }
   ],
   "source": [
    "lm_learn.predict(\"The problem with this is\", n_words=40)"
   ]
  },
  {
   "cell_type": "markdown",
   "metadata": {},
   "source": [
    "Let's continue training the LM for 5 more cycles:"
   ]
  },
  {
   "cell_type": "code",
   "execution_count": 44,
   "metadata": {
    "colab": {
     "base_uri": "https://localhost:8080/",
     "height": 343
    },
    "colab_type": "code",
    "id": "ii-ZpPg61Y_z",
    "outputId": "80503b13-7e89-4295-c7b3-5dd6864f3948"
   },
   "outputs": [
    {
     "data": {
      "text/html": [
       "<table border=\"1\" class=\"dataframe\">\n",
       "  <thead>\n",
       "    <tr style=\"text-align: left;\">\n",
       "      <th>epoch</th>\n",
       "      <th>train_loss</th>\n",
       "      <th>valid_loss</th>\n",
       "      <th>accuracy</th>\n",
       "      <th>time</th>\n",
       "    </tr>\n",
       "  </thead>\n",
       "  <tbody>\n",
       "    <tr>\n",
       "      <td>0</td>\n",
       "      <td>1.002279</td>\n",
       "      <td>5.028047</td>\n",
       "      <td>0.202009</td>\n",
       "      <td>00:02</td>\n",
       "    </tr>\n",
       "    <tr>\n",
       "      <td>1</td>\n",
       "      <td>0.978512</td>\n",
       "      <td>5.148430</td>\n",
       "      <td>0.200223</td>\n",
       "      <td>00:02</td>\n",
       "    </tr>\n",
       "    <tr>\n",
       "      <td>2</td>\n",
       "      <td>0.888426</td>\n",
       "      <td>5.330887</td>\n",
       "      <td>0.183259</td>\n",
       "      <td>00:02</td>\n",
       "    </tr>\n",
       "    <tr>\n",
       "      <td>3</td>\n",
       "      <td>0.854780</td>\n",
       "      <td>5.389820</td>\n",
       "      <td>0.192522</td>\n",
       "      <td>00:02</td>\n",
       "    </tr>\n",
       "    <tr>\n",
       "      <td>4</td>\n",
       "      <td>0.800180</td>\n",
       "      <td>5.407240</td>\n",
       "      <td>0.187277</td>\n",
       "      <td>00:02</td>\n",
       "    </tr>\n",
       "    <tr>\n",
       "      <td>5</td>\n",
       "      <td>0.741526</td>\n",
       "      <td>5.373962</td>\n",
       "      <td>0.178125</td>\n",
       "      <td>00:02</td>\n",
       "    </tr>\n",
       "    <tr>\n",
       "      <td>6</td>\n",
       "      <td>0.688714</td>\n",
       "      <td>5.431108</td>\n",
       "      <td>0.180804</td>\n",
       "      <td>00:02</td>\n",
       "    </tr>\n",
       "    <tr>\n",
       "      <td>7</td>\n",
       "      <td>0.628530</td>\n",
       "      <td>5.413410</td>\n",
       "      <td>0.183705</td>\n",
       "      <td>00:02</td>\n",
       "    </tr>\n",
       "    <tr>\n",
       "      <td>8</td>\n",
       "      <td>0.579777</td>\n",
       "      <td>5.379051</td>\n",
       "      <td>0.181585</td>\n",
       "      <td>00:02</td>\n",
       "    </tr>\n",
       "    <tr>\n",
       "      <td>9</td>\n",
       "      <td>0.536121</td>\n",
       "      <td>5.373295</td>\n",
       "      <td>0.183147</td>\n",
       "      <td>00:02</td>\n",
       "    </tr>\n",
       "  </tbody>\n",
       "</table>"
      ],
      "text/plain": [
       "<IPython.core.display.HTML object>"
      ]
     },
     "metadata": {
      "tags": []
     },
     "output_type": "display_data"
    }
   ],
   "source": [
    "lm_learn.fit_one_cycle(cyc_len=5, max_lr=lr)"
   ]
  },
  {
   "cell_type": "code",
   "execution_count": 0,
   "metadata": {
    "colab": {},
    "colab_type": "code",
    "id": "dQkyf73M1ZAA"
   },
   "outputs": [],
   "source": [
    "# Save the model to disk. We will need it for the text classifier later\n",
    "lm_learn.save_encoder('ft_enc')"
   ]
  },
  {
   "cell_type": "markdown",
   "metadata": {
    "colab_type": "text",
    "id": "Twck-uFi1ZAE"
   },
   "source": [
    "## Training a classifier"
   ]
  },
  {
   "cell_type": "code",
   "execution_count": 48,
   "metadata": {
    "colab": {
     "base_uri": "https://localhost:8080/",
     "height": 70
    },
    "colab_type": "code",
    "id": "IQNHJNxE1ZAF",
    "outputId": "ff29644e-ee3d-4984-8c45-bb9ac36c72c2"
   },
   "outputs": [
    {
     "name": "stderr",
     "output_type": "stream",
     "text": [
      "/usr/local/lib/python3.6/dist-packages/torch/serialization.py:292: UserWarning: Couldn't retrieve source code for container of type CrossEntropyLoss. It won't be checked for correctness upon loading.\n",
      "  \"type \" + obj.__name__ + \". It won't be checked \"\n"
     ]
    }
   ],
   "source": [
    "if os.path.exists(path+'/data_clas.pkl'):\n",
    "    data_clas = load_data(path, 'data_clas.pkl', bs=batch_size)\n",
    "else:\n",
    "    data_clas = TextClasDataBunch.from_df(\n",
    "        path=path,\n",
    "        train_df=df_trn, \n",
    "        valid_df=df_val,\n",
    "        label_cols='label', \n",
    "        text_cols='text', \n",
    "        vocab=data_lm.train_ds.vocab, \n",
    "        bs=batch_size)    \n",
    "    data_clas.save('data_clas.pkl')"
   ]
  },
  {
   "cell_type": "code",
   "execution_count": 70,
   "metadata": {
    "colab": {
     "base_uri": "https://localhost:8080/",
     "height": 1000
    },
    "colab_type": "code",
    "id": "pXoZsr1g1ZAO",
    "outputId": "95e88b46-5687-4028-90e5-6398a1f473bc"
   },
   "outputs": [
    {
     "data": {
      "text/plain": [
       "RNNLearner(data=TextClasDataBunch;\n",
       "\n",
       "Train: LabelList (356 items)\n",
       "x: TextList\n",
       "xxbos i understand how israel xxunk the xxunk and xxunk that it is its right to annex it . i ca nt xxunk understand why it has to deal with xxunk much the same way jews were treated before the holocaust the final xxunk by xxunk . what i xxunk do nt get is why the u.s . has to xxunk the xxunk of such a xxunk xxunk of human rights . just wondering,xxbos and i m sure that is a great xxunk to the xxunk and children of those xxunk , beaten and burned to death . the real question is , did the xxunk rate in england go down , after they xxunk gun control xxunk ? if you look at the xxunk before and after their first such law in , you will see no effect .,xxbos have a look at xxunk xxunk . xxunk xxunk xxunk xxunk when the wings played the hawks a couple of xxunk ago . no penalty . no review . no xxunk . this was after he xxunk bob probert in the previous period . he was xxunk for that . xxunk xxunk . too bad he goes down so much !,xxbos deleted its xxunk that the xxunk about the west being evil etc are made not in some xxunk xxunk but from the west . if the west is so bad , why do they come here ? xxunk how they xxunk xxunk their rights to free xxunk , something completely xxunk in their own countries . xxunk,xxbos recently , i heard the red sox on xxunk a xxunk radio station . i thought it was so xxunk . the red sox in xxunk ? anyway , i want to find out how xxunk this is ? being a ny xxunk , i know the xxunk are on in xxunk but not the xxunk . i xxunk think that xxunk , xxunk , texas and xxunk are on in xxunk . are there any xxunk xxunk or is this a local\n",
       "y: CategoryList\n",
       "talk.politics.mideast,talk.politics.guns,rec.sport.hockey,talk.politics.mideast,rec.sport.baseball\n",
       "Path: .;\n",
       "\n",
       "Valid: LabelList (76 items)\n",
       "x: TextList\n",
       "xxbos imagine , you have been under seige for almost two months by an xxunk which you believe wants to kill you . suddenly , they xxunk tear gas into your building and xxunk xxunk in it with tanks . then a fire xxunk out . do you run outside to be xxunk , or stay and face your fate . check ethiopia vs. xxunk in wwii for some answers to that question .,xxbos in the interests of saving xxunk during this xxunk time of the year xxunk . the early xxunk of xxunk comments coming from a certain state whose name starts with xxunk and ends with a , why do nt you tell us something we do nt already know ? george,xxbos jagr has a higher , but francis has had more points . and take it from an xxunk observer , xxunk francis has had a much better season than xxunk jagr . this is not to take anything away from xxunk , who had a decent year although it did nt live up to the xxunk of some . dean,xxbos the injury is to his xxunk hand , which is good . xxunk , he may have some xxunk xxunk and may xxunk xxunk , which would xxunk him up for a while . apparently just a xxunk of some sort . he has nt been put on the dl , so its probably just xxunk .,xxbos well josh i agree with you to some xxunk your spelling xxunk . the xxunk always must win ! even if they kill every man women and child .. by god they must win at all costs .. this happens over and over and over in this country . lets make xxunk , get the xxunk press to cover up everything , let the officials take the xxunk for top xxunk stupidity xxunk .\n",
       "y: CategoryList\n",
       "talk.politics.guns,rec.sport.hockey,rec.sport.hockey,rec.sport.baseball,talk.politics.guns\n",
       "Path: .;\n",
       "\n",
       "Test: None, model=SequentialRNN(\n",
       "  (0): MultiBatchEncoder(\n",
       "    (module): AWD_LSTM(\n",
       "      (encoder): Embedding(1896, 400, padding_idx=1)\n",
       "      (encoder_dp): EmbeddingDropout(\n",
       "        (emb): Embedding(1896, 400, padding_idx=1)\n",
       "      )\n",
       "      (rnns): ModuleList(\n",
       "        (0): WeightDropout(\n",
       "          (module): LSTM(400, 1152, batch_first=True)\n",
       "        )\n",
       "        (1): WeightDropout(\n",
       "          (module): LSTM(1152, 1152, batch_first=True)\n",
       "        )\n",
       "        (2): WeightDropout(\n",
       "          (module): LSTM(1152, 400, batch_first=True)\n",
       "        )\n",
       "      )\n",
       "      (input_dp): RNNDropout()\n",
       "      (hidden_dps): ModuleList(\n",
       "        (0): RNNDropout()\n",
       "        (1): RNNDropout()\n",
       "        (2): RNNDropout()\n",
       "      )\n",
       "    )\n",
       "  )\n",
       "  (1): PoolingLinearClassifier(\n",
       "    (layers): Sequential(\n",
       "      (0): BatchNorm1d(1200, eps=1e-05, momentum=0.1, affine=True, track_running_stats=True)\n",
       "      (1): Dropout(p=0.27999999999999997, inplace=False)\n",
       "      (2): Linear(in_features=1200, out_features=50, bias=True)\n",
       "      (3): ReLU(inplace=True)\n",
       "      (4): BatchNorm1d(50, eps=1e-05, momentum=0.1, affine=True, track_running_stats=True)\n",
       "      (5): Dropout(p=0.1, inplace=False)\n",
       "      (6): Linear(in_features=50, out_features=4, bias=True)\n",
       "    )\n",
       "  )\n",
       "), opt_func=functools.partial(<class 'torch.optim.adam.Adam'>, betas=(0.9, 0.99)), loss_func=FlattenedLoss of CrossEntropyLoss(), metrics=[<function accuracy at 0x7fd22055cd90>], true_wd=True, bn_wd=True, wd=0.01, train_bn=True, path=PosixPath('.'), model_dir='models', callback_fns=[functools.partial(<class 'fastai.basic_train.Recorder'>, add_time=True, silent=False)], callbacks=[RNNTrainer\n",
       "learn: RNNLearner(data=TextClasDataBunch;\n",
       "\n",
       "Train: LabelList (356 items)\n",
       "x: TextList\n",
       "xxbos i understand how israel xxunk the xxunk and xxunk that it is its right to annex it . i ca nt xxunk understand why it has to deal with xxunk much the same way jews were treated before the holocaust the final xxunk by xxunk . what i xxunk do nt get is why the u.s . has to xxunk the xxunk of such a xxunk xxunk of human rights . just wondering,xxbos and i m sure that is a great xxunk to the xxunk and children of those xxunk , beaten and burned to death . the real question is , did the xxunk rate in england go down , after they xxunk gun control xxunk ? if you look at the xxunk before and after their first such law in , you will see no effect .,xxbos have a look at xxunk xxunk . xxunk xxunk xxunk xxunk when the wings played the hawks a couple of xxunk ago . no penalty . no review . no xxunk . this was after he xxunk bob probert in the previous period . he was xxunk for that . xxunk xxunk . too bad he goes down so much !,xxbos deleted its xxunk that the xxunk about the west being evil etc are made not in some xxunk xxunk but from the west . if the west is so bad , why do they come here ? xxunk how they xxunk xxunk their rights to free xxunk , something completely xxunk in their own countries . xxunk,xxbos recently , i heard the red sox on xxunk a xxunk radio station . i thought it was so xxunk . the red sox in xxunk ? anyway , i want to find out how xxunk this is ? being a ny xxunk , i know the xxunk are on in xxunk but not the xxunk . i xxunk think that xxunk , xxunk , texas and xxunk are on in xxunk . are there any xxunk xxunk or is this a local\n",
       "y: CategoryList\n",
       "talk.politics.mideast,talk.politics.guns,rec.sport.hockey,talk.politics.mideast,rec.sport.baseball\n",
       "Path: .;\n",
       "\n",
       "Valid: LabelList (76 items)\n",
       "x: TextList\n",
       "xxbos imagine , you have been under seige for almost two months by an xxunk which you believe wants to kill you . suddenly , they xxunk tear gas into your building and xxunk xxunk in it with tanks . then a fire xxunk out . do you run outside to be xxunk , or stay and face your fate . check ethiopia vs. xxunk in wwii for some answers to that question .,xxbos in the interests of saving xxunk during this xxunk time of the year xxunk . the early xxunk of xxunk comments coming from a certain state whose name starts with xxunk and ends with a , why do nt you tell us something we do nt already know ? george,xxbos jagr has a higher , but francis has had more points . and take it from an xxunk observer , xxunk francis has had a much better season than xxunk jagr . this is not to take anything away from xxunk , who had a decent year although it did nt live up to the xxunk of some . dean,xxbos the injury is to his xxunk hand , which is good . xxunk , he may have some xxunk xxunk and may xxunk xxunk , which would xxunk him up for a while . apparently just a xxunk of some sort . he has nt been put on the dl , so its probably just xxunk .,xxbos well josh i agree with you to some xxunk your spelling xxunk . the xxunk always must win ! even if they kill every man women and child .. by god they must win at all costs .. this happens over and over and over in this country . lets make xxunk , get the xxunk press to cover up everything , let the officials take the xxunk for top xxunk stupidity xxunk .\n",
       "y: CategoryList\n",
       "talk.politics.guns,rec.sport.hockey,rec.sport.hockey,rec.sport.baseball,talk.politics.guns\n",
       "Path: .;\n",
       "\n",
       "Test: None, model=SequentialRNN(\n",
       "  (0): MultiBatchEncoder(\n",
       "    (module): AWD_LSTM(\n",
       "      (encoder): Embedding(1896, 400, padding_idx=1)\n",
       "      (encoder_dp): EmbeddingDropout(\n",
       "        (emb): Embedding(1896, 400, padding_idx=1)\n",
       "      )\n",
       "      (rnns): ModuleList(\n",
       "        (0): WeightDropout(\n",
       "          (module): LSTM(400, 1152, batch_first=True)\n",
       "        )\n",
       "        (1): WeightDropout(\n",
       "          (module): LSTM(1152, 1152, batch_first=True)\n",
       "        )\n",
       "        (2): WeightDropout(\n",
       "          (module): LSTM(1152, 400, batch_first=True)\n",
       "        )\n",
       "      )\n",
       "      (input_dp): RNNDropout()\n",
       "      (hidden_dps): ModuleList(\n",
       "        (0): RNNDropout()\n",
       "        (1): RNNDropout()\n",
       "        (2): RNNDropout()\n",
       "      )\n",
       "    )\n",
       "  )\n",
       "  (1): PoolingLinearClassifier(\n",
       "    (layers): Sequential(\n",
       "      (0): BatchNorm1d(1200, eps=1e-05, momentum=0.1, affine=True, track_running_stats=True)\n",
       "      (1): Dropout(p=0.27999999999999997, inplace=False)\n",
       "      (2): Linear(in_features=1200, out_features=50, bias=True)\n",
       "      (3): ReLU(inplace=True)\n",
       "      (4): BatchNorm1d(50, eps=1e-05, momentum=0.1, affine=True, track_running_stats=True)\n",
       "      (5): Dropout(p=0.1, inplace=False)\n",
       "      (6): Linear(in_features=50, out_features=4, bias=True)\n",
       "    )\n",
       "  )\n",
       "), opt_func=functools.partial(<class 'torch.optim.adam.Adam'>, betas=(0.9, 0.99)), loss_func=FlattenedLoss of CrossEntropyLoss(), metrics=[<function accuracy at 0x7fd22055cd90>], true_wd=True, bn_wd=True, wd=0.01, train_bn=True, path=PosixPath('.'), model_dir='models', callback_fns=[functools.partial(<class 'fastai.basic_train.Recorder'>, add_time=True, silent=False)], callbacks=[...], layer_groups=[Sequential(\n",
       "  (0): Embedding(1896, 400, padding_idx=1)\n",
       "  (1): EmbeddingDropout(\n",
       "    (emb): Embedding(1896, 400, padding_idx=1)\n",
       "  )\n",
       "), Sequential(\n",
       "  (0): WeightDropout(\n",
       "    (module): LSTM(400, 1152, batch_first=True)\n",
       "  )\n",
       "  (1): RNNDropout()\n",
       "), Sequential(\n",
       "  (0): WeightDropout(\n",
       "    (module): LSTM(1152, 1152, batch_first=True)\n",
       "  )\n",
       "  (1): RNNDropout()\n",
       "), Sequential(\n",
       "  (0): WeightDropout(\n",
       "    (module): LSTM(1152, 400, batch_first=True)\n",
       "  )\n",
       "  (1): RNNDropout()\n",
       "), Sequential(\n",
       "  (0): PoolingLinearClassifier(\n",
       "    (layers): Sequential(\n",
       "      (0): BatchNorm1d(1200, eps=1e-05, momentum=0.1, affine=True, track_running_stats=True)\n",
       "      (1): Dropout(p=0.27999999999999997, inplace=False)\n",
       "      (2): Linear(in_features=1200, out_features=50, bias=True)\n",
       "      (3): ReLU(inplace=True)\n",
       "      (4): BatchNorm1d(50, eps=1e-05, momentum=0.1, affine=True, track_running_stats=True)\n",
       "      (5): Dropout(p=0.1, inplace=False)\n",
       "      (6): Linear(in_features=50, out_features=4, bias=True)\n",
       "    )\n",
       "  )\n",
       ")], add_time=True, silent=False)\n",
       "alpha: 2.0\n",
       "beta: 1.0], layer_groups=[Sequential(\n",
       "  (0): Embedding(1896, 400, padding_idx=1)\n",
       "  (1): EmbeddingDropout(\n",
       "    (emb): Embedding(1896, 400, padding_idx=1)\n",
       "  )\n",
       "), Sequential(\n",
       "  (0): WeightDropout(\n",
       "    (module): LSTM(400, 1152, batch_first=True)\n",
       "  )\n",
       "  (1): RNNDropout()\n",
       "), Sequential(\n",
       "  (0): WeightDropout(\n",
       "    (module): LSTM(1152, 1152, batch_first=True)\n",
       "  )\n",
       "  (1): RNNDropout()\n",
       "), Sequential(\n",
       "  (0): WeightDropout(\n",
       "    (module): LSTM(1152, 400, batch_first=True)\n",
       "  )\n",
       "  (1): RNNDropout()\n",
       "), Sequential(\n",
       "  (0): PoolingLinearClassifier(\n",
       "    (layers): Sequential(\n",
       "      (0): BatchNorm1d(1200, eps=1e-05, momentum=0.1, affine=True, track_running_stats=True)\n",
       "      (1): Dropout(p=0.27999999999999997, inplace=False)\n",
       "      (2): Linear(in_features=1200, out_features=50, bias=True)\n",
       "      (3): ReLU(inplace=True)\n",
       "      (4): BatchNorm1d(50, eps=1e-05, momentum=0.1, affine=True, track_running_stats=True)\n",
       "      (5): Dropout(p=0.1, inplace=False)\n",
       "      (6): Linear(in_features=50, out_features=4, bias=True)\n",
       "    )\n",
       "  )\n",
       ")], add_time=True, silent=False)"
      ]
     },
     "execution_count": 70,
     "metadata": {
      "tags": []
     },
     "output_type": "execute_result"
    }
   ],
   "source": [
    "# \n",
    "classifier_learn = text_classifier_learner(data_clas, drop_mult=0.7, pretrained=False, arch=AWD_LSTM)\n",
    "# \n",
    "classifier_learn.load_encoder('ft_enc')"
   ]
  },
  {
   "cell_type": "code",
   "execution_count": 57,
   "metadata": {
    "colab": {
     "base_uri": "https://localhost:8080/",
     "height": 296
    },
    "colab_type": "code",
    "id": "iDDxUYyf1ZAU",
    "outputId": "ebbc8c67-b2e6-4bd5-eabc-710c1b92e310"
   },
   "outputs": [
    {
     "data": {
      "text/html": [],
      "text/plain": [
       "<IPython.core.display.HTML object>"
      ]
     },
     "metadata": {
      "tags": []
     },
     "output_type": "display_data"
    },
    {
     "name": "stdout",
     "output_type": "stream",
     "text": [
      "LR Finder is complete, type {learner_name}.recorder.plot() to see the graph.\n"
     ]
    },
    {
     "data": {
      "image/png": "[encoded data removed]",
      "text/plain": [
       "<Figure size 432x288 with 1 Axes>"
      ]
     },
     "metadata": {
      "tags": []
     },
     "output_type": "display_data"
    }
   ],
   "source": [
    "classifier_learn.lr_find()\n",
    "classifier_learn.recorder.plot()"
   ]
  },
  {
   "cell_type": "markdown",
   "metadata": {
    "colab_type": "text",
    "id": "2kK4TNm81ZAY"
   },
   "source": [
    "Let's set the learning rate based on the previous graph:"
   ]
  },
  {
   "cell_type": "code",
   "execution_count": 0,
   "metadata": {
    "colab": {},
    "colab_type": "code",
    "id": "FFuq-lH11ZAe"
   },
   "outputs": [],
   "source": [
    "lr = 5e-2"
   ]
  },
  {
   "cell_type": "code",
   "execution_count": 71,
   "metadata": {
    "colab": {
     "base_uri": "https://localhost:8080/",
     "height": 343
    },
    "colab_type": "code",
    "id": "GIMxOiiT1ZAn",
    "outputId": "88072f08-76ac-4324-b515-963f9d12889b"
   },
   "outputs": [
    {
     "data": {
      "text/html": [
       "<table border=\"1\" class=\"dataframe\">\n",
       "  <thead>\n",
       "    <tr style=\"text-align: left;\">\n",
       "      <th>epoch</th>\n",
       "      <th>train_loss</th>\n",
       "      <th>valid_loss</th>\n",
       "      <th>accuracy</th>\n",
       "      <th>time</th>\n",
       "    </tr>\n",
       "  </thead>\n",
       "  <tbody>\n",
       "    <tr>\n",
       "      <td>0</td>\n",
       "      <td>1.366192</td>\n",
       "      <td>1.259665</td>\n",
       "      <td>0.434211</td>\n",
       "      <td>00:02</td>\n",
       "    </tr>\n",
       "    <tr>\n",
       "      <td>1</td>\n",
       "      <td>1.125656</td>\n",
       "      <td>0.879517</td>\n",
       "      <td>0.657895</td>\n",
       "      <td>00:02</td>\n",
       "    </tr>\n",
       "    <tr>\n",
       "      <td>2</td>\n",
       "      <td>0.949881</td>\n",
       "      <td>0.775755</td>\n",
       "      <td>0.710526</td>\n",
       "      <td>00:02</td>\n",
       "    </tr>\n",
       "    <tr>\n",
       "      <td>3</td>\n",
       "      <td>0.830186</td>\n",
       "      <td>0.753873</td>\n",
       "      <td>0.710526</td>\n",
       "      <td>00:02</td>\n",
       "    </tr>\n",
       "    <tr>\n",
       "      <td>4</td>\n",
       "      <td>0.744836</td>\n",
       "      <td>0.782417</td>\n",
       "      <td>0.657895</td>\n",
       "      <td>00:02</td>\n",
       "    </tr>\n",
       "    <tr>\n",
       "      <td>5</td>\n",
       "      <td>0.674462</td>\n",
       "      <td>0.812261</td>\n",
       "      <td>0.618421</td>\n",
       "      <td>00:02</td>\n",
       "    </tr>\n",
       "    <tr>\n",
       "      <td>6</td>\n",
       "      <td>0.601353</td>\n",
       "      <td>0.808525</td>\n",
       "      <td>0.605263</td>\n",
       "      <td>00:02</td>\n",
       "    </tr>\n",
       "    <tr>\n",
       "      <td>7</td>\n",
       "      <td>0.565418</td>\n",
       "      <td>0.796480</td>\n",
       "      <td>0.644737</td>\n",
       "      <td>00:02</td>\n",
       "    </tr>\n",
       "    <tr>\n",
       "      <td>8</td>\n",
       "      <td>0.528164</td>\n",
       "      <td>0.782703</td>\n",
       "      <td>0.644737</td>\n",
       "      <td>00:02</td>\n",
       "    </tr>\n",
       "    <tr>\n",
       "      <td>9</td>\n",
       "      <td>0.493174</td>\n",
       "      <td>0.786243</td>\n",
       "      <td>0.644737</td>\n",
       "      <td>00:02</td>\n",
       "    </tr>\n",
       "  </tbody>\n",
       "</table>"
      ],
      "text/plain": [
       "<IPython.core.display.HTML object>"
      ]
     },
     "metadata": {
      "tags": []
     },
     "output_type": "display_data"
    }
   ],
   "source": [
    "classifier_learn.fit_one_cycle(10, lr, moms=(0.8,0.7), wd=0.1)"
   ]
  },
  {
   "cell_type": "markdown",
   "metadata": {
    "colab_type": "text",
    "id": "pV0xOy8m1ZAr"
   },
   "source": [
    "We'll now gradually unfreeze the layers, starting from the top layers and adding more layers every epoch:"
   ]
  },
  {
   "cell_type": "code",
   "execution_count": 72,
   "metadata": {
    "colab": {
     "base_uri": "https://localhost:8080/",
     "height": 77
    },
    "colab_type": "code",
    "id": "erBnH07F1ZAt",
    "outputId": "c0023805-31ca-4e51-c4cb-dbc9ba1699f5"
   },
   "outputs": [
    {
     "data": {
      "text/html": [
       "<table border=\"1\" class=\"dataframe\">\n",
       "  <thead>\n",
       "    <tr style=\"text-align: left;\">\n",
       "      <th>epoch</th>\n",
       "      <th>train_loss</th>\n",
       "      <th>valid_loss</th>\n",
       "      <th>accuracy</th>\n",
       "      <th>time</th>\n",
       "    </tr>\n",
       "  </thead>\n",
       "  <tbody>\n",
       "    <tr>\n",
       "      <td>0</td>\n",
       "      <td>0.462353</td>\n",
       "      <td>0.810972</td>\n",
       "      <td>0.631579</td>\n",
       "      <td>00:03</td>\n",
       "    </tr>\n",
       "  </tbody>\n",
       "</table>"
      ],
      "text/plain": [
       "<IPython.core.display.HTML object>"
      ]
     },
     "metadata": {
      "tags": []
     },
     "output_type": "display_data"
    }
   ],
   "source": [
    "classifier_learn.freeze_to(-2)\n",
    "lr /= 2\n",
    "classifier_learn.fit_one_cycle(1, slice(lr/(2.6**4),lr), moms=(0.8,0.7), wd=0.1)"
   ]
  },
  {
   "cell_type": "code",
   "execution_count": 74,
   "metadata": {
    "colab": {
     "base_uri": "https://localhost:8080/",
     "height": 343
    },
    "colab_type": "code",
    "id": "N_SmJZiV1ZAx",
    "outputId": "7172642b-b6c0-4621-d16a-430d903631c3"
   },
   "outputs": [
    {
     "data": {
      "text/html": [
       "<table border=\"1\" class=\"dataframe\">\n",
       "  <thead>\n",
       "    <tr style=\"text-align: left;\">\n",
       "      <th>epoch</th>\n",
       "      <th>train_loss</th>\n",
       "      <th>valid_loss</th>\n",
       "      <th>accuracy</th>\n",
       "      <th>time</th>\n",
       "    </tr>\n",
       "  </thead>\n",
       "  <tbody>\n",
       "    <tr>\n",
       "      <td>0</td>\n",
       "      <td>0.276166</td>\n",
       "      <td>0.825047</td>\n",
       "      <td>0.618421</td>\n",
       "      <td>00:04</td>\n",
       "    </tr>\n",
       "    <tr>\n",
       "      <td>1</td>\n",
       "      <td>0.261642</td>\n",
       "      <td>0.828067</td>\n",
       "      <td>0.644737</td>\n",
       "      <td>00:04</td>\n",
       "    </tr>\n",
       "    <tr>\n",
       "      <td>2</td>\n",
       "      <td>0.266998</td>\n",
       "      <td>0.832981</td>\n",
       "      <td>0.657895</td>\n",
       "      <td>00:04</td>\n",
       "    </tr>\n",
       "    <tr>\n",
       "      <td>3</td>\n",
       "      <td>0.270807</td>\n",
       "      <td>0.826062</td>\n",
       "      <td>0.657895</td>\n",
       "      <td>00:04</td>\n",
       "    </tr>\n",
       "    <tr>\n",
       "      <td>4</td>\n",
       "      <td>0.255189</td>\n",
       "      <td>0.829886</td>\n",
       "      <td>0.671053</td>\n",
       "      <td>00:04</td>\n",
       "    </tr>\n",
       "    <tr>\n",
       "      <td>5</td>\n",
       "      <td>0.243133</td>\n",
       "      <td>0.829157</td>\n",
       "      <td>0.631579</td>\n",
       "      <td>00:04</td>\n",
       "    </tr>\n",
       "    <tr>\n",
       "      <td>6</td>\n",
       "      <td>0.227799</td>\n",
       "      <td>0.845982</td>\n",
       "      <td>0.644737</td>\n",
       "      <td>00:04</td>\n",
       "    </tr>\n",
       "    <tr>\n",
       "      <td>7</td>\n",
       "      <td>0.220496</td>\n",
       "      <td>0.837691</td>\n",
       "      <td>0.631579</td>\n",
       "      <td>00:04</td>\n",
       "    </tr>\n",
       "    <tr>\n",
       "      <td>8</td>\n",
       "      <td>0.215813</td>\n",
       "      <td>0.823293</td>\n",
       "      <td>0.618421</td>\n",
       "      <td>00:04</td>\n",
       "    </tr>\n",
       "    <tr>\n",
       "      <td>9</td>\n",
       "      <td>0.218642</td>\n",
       "      <td>0.845948</td>\n",
       "      <td>0.631579</td>\n",
       "      <td>00:04</td>\n",
       "    </tr>\n",
       "  </tbody>\n",
       "</table>"
      ],
      "text/plain": [
       "<IPython.core.display.HTML object>"
      ]
     },
     "metadata": {
      "tags": []
     },
     "output_type": "display_data"
    }
   ],
   "source": [
    "classifier_learn.freeze_to(-3)\n",
    "lr /= 2\n",
    "classifier_learn.fit_one_cycle(10, slice(lr/(2.6**4),lr), moms=(0.8,0.7), wd=0.1)"
   ]
  },
  {
   "cell_type": "code",
   "execution_count": 64,
   "metadata": {
    "colab": {
     "base_uri": "https://localhost:8080/",
     "height": 106
    },
    "colab_type": "code",
    "id": "bImkrkZb1ZA3",
    "outputId": "94cb8e4f-04fc-48f7-c075-58f3000f2a5a"
   },
   "outputs": [
    {
     "data": {
      "text/html": [
       "<table border=\"1\" class=\"dataframe\">\n",
       "  <thead>\n",
       "    <tr style=\"text-align: left;\">\n",
       "      <th>epoch</th>\n",
       "      <th>train_loss</th>\n",
       "      <th>valid_loss</th>\n",
       "      <th>accuracy</th>\n",
       "      <th>time</th>\n",
       "    </tr>\n",
       "  </thead>\n",
       "  <tbody>\n",
       "    <tr>\n",
       "      <td>0</td>\n",
       "      <td>0.535326</td>\n",
       "      <td>0.896815</td>\n",
       "      <td>0.618421</td>\n",
       "      <td>00:05</td>\n",
       "    </tr>\n",
       "    <tr>\n",
       "      <td>1</td>\n",
       "      <td>0.487278</td>\n",
       "      <td>0.874851</td>\n",
       "      <td>0.644737</td>\n",
       "      <td>00:05</td>\n",
       "    </tr>\n",
       "  </tbody>\n",
       "</table>"
      ],
      "text/plain": [
       "<IPython.core.display.HTML object>"
      ]
     },
     "metadata": {
      "tags": []
     },
     "output_type": "display_data"
    }
   ],
   "source": [
    "classifier_learn.unfreeze()\n",
    "lr /= 5\n",
    "classifier_learn.fit_one_cycle(2, slice(lr/(2.6**4),lr), moms=(0.8,0.7), wd=0.1)"
   ]
  },
  {
   "cell_type": "markdown",
   "metadata": {
    "colab_type": "text",
    "id": "aSpEexPA1ZA7"
   },
   "source": [
    "Finally, let's save our classifier:"
   ]
  },
  {
   "cell_type": "code",
   "execution_count": 0,
   "metadata": {
    "colab": {},
    "colab_type": "code",
    "id": "PD-0m18K1ZA8"
   },
   "outputs": [],
   "source": [
    "classifier_learn.save('ft_clas')"
   ]
  },
  {
   "cell_type": "markdown",
   "metadata": {
    "colab_type": "text",
    "id": "zY9149Ff1ZA_"
   },
   "source": [
    "We can now make predictions:"
   ]
  },
  {
   "cell_type": "code",
   "execution_count": 0,
   "metadata": {
    "colab": {},
    "colab_type": "code",
    "id": "HYbn0O2Q1ZBA"
   },
   "outputs": [],
   "source": [
    "pred_fwd,lbl_fwd = classifier_learn.get_preds(ordered=True)"
   ]
  },
  {
   "cell_type": "code",
   "execution_count": 0,
   "metadata": {
    "colab": {},
    "colab_type": "code",
    "id": "vQ2vimkh6wPM"
   },
   "outputs": [],
   "source": []
  }
 ],
 "metadata": {
  "accelerator": "GPU",
  "colab": {
   "name": "ulmfit.ipynb",
   "provenance": []
  },
  "kernelspec": {
   "display_name": "Python 3",
   "language": "python",
   "name": "python3"
  },
  "language_info": {
   "codemirror_mode": {
    "name": "ipython",
    "version": 3
   },
   "file_extension": ".py",
   "mimetype": "text/x-python",
   "name": "python",
   "nbconvert_exporter": "python",
   "pygments_lexer": "ipython3",
   "version": "3.7.3"
  }
 },
 "nbformat": 4,
 "nbformat_minor": 1
}
