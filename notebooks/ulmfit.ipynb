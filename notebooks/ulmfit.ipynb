{
 "cells": [
  {
   "cell_type": "markdown",
   "metadata": {},
   "source": [
    "# ULMFiT\n",
    "For more information I recommend this [excellent post](https://github.com/prrao87/tweet-stance-prediction/blob/master/ulmfit.ipynb).\n",
    "\n",
    "UlmFit consists of 3 steps:\n",
    "1. Training the language model on a general-domain corpus that captures high-level natural language features\n",
    "1. Fine-tuning the pre-trained language model on target task data\n",
    "1. Fine-tuning the classifier on target task data\n",
    "\n",
    "![ulmfit 3 steps](https://miro.medium.com/max/1616/1*w_qNXVr7N2OPCK5iMnHAVQ.png)\n",
    "\n",
    "Step 1 requires a lot of resources and was already performed by the creators of the FastAI package. For this task we will perform steps 2 and 3."
   ]
  },
  {
   "cell_type": "markdown",
   "metadata": {},
   "source": [
    "It puts together a few tricks for optimizing neural networks:\n",
    "1. Detection of initial Learning Rate. This is done by changing the learning rate in a wide range during the first steps of a neural network training, and keeping the rate that leads to the fastest decrease of the network loss. \n",
    "1. Cyclical learning rate changes, that aim to improve convergence speed while reducing the risk of getting stuck in a local minimum\n",
    "1. Transfer learning \n",
    "1. Integration of a large unlabeled dataset. This dataset is used to fine-tune the language model\n",
    "1. A rather simple but effective network architecture for the classifier. This NN architecture of 3 fully connected layers is supposed to provide solid performance on a large array of text classification tasks"
   ]
  },
  {
   "cell_type": "markdown",
   "metadata": {},
   "source": [
    "Using Ulmfit is rather simple\n",
    "\n",
    "The Note that we provide the data to the language model \n",
    "`bs` is the batch size.  \n",
    "We use the function `learner.lr_find()` to find the learning rate.  \n",
    "\n",
    "The function `learner.fit_one_cycle(PARAMETERS)` \n"
   ]
  },
  {
   "cell_type": "code",
   "execution_count": 1,
   "metadata": {},
   "outputs": [],
   "source": [
    "from fastai import *\n",
    "from fastai.text import *"
   ]
  },
  {
   "cell_type": "code",
   "execution_count": 5,
   "metadata": {},
   "outputs": [
    {
     "data": {
      "text/html": [
       "<div>\n",
       "<style scoped>\n",
       "    .dataframe tbody tr th:only-of-type {\n",
       "        vertical-align: middle;\n",
       "    }\n",
       "\n",
       "    .dataframe tbody tr th {\n",
       "        vertical-align: top;\n",
       "    }\n",
       "\n",
       "    .dataframe thead th {\n",
       "        text-align: right;\n",
       "    }\n",
       "</style>\n",
       "<table border=\"1\" class=\"dataframe\">\n",
       "  <thead>\n",
       "    <tr style=\"text-align: right;\">\n",
       "      <th></th>\n",
       "      <th>level_0</th>\n",
       "      <th>data</th>\n",
       "      <th>target</th>\n",
       "      <th>label</th>\n",
       "      <th>text</th>\n",
       "      <th>num_chars</th>\n",
       "    </tr>\n",
       "    <tr>\n",
       "      <th>index</th>\n",
       "      <th></th>\n",
       "      <th></th>\n",
       "      <th></th>\n",
       "      <th></th>\n",
       "      <th></th>\n",
       "      <th></th>\n",
       "    </tr>\n",
       "  </thead>\n",
       "  <tbody>\n",
       "    <tr>\n",
       "      <th>2754</th>\n",
       "      <td>1250</td>\n",
       "      <td>\\n\\nCheck again.  You may find that the arrest...</td>\n",
       "      <td>2</td>\n",
       "      <td>talk.politics.guns</td>\n",
       "      <td>check again . you may find that the arrest war...</td>\n",
       "      <td>92</td>\n",
       "    </tr>\n",
       "    <tr>\n",
       "      <th>2608</th>\n",
       "      <td>1184</td>\n",
       "      <td>\\n\\n\\tB urn\\n\\tA ll\\n\\tT he\\n\\tF uckers\\n</td>\n",
       "      <td>2</td>\n",
       "      <td>talk.politics.guns</td>\n",
       "      <td>b urn a ll t he f uckers</td>\n",
       "      <td>24</td>\n",
       "    </tr>\n",
       "    <tr>\n",
       "      <th>2619</th>\n",
       "      <td>1190</td>\n",
       "      <td>\\n\\t[...deleted...]\\n\\nAt least you're consist...</td>\n",
       "      <td>2</td>\n",
       "      <td>talk.politics.guns</td>\n",
       "      <td>[ . . .deleted . . .] at least you're consiste...</td>\n",
       "      <td>273</td>\n",
       "    </tr>\n",
       "    <tr>\n",
       "      <th>3426</th>\n",
       "      <td>1549</td>\n",
       "      <td>Bunker &amp; McNally were later.\\n\\nPappas, Estrad...</td>\n",
       "      <td>0</td>\n",
       "      <td>rec.sport.baseball</td>\n",
       "      <td>bunker &amp; mcnally were later . pappas , estrada...</td>\n",
       "      <td>75</td>\n",
       "    </tr>\n",
       "    <tr>\n",
       "      <th>1675</th>\n",
       "      <td>765</td>\n",
       "      <td>NJ&gt; : &gt;And, while we are on the subject, has a...</td>\n",
       "      <td>1</td>\n",
       "      <td>rec.sport.hockey</td>\n",
       "      <td>nj&gt; : &gt;and , while we are on the subject , has...</td>\n",
       "      <td>281</td>\n",
       "    </tr>\n",
       "  </tbody>\n",
       "</table>\n",
       "</div>"
      ],
      "text/plain": [
       "       level_0                                               data  target  \\\n",
       "index                                                                       \n",
       "2754      1250  \\n\\nCheck again.  You may find that the arrest...       2   \n",
       "2608      1184          \\n\\n\\tB urn\\n\\tA ll\\n\\tT he\\n\\tF uckers\\n       2   \n",
       "2619      1190  \\n\\t[...deleted...]\\n\\nAt least you're consist...       2   \n",
       "3426      1549  Bunker & McNally were later.\\n\\nPappas, Estrad...       0   \n",
       "1675       765  NJ> : >And, while we are on the subject, has a...       1   \n",
       "\n",
       "                    label                                               text  \\\n",
       "index                                                                          \n",
       "2754   talk.politics.guns  check again . you may find that the arrest war...   \n",
       "2608   talk.politics.guns                           b urn a ll t he f uckers   \n",
       "2619   talk.politics.guns  [ . . .deleted . . .] at least you're consiste...   \n",
       "3426   rec.sport.baseball  bunker & mcnally were later . pappas , estrada...   \n",
       "1675     rec.sport.hockey  nj> : >and , while we are on the subject , has...   \n",
       "\n",
       "       num_chars  \n",
       "index             \n",
       "2754          92  \n",
       "2608          24  \n",
       "2619         273  \n",
       "3426          75  \n",
       "1675         281  "
      ]
     },
     "execution_count": 5,
     "metadata": {},
     "output_type": "execute_result"
    }
   ],
   "source": [
    "import pandas as pd\n",
    "df_trn = pd.read_csv('data/train.csv').set_index('index')\n",
    "df_val = pd.read_csv('data/val.csv').set_index('index')\n",
    "df_trn.head()"
   ]
  },
  {
   "cell_type": "code",
   "execution_count": 6,
   "metadata": {},
   "outputs": [],
   "source": [
    "df_trn = df_trn[['text', 'label']]\n",
    "df_val = df_val[['text', 'label']]\n",
    "\n",
    "df_trn['text'] = df_trn['text'].str.split()\n",
    "df_val['text'] = df_val['text'].str.split()"
   ]
  },
  {
   "cell_type": "code",
   "execution_count": 7,
   "metadata": {},
   "outputs": [],
   "source": [
    "# Language model data\n",
    "print('Getting languge model data...')\n",
    "data_lm = TextLMDataBunch.from_df(\n",
    "    train_df=df_trn, \n",
    "    valid_df=df_val, \n",
    "    path=\"\", \n",
    "    label_cols='label', \n",
    "    text_cols='text')"
   ]
  },
  {
   "cell_type": "code",
   "execution_count": 9,
   "metadata": {},
   "outputs": [],
   "source": [
    "# Classifier model data\n",
    "data_clas = TextClasDataBunch.from_df(\n",
    "    path=\"\", \n",
    "    train_df=df_trn, \n",
    "    valid_df=df_val,\n",
    "    label_cols='label', \n",
    "    text_cols='text', \n",
    "    vocab=data_lm.train_ds.vocab, \n",
    "    bs=32)\n"
   ]
  },
  {
   "cell_type": "code",
   "execution_count": null,
   "metadata": {},
   "outputs": [],
   "source": [
    "if os.fileexists(''):\n",
    "    data_clas = load_data(path, 'data_clas.pkl', bs=bs)\n",
    "else:\n",
    "    data_clas = TextClasDataBunch.from_df(\n",
    "        path=\"\", \n",
    "        train_df=df_trn, \n",
    "        valid_df=df_val,\n",
    "        label_cols='label', \n",
    "        text_cols='text', \n",
    "        vocab=data_lm.train_ds.vocab, \n",
    "        bs=32)    \n",
    "    data_clas.save('data_clas.pkl')"
   ]
  },
  {
   "cell_type": "code",
   "execution_count": 2,
   "metadata": {},
   "outputs": [],
   "source": [
    "lm_learn = language_model_learner(\n",
    "    data_lm, \n",
    "    drop_mult=0.7, \n",
    "    arch=AWD_LSTM)\n",
    "\n",
    "# Change to float16 precision. This leads to x2-x3 speedup on modern GPUs\n",
    "lm_learn = lm_learn.to_fp16(clip=0.1)\n",
    "# train the learner object with learning rate = 1e-2\n",
    "lm_learn.fit_one_cycle(cyc_len=1, max_lr=1e-2)\n",
    "# Find the optimal learning rate\n",
    "lm_learn.lr_find(start_lr=1e-07, end_lr=10)\n",
    "# Plot a graph for detecting the optimal learning rate\n",
    "lm_learn.recorder.plot()\n",
    "\n",
    "lm_learn.unfreeze()\n",
    "lm_learn.fit_one_cycle(cyc_len=1, max_lr=1e-2)\n",
    "\n",
    "# \n",
    "lm_learn.save_encoder('ft_enc')\n",
    "\n",
    "# \n",
    "classifier_learn = text_classifier_learner(data_clas, drop_mult=0.7)\n",
    "# \n",
    "classifier_learn.load_encoder('ft_enc')\n",
    "\n",
    "classifier_learn.lr_find()\n",
    "classifier_learn.recorder.plot()\n",
    "classifier_learn.fit_one_cycle(cyc_len=1, max_lr=1e-2)\n",
    "return classifier_learn"
   ]
  },
  {
   "cell_type": "code",
   "execution_count": 4,
   "metadata": {},
   "outputs": [
    {
     "data": {
      "text/html": [
       "<table border=\"1\" class=\"dataframe\">\n",
       "  <thead>\n",
       "    <tr style=\"text-align: left;\">\n",
       "      <th>epoch</th>\n",
       "      <th>train_loss</th>\n",
       "      <th>valid_loss</th>\n",
       "      <th>accuracy</th>\n",
       "      <th>time</th>\n",
       "    </tr>\n",
       "  </thead>\n",
       "  <tbody>\n",
       "    <tr>\n",
       "      <td>0</td>\n",
       "      <td>2.068501</td>\n",
       "      <td>1.618993</td>\n",
       "      <td>0.742504</td>\n",
       "      <td>04:33</td>\n",
       "    </tr>\n",
       "  </tbody>\n",
       "</table>"
      ],
      "text/plain": [
       "<IPython.core.display.HTML object>"
      ]
     },
     "metadata": {},
     "output_type": "display_data"
    },
    {
     "data": {
      "text/html": [],
      "text/plain": [
       "<IPython.core.display.HTML object>"
      ]
     },
     "metadata": {},
     "output_type": "display_data"
    },
    {
     "name": "stdout",
     "output_type": "stream",
     "text": [
      "LR Finder is complete, type {learner_name}.recorder.plot() to see the graph.\n"
     ]
    },
    {
     "ename": "TypeError",
     "evalue": "text_classifier_learner() missing 1 required positional argument: 'arch'",
     "output_type": "error",
     "traceback": [
      "\u001b[1;31m---------------------------------------------------------------------------\u001b[0m",
      "\u001b[1;31mTypeError\u001b[0m                                 Traceback (most recent call last)",
      "\u001b[1;32m<ipython-input-4-51e976ebd485>\u001b[0m in \u001b[0;36m<module>\u001b[1;34m\u001b[0m\n\u001b[1;32m----> 1\u001b[1;33m \u001b[0mrun_on_df\u001b[0m\u001b[1;33m(\u001b[0m\u001b[0mdf_train\u001b[0m\u001b[1;33m,\u001b[0m \u001b[0mdf_val\u001b[0m\u001b[1;33m)\u001b[0m\u001b[1;33m\u001b[0m\u001b[1;33m\u001b[0m\u001b[0m\n\u001b[0m",
      "\u001b[1;32m<ipython-input-2-1383623202f1>\u001b[0m in \u001b[0;36mrun_on_df\u001b[1;34m(df_trn, df_val)\u001b[0m\n\u001b[0;32m     39\u001b[0m \u001b[1;33m\u001b[0m\u001b[0m\n\u001b[0;32m     40\u001b[0m     \u001b[1;31m#\u001b[0m\u001b[1;33m\u001b[0m\u001b[1;33m\u001b[0m\u001b[1;33m\u001b[0m\u001b[0m\n\u001b[1;32m---> 41\u001b[1;33m     \u001b[0mclassifier_learn\u001b[0m \u001b[1;33m=\u001b[0m \u001b[0mtext_classifier_learner\u001b[0m\u001b[1;33m(\u001b[0m\u001b[0mdata_clas\u001b[0m\u001b[1;33m,\u001b[0m \u001b[0mdrop_mult\u001b[0m\u001b[1;33m=\u001b[0m\u001b[1;36m0.7\u001b[0m\u001b[1;33m)\u001b[0m\u001b[1;33m\u001b[0m\u001b[1;33m\u001b[0m\u001b[0m\n\u001b[0m\u001b[0;32m     42\u001b[0m     \u001b[1;31m#\u001b[0m\u001b[1;33m\u001b[0m\u001b[1;33m\u001b[0m\u001b[1;33m\u001b[0m\u001b[0m\n\u001b[0;32m     43\u001b[0m     \u001b[0mclassifier_learn\u001b[0m\u001b[1;33m.\u001b[0m\u001b[0mload_encoder\u001b[0m\u001b[1;33m(\u001b[0m\u001b[1;34m'ft_enc'\u001b[0m\u001b[1;33m)\u001b[0m\u001b[1;33m\u001b[0m\u001b[1;33m\u001b[0m\u001b[0m\n",
      "\u001b[1;31mTypeError\u001b[0m: text_classifier_learner() missing 1 required positional argument: 'arch'"
     ]
    },
    {
     "data": {
      "image/png": "[encoded data removed]",
      "text/plain": [
       "<Figure size 432x288 with 1 Axes>"
      ]
     },
     "metadata": {
      "needs_background": "light"
     },
     "output_type": "display_data"
    }
   ],
   "source": [
    "run_on_df(df_train, df_val)"
   ]
  },
  {
   "cell_type": "code",
   "execution_count": null,
   "metadata": {},
   "outputs": [],
   "source": []
  }
 ],
 "metadata": {
  "kernelspec": {
   "display_name": "Python 3",
   "language": "python",
   "name": "python3"
  },
  "language_info": {
   "codemirror_mode": {
    "name": "ipython",
    "version": 3
   },
   "file_extension": ".py",
   "mimetype": "text/x-python",
   "name": "python",
   "nbconvert_exporter": "python",
   "pygments_lexer": "ipython3",
   "version": "3.7.3"
  }
 },
 "nbformat": 4,
 "nbformat_minor": 2
}
