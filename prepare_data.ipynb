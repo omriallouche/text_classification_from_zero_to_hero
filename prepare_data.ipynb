{
 "cells": [
  {
   "cell_type": "markdown",
   "metadata": {},
   "source": [
    "# Data Preparation\n",
    "## Part 1 of the Workshop \"Text Classification - From Zero to Hero\", by Dr. Omri Allouche, Gong.io, Bar Ilan University\n",
    "In this notebook, we prepare the data for analysis, and save it as CSV files.  \n",
    "We will create different files for train, validation and test named `train.csv`, `val.csv` and `test.csv`.  \n",
    "The Fast-BERT package gets as an input a folder containing these 3 files, and a file with the possible labels."
   ]
  },
  {
   "cell_type": "markdown",
   "metadata": {},
   "source": [
    "In the notebook [Bag of Words and Tf-Idf](bow_tfidf.ipynb) we perform basic Exploratory Data Analysis on the dataset."
   ]
  },
  {
   "cell_type": "markdown",
   "metadata": {},
   "source": [
    "For this exercise, we will use only some of the groups - `rec.sport.baseball`, `rec.sport.hockey`, `talk.politics.guns`, `talk.politics.mideast`.  \n",
    "We will also get only the post text, and remove its header information."
   ]
  },
  {
   "cell_type": "code",
   "execution_count": 1,
   "metadata": {},
   "outputs": [],
   "source": [
    "import seaborn as sns\n",
    "import matplotlib.pyplot as plt"
   ]
  },
  {
   "cell_type": "code",
   "execution_count": 2,
   "metadata": {},
   "outputs": [],
   "source": [
    "from sklearn.datasets import fetch_20newsgroups\n",
    "\n",
    "types_to_remove = ('headers', 'footers', 'quotes')\n",
    "newsgroups_categories = ['rec.sport.baseball', 'rec.sport.hockey', 'talk.politics.guns', 'talk.politics.mideast']\n",
    "\n",
    "newsgroups_data = fetch_20newsgroups(subset='all',\n",
    "                                      categories=newsgroups_categories,\n",
    "                                      remove=types_to_remove)"
   ]
  },
  {
   "cell_type": "code",
   "execution_count": 3,
   "metadata": {},
   "outputs": [],
   "source": [
    "import pandas as pd\n",
    "df = pd.DataFrame({'original_text': newsgroups_data.data, \n",
    "                   'target': newsgroups_data.target,\n",
    "                  'label': [newsgroups_data.target_names[x] for x in newsgroups_data.target]})"
   ]
  },
  {
   "cell_type": "code",
   "execution_count": 4,
   "metadata": {},
   "outputs": [
    {
     "data": {
      "text/plain": [
       "(3843, 3)"
      ]
     },
     "execution_count": 4,
     "metadata": {},
     "output_type": "execute_result"
    }
   ],
   "source": [
    "df.shape"
   ]
  },
  {
   "cell_type": "markdown",
   "metadata": {},
   "source": [
    "Next we'll perform basis preprocessing of the text.  "
   ]
  },
  {
   "cell_type": "code",
   "execution_count": 5,
   "metadata": {},
   "outputs": [],
   "source": [
    "def preprocess_text(txt):\n",
    "    txt = txt.replace('\\n', ' ').replace('...', '.').replace('\\r', ' ').replace('\\t', ' ')\n",
    "    # txt = txt.replace('?', ' ?').replace('.', ' .').replace(',', ' ,')\n",
    "    txt = txt.lower().strip()\n",
    "    txt = txt.split(' ')\n",
    "    txt = \" \".join([w for w in txt if w!=''])\n",
    "    return txt"
   ]
  },
  {
   "cell_type": "code",
   "execution_count": 6,
   "metadata": {},
   "outputs": [],
   "source": [
    "df['text'] = df['original_text'].apply(preprocess_text)"
   ]
  },
  {
   "cell_type": "code",
   "execution_count": 7,
   "metadata": {},
   "outputs": [],
   "source": [
    "# Let's filter out documents that are empty after our preprocessing\n",
    "df['num_chars'] = df['text'].apply(len)\n",
    "df = df[ df['num_chars']>0 ]"
   ]
  },
  {
   "cell_type": "code",
   "execution_count": 8,
   "metadata": {},
   "outputs": [
    {
     "name": "stdout",
     "output_type": "stream",
     "text": [
      "...\n",
      "\n",
      "If we are indeed talking about CS, then this is not quite accurate. CS is\n",
      "\"just\" tear gas--albeit the worst kind. It isn't a nausea gas, and doesn't\n",
      "have direct CNS effects. However, it's quite bad--much worse than CN gas. I\n",
      "was briefly exposed to it once (during an engagement in Berkeley circa 1968\n",
      "8^) and it's not the kind of thing you forget. It seems to be\n",
      "moisture-activated--it not only made my eyes sting and water, but attacked\n",
      "my breathing passages and lungs. Breathing was painful, and my entire face\n",
      "felt as if it was on fire. These effects persisted for hours after\n",
      "exposure, and I was coughing for days afterwards.  If I was exposed to a\n",
      "dense concentration of this stuff in a closed space for several hours, I\n",
      "doubt whether I could find the exit. Indeed, I can't imagine living through\n",
      "it.\n",
      "\n",
      "\n",
      ". if we are indeed talking about cs, then this is not quite accurate. cs is \"just\" tear gas--albeit the worst kind. it isn't a nausea gas, and doesn't have direct cns effects. however, it's quite bad--much worse than cn gas. i was briefly exposed to it once (during an engagement in berkeley circa 1968 8^) and it's not the kind of thing you forget. it seems to be moisture-activated--it not only made my eyes sting and water, but attacked my breathing passages and lungs. breathing was painful, and my entire face felt as if it was on fire. these effects persisted for hours after exposure, and i was coughing for days afterwards. if i was exposed to a dense concentration of this stuff in a closed space for several hours, i doubt whether i could find the exit. indeed, i can't imagine living through it.\n"
     ]
    }
   ],
   "source": [
    "print(df.iloc[1]['original_text'])\n",
    "print(df.iloc[1]['text'])"
   ]
  },
  {
   "cell_type": "code",
   "execution_count": 9,
   "metadata": {},
   "outputs": [
    {
     "data": {
      "text/plain": [
       "(0, 500)"
      ]
     },
     "execution_count": 9,
     "metadata": {},
     "output_type": "execute_result"
    },
    {
     "data": {
      "image/png": "[encoded data removed]",
      "text/plain": [
       "<Figure size 432x288 with 1 Axes>"
      ]
     },
     "metadata": {
      "needs_background": "light"
     },
     "output_type": "display_data"
    }
   ],
   "source": [
    "sns.boxplot(data=df, y='label', x='num_chars')\n",
    "plt.xlim(0,500)"
   ]
  },
  {
   "cell_type": "code",
   "execution_count": 10,
   "metadata": {},
   "outputs": [
    {
     "data": {
      "text/plain": [
       "(3012, 5)"
      ]
     },
     "execution_count": 10,
     "metadata": {},
     "output_type": "execute_result"
    }
   ],
   "source": [
    "df = df[ df['num_chars']>=200 ]\n",
    "df.shape"
   ]
  },
  {
   "cell_type": "code",
   "execution_count": 11,
   "metadata": {},
   "outputs": [
    {
     "data": {
      "text/plain": [
       "(738, 5)"
      ]
     },
     "execution_count": 11,
     "metadata": {},
     "output_type": "execute_result"
    }
   ],
   "source": [
    "df = df[ df['num_chars']<=400 ]\n",
    "df.shape"
   ]
  },
  {
   "cell_type": "code",
   "execution_count": 12,
   "metadata": {},
   "outputs": [
    {
     "data": {
      "text/plain": [
       "rec.sport.baseball       223\n",
       "rec.sport.hockey         207\n",
       "talk.politics.guns       177\n",
       "talk.politics.mideast    131\n",
       "Name: label, dtype: int64"
      ]
     },
     "execution_count": 12,
     "metadata": {},
     "output_type": "execute_result"
    }
   ],
   "source": [
    "df['label'].value_counts()"
   ]
  },
  {
   "cell_type": "code",
   "execution_count": 13,
   "metadata": {},
   "outputs": [],
   "source": [
    "g = df.groupby('label')\n",
    "df = pd.DataFrame(g.apply(lambda x: x.sample(g.size().min()).reset_index(drop=True)))"
   ]
  },
  {
   "cell_type": "code",
   "execution_count": 14,
   "metadata": {},
   "outputs": [
    {
     "data": {
      "text/plain": [
       "talk.politics.mideast    131\n",
       "rec.sport.baseball       131\n",
       "talk.politics.guns       131\n",
       "rec.sport.hockey         131\n",
       "Name: label, dtype: int64"
      ]
     },
     "execution_count": 14,
     "metadata": {},
     "output_type": "execute_result"
    }
   ],
   "source": [
    "df['label'].value_counts()"
   ]
  },
  {
   "cell_type": "code",
   "execution_count": 15,
   "metadata": {},
   "outputs": [],
   "source": [
    "import os\n",
    "os.makedirs('data/', exist_ok=True)"
   ]
  },
  {
   "cell_type": "code",
   "execution_count": 16,
   "metadata": {},
   "outputs": [],
   "source": [
    "# Save the entire dataset to a single file\n",
    "df.to_csv('data/20newsgroups.csv', index=False)\n",
    "df = df.drop(['original_text', 'target'], axis=1)"
   ]
  },
  {
   "cell_type": "code",
   "execution_count": 17,
   "metadata": {},
   "outputs": [],
   "source": [
    "# Save files for train, test and validation\n",
    "# df = df.reset_index()\n",
    "df_train = df.sample(frac=0.7, random_state=0)\n",
    "df_test = df.drop(df_train.index)\n",
    "df_val = df_test.sample(frac=0.5, random_state=0)\n",
    "df_test = df_test.drop(df_val.index)"
   ]
  },
  {
   "cell_type": "code",
   "execution_count": 18,
   "metadata": {},
   "outputs": [
    {
     "data": {
      "text/html": [
       "<div>\n",
       "<style scoped>\n",
       "    .dataframe tbody tr th:only-of-type {\n",
       "        vertical-align: middle;\n",
       "    }\n",
       "\n",
       "    .dataframe tbody tr th {\n",
       "        vertical-align: top;\n",
       "    }\n",
       "\n",
       "    .dataframe thead th {\n",
       "        text-align: right;\n",
       "    }\n",
       "</style>\n",
       "<table border=\"1\" class=\"dataframe\">\n",
       "  <thead>\n",
       "    <tr style=\"text-align: right;\">\n",
       "      <th></th>\n",
       "      <th></th>\n",
       "      <th>label</th>\n",
       "      <th>text</th>\n",
       "      <th>num_chars</th>\n",
       "    </tr>\n",
       "    <tr>\n",
       "      <th>label</th>\n",
       "      <th></th>\n",
       "      <th></th>\n",
       "      <th></th>\n",
       "      <th></th>\n",
       "    </tr>\n",
       "  </thead>\n",
       "  <tbody>\n",
       "    <tr>\n",
       "      <th rowspan=\"5\" valign=\"top\">rec.sport.baseball</th>\n",
       "      <th>0</th>\n",
       "      <td>rec.sport.baseball</td>\n",
       "      <td>i wish i hadn't sold my copy of jewish basebal...</td>\n",
       "      <td>299</td>\n",
       "    </tr>\n",
       "    <tr>\n",
       "      <th>9</th>\n",
       "      <td>rec.sport.baseball</td>\n",
       "      <td>the best one i saw last year was willie mcgee ...</td>\n",
       "      <td>210</td>\n",
       "    </tr>\n",
       "    <tr>\n",
       "      <th>23</th>\n",
       "      <td>rec.sport.baseball</td>\n",
       "      <td>the answer is - they're stupid. seriously, i t...</td>\n",
       "      <td>354</td>\n",
       "    </tr>\n",
       "    <tr>\n",
       "      <th>28</th>\n",
       "      <td>rec.sport.baseball</td>\n",
       "      <td>newsgroups: rec.sport.baseball harry talks abo...</td>\n",
       "      <td>297</td>\n",
       "    </tr>\n",
       "    <tr>\n",
       "      <th>31</th>\n",
       "      <td>rec.sport.baseball</td>\n",
       "      <td>i would like to make everyone aware that in wi...</td>\n",
       "      <td>224</td>\n",
       "    </tr>\n",
       "  </tbody>\n",
       "</table>\n",
       "</div>"
      ],
      "text/plain": [
       "                                    label  \\\n",
       "label                                       \n",
       "rec.sport.baseball 0   rec.sport.baseball   \n",
       "                   9   rec.sport.baseball   \n",
       "                   23  rec.sport.baseball   \n",
       "                   28  rec.sport.baseball   \n",
       "                   31  rec.sport.baseball   \n",
       "\n",
       "                                                                    text  \\\n",
       "label                                                                      \n",
       "rec.sport.baseball 0   i wish i hadn't sold my copy of jewish basebal...   \n",
       "                   9   the best one i saw last year was willie mcgee ...   \n",
       "                   23  the answer is - they're stupid. seriously, i t...   \n",
       "                   28  newsgroups: rec.sport.baseball harry talks abo...   \n",
       "                   31  i would like to make everyone aware that in wi...   \n",
       "\n",
       "                       num_chars  \n",
       "label                             \n",
       "rec.sport.baseball 0         299  \n",
       "                   9         210  \n",
       "                   23        354  \n",
       "                   28        297  \n",
       "                   31        224  "
      ]
     },
     "execution_count": 18,
     "metadata": {},
     "output_type": "execute_result"
    }
   ],
   "source": [
    "df_test.head()"
   ]
  },
  {
   "cell_type": "code",
   "execution_count": 19,
   "metadata": {},
   "outputs": [],
   "source": [
    "df_train.to_csv('data/train.csv', index=False)\n",
    "df_val.to_csv('data/val.csv', index=False)\n",
    "df_test.to_csv('data/test.csv', index=False)"
   ]
  },
  {
   "cell_type": "code",
   "execution_count": 20,
   "metadata": {},
   "outputs": [
    {
     "name": "stderr",
     "output_type": "stream",
     "text": [
      "C:\\ProgramData\\Anaconda3\\lib\\site-packages\\ipykernel_launcher.py:2: FutureWarning: The signature of `Series.to_csv` was aligned to that of `DataFrame.to_csv`, and argument 'header' will change its default value from False to True: please pass an explicit value to suppress this warning.\n",
      "  \n"
     ]
    }
   ],
   "source": [
    "# Save a labels.csv file, needed for fast-bert\n",
    "pd.Series(df['label'].unique()).to_csv('data/labels.csv', index=False)"
   ]
  },
  {
   "cell_type": "code",
   "execution_count": null,
   "metadata": {},
   "outputs": [],
   "source": []
  }
 ],
 "metadata": {
  "kernelspec": {
   "display_name": "Python 3",
   "language": "python",
   "name": "python3"
  },
  "language_info": {
   "codemirror_mode": {
    "name": "ipython",
    "version": 3
   },
   "file_extension": ".py",
   "mimetype": "text/x-python",
   "name": "python",
   "nbconvert_exporter": "python",
   "pygments_lexer": "ipython3",
   "version": "3.7.3"
  }
 },
 "nbformat": 4,
 "nbformat_minor": 2
}
